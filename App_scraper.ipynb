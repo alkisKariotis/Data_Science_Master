{
 "cells": [
  {
   "cell_type": "markdown",
   "id": "56088705-120f-4aa9-ade5-9cfe0afd280e",
   "metadata": {},
   "source": [
    "# Google Play Store App Scraper"
   ]
  },
  {
   "cell_type": "markdown",
   "id": "0026e32b-17a6-412f-9cf7-8bbd0ea8eec2",
   "metadata": {},
   "source": [
    "## Importing Libraries"
   ]
  },
  {
   "cell_type": "code",
   "execution_count": 1,
   "id": "c08b4dba-450c-41bd-ad8a-7bbcc724a2f3",
   "metadata": {},
   "outputs": [
    {
     "name": "stderr",
     "output_type": "stream",
     "text": [
      "[nltk_data] Downloading package wordnet to /Users/alkis/nltk_data...\n",
      "[nltk_data]   Package wordnet is already up-to-date!\n",
      "[nltk_data] Downloading package averaged_perceptron_tagger to\n",
      "[nltk_data]     /Users/alkis/nltk_data...\n",
      "[nltk_data]   Package averaged_perceptron_tagger is already up-to-\n",
      "[nltk_data]       date!\n"
     ]
    }
   ],
   "source": [
    "import json\n",
    "import re\n",
    "import nltk\n",
    "import pandas as pd\n",
    "from tqdm import tqdm\n",
    "import seaborn as sns\n",
    "import matplotlib.pyplot as plt\n",
    "from IPython.display import HTML\n",
    "from pygments import highlight\n",
    "from pygments.lexers import JsonLexer\n",
    "from pygments.formatters import TerminalFormatter\n",
    "from google_play_scraper import Sort, reviews, app, search\n",
    "from nltk.corpus import wordnet\n",
    "from sklearn.metrics.pairwise import cosine_similarity\n",
    "from sklearn.feature_extraction.text import ENGLISH_STOP_WORDS\n",
    "from nltk.stem import SnowballStemmer\n",
    "from collections import defaultdict\n",
    "from sklearn.feature_extraction.text import TfidfVectorizer\n",
    "from textblob import TextBlob\n",
    "from sklearn.decomposition import LatentDirichletAllocation\n",
    "from collections import Counter\n",
    "from sklearn.model_selection import train_test_split\n",
    "from sklearn.naive_bayes import MultinomialNB\n",
    "from sklearn.preprocessing import LabelEncoder\n",
    "from sklearn.metrics import classification_report\n",
    "from sklearn.cluster import KMeans\n",
    "from gensim.models import Word2Vec\n",
    "\n",
    "%matplotlib inline\n",
    "%config InlineBackend.figure_format='retina'\n",
    "\n",
    "nltk.download('wordnet')\n",
    "nltk.download('averaged_perceptron_tagger')\n",
    "\n",
    "sns.set(style='whitegrid', palette='muted', font_scale=1.2)"
   ]
  },
  {
   "cell_type": "markdown",
   "id": "d8d0ea6c-9557-4a7e-89a7-0b949ca95b13",
   "metadata": {},
   "source": [
    "## Searching for apps in the Google Play"
   ]
  },
  {
   "cell_type": "code",
   "execution_count": 2,
   "id": "345a3833-d691-466b-8416-9ae1380262dd",
   "metadata": {},
   "outputs": [],
   "source": [
    "result_search = search(\n",
    "    \"Social Media\",\n",
    "    lang=\"en\",  # defaults to 'en'\n",
    "    country=\"gr\",  # defaults to 'us'\n",
    "    n_hits=30  # defaults to 30 (= Google's maximum)\n",
    ")"
   ]
  },
  {
   "cell_type": "markdown",
   "id": "14374b48-eae6-4bfe-af52-597789637bfc",
   "metadata": {},
   "source": [
    "### Printing all the result search"
   ]
  },
  {
   "cell_type": "code",
   "execution_count": 3,
   "id": "d65bb31d-a85c-4110-ad9a-d7c476d14a16",
   "metadata": {},
   "outputs": [],
   "source": [
    "#Uncomment to see the results of the search\n",
    "#result_search"
   ]
  },
  {
   "cell_type": "markdown",
   "id": "d9a597a6-f1b2-4fc4-9d1c-0464e444d063",
   "metadata": {},
   "source": [
    "## Getting the necessary info from the scrape"
   ]
  },
  {
   "cell_type": "code",
   "execution_count": 4,
   "id": "4533db8f-5b78-4e24-90fe-86088a2e48bc",
   "metadata": {},
   "outputs": [
    {
     "data": {
      "text/html": [
       "<div>\n",
       "<style scoped>\n",
       "    .dataframe tbody tr th:only-of-type {\n",
       "        vertical-align: middle;\n",
       "    }\n",
       "\n",
       "    .dataframe tbody tr th {\n",
       "        vertical-align: top;\n",
       "    }\n",
       "\n",
       "    .dataframe thead th {\n",
       "        text-align: right;\n",
       "    }\n",
       "</style>\n",
       "<table border=\"1\" class=\"dataframe\">\n",
       "  <thead>\n",
       "    <tr style=\"text-align: right;\">\n",
       "      <th></th>\n",
       "      <th>appId</th>\n",
       "      <th>title</th>\n",
       "      <th>score</th>\n",
       "      <th>genre</th>\n",
       "      <th>icon</th>\n",
       "    </tr>\n",
       "  </thead>\n",
       "  <tbody>\n",
       "    <tr>\n",
       "      <th>0</th>\n",
       "      <td>com.snapchat.android</td>\n",
       "      <td>Snapchat</td>\n",
       "      <td>4.295431</td>\n",
       "      <td>Communication</td>\n",
       "      <td>https://play-lh.googleusercontent.com/KxeSAjPT...</td>\n",
       "    </tr>\n",
       "    <tr>\n",
       "      <th>1</th>\n",
       "      <td>com.instagram.android</td>\n",
       "      <td>Instagram</td>\n",
       "      <td>4.090300</td>\n",
       "      <td>Social</td>\n",
       "      <td>https://play-lh.googleusercontent.com/VRMWkE5p...</td>\n",
       "    </tr>\n",
       "    <tr>\n",
       "      <th>2</th>\n",
       "      <td>com.zhiliaoapp.musically</td>\n",
       "      <td>TikTok</td>\n",
       "      <td>4.382048</td>\n",
       "      <td>Social</td>\n",
       "      <td>https://play-lh.googleusercontent.com/LdBITldj...</td>\n",
       "    </tr>\n",
       "    <tr>\n",
       "      <th>3</th>\n",
       "      <td>com.pinterest</td>\n",
       "      <td>Pinterest</td>\n",
       "      <td>4.631640</td>\n",
       "      <td>Lifestyle</td>\n",
       "      <td>https://play-lh.googleusercontent.com/dVsv8Hc4...</td>\n",
       "    </tr>\n",
       "    <tr>\n",
       "      <th>4</th>\n",
       "      <td>com.facebook.katana</td>\n",
       "      <td>Facebook</td>\n",
       "      <td>3.912504</td>\n",
       "      <td>Social</td>\n",
       "      <td>https://play-lh.googleusercontent.com/KCMTYuiT...</td>\n",
       "    </tr>\n",
       "    <tr>\n",
       "      <th>5</th>\n",
       "      <td>com.twitter.android</td>\n",
       "      <td>X</td>\n",
       "      <td>4.047458</td>\n",
       "      <td>Social</td>\n",
       "      <td>https://play-lh.googleusercontent.com/A-Rnrh0J...</td>\n",
       "    </tr>\n",
       "    <tr>\n",
       "      <th>6</th>\n",
       "      <td>com.reddit.frontpage</td>\n",
       "      <td>Reddit</td>\n",
       "      <td>3.838656</td>\n",
       "      <td>Social</td>\n",
       "      <td>https://play-lh.googleusercontent.com/6Bexlvoh...</td>\n",
       "    </tr>\n",
       "    <tr>\n",
       "      <th>7</th>\n",
       "      <td>com.vkontakte.android</td>\n",
       "      <td>VK: music, video, messenger</td>\n",
       "      <td>4.377358</td>\n",
       "      <td>Social</td>\n",
       "      <td>https://play-lh.googleusercontent.com/GntsGclz...</td>\n",
       "    </tr>\n",
       "    <tr>\n",
       "      <th>8</th>\n",
       "      <td>com.linkedin.android</td>\n",
       "      <td>LinkedIn: Jobs &amp; Business News</td>\n",
       "      <td>4.372365</td>\n",
       "      <td>Business</td>\n",
       "      <td>https://play-lh.googleusercontent.com/kMofEFLj...</td>\n",
       "    </tr>\n",
       "    <tr>\n",
       "      <th>9</th>\n",
       "      <td>com.bereal.ft</td>\n",
       "      <td>BeReal. Your friends for real.</td>\n",
       "      <td>4.488584</td>\n",
       "      <td>Social</td>\n",
       "      <td>https://play-lh.googleusercontent.com/8Lu1K0dD...</td>\n",
       "    </tr>\n",
       "    <tr>\n",
       "      <th>10</th>\n",
       "      <td>com.facebook.lite</td>\n",
       "      <td>Facebook Lite</td>\n",
       "      <td>4.017383</td>\n",
       "      <td>Social</td>\n",
       "      <td>https://play-lh.googleusercontent.com/Tll2LETW...</td>\n",
       "    </tr>\n",
       "    <tr>\n",
       "      <th>11</th>\n",
       "      <td>tv.twitch.android.app</td>\n",
       "      <td>Twitch: Live Game Streaming</td>\n",
       "      <td>4.316871</td>\n",
       "      <td>Entertainment</td>\n",
       "      <td>https://play-lh.googleusercontent.com/QLQzL-MX...</td>\n",
       "    </tr>\n",
       "    <tr>\n",
       "      <th>12</th>\n",
       "      <td>video.like</td>\n",
       "      <td>Likee - Short Video Community</td>\n",
       "      <td>4.477842</td>\n",
       "      <td>Social</td>\n",
       "      <td>https://play-lh.googleusercontent.com/axTLH7P0...</td>\n",
       "    </tr>\n",
       "    <tr>\n",
       "      <th>13</th>\n",
       "      <td>me.zepeto.main</td>\n",
       "      <td>ZEPETO: Avatar, Connect &amp; Play</td>\n",
       "      <td>4.215017</td>\n",
       "      <td>Entertainment</td>\n",
       "      <td>https://play-lh.googleusercontent.com/0Zj0BJfw...</td>\n",
       "    </tr>\n",
       "    <tr>\n",
       "      <th>14</th>\n",
       "      <td>ru.ok.android</td>\n",
       "      <td>OK: Social Network</td>\n",
       "      <td>4.445087</td>\n",
       "      <td>Social</td>\n",
       "      <td>https://play-lh.googleusercontent.com/AmPk1bWS...</td>\n",
       "    </tr>\n",
       "    <tr>\n",
       "      <th>15</th>\n",
       "      <td>sg.bigo.live</td>\n",
       "      <td>Bigo Live–Live Stream, Go Live</td>\n",
       "      <td>4.610620</td>\n",
       "      <td>Social</td>\n",
       "      <td>https://play-lh.googleusercontent.com/CydApfJP...</td>\n",
       "    </tr>\n",
       "  </tbody>\n",
       "</table>\n",
       "</div>"
      ],
      "text/plain": [
       "                       appId                           title     score  \\\n",
       "0       com.snapchat.android                        Snapchat  4.295431   \n",
       "1      com.instagram.android                       Instagram  4.090300   \n",
       "2   com.zhiliaoapp.musically                          TikTok  4.382048   \n",
       "3              com.pinterest                       Pinterest  4.631640   \n",
       "4        com.facebook.katana                        Facebook  3.912504   \n",
       "5        com.twitter.android                               X  4.047458   \n",
       "6       com.reddit.frontpage                          Reddit  3.838656   \n",
       "7      com.vkontakte.android     VK: music, video, messenger  4.377358   \n",
       "8       com.linkedin.android  LinkedIn: Jobs & Business News  4.372365   \n",
       "9              com.bereal.ft  BeReal. Your friends for real.  4.488584   \n",
       "10         com.facebook.lite                   Facebook Lite  4.017383   \n",
       "11     tv.twitch.android.app     Twitch: Live Game Streaming  4.316871   \n",
       "12                video.like   Likee - Short Video Community  4.477842   \n",
       "13            me.zepeto.main  ZEPETO: Avatar, Connect & Play  4.215017   \n",
       "14             ru.ok.android              OK: Social Network  4.445087   \n",
       "15              sg.bigo.live  Bigo Live–Live Stream, Go Live  4.610620   \n",
       "\n",
       "            genre                                               icon  \n",
       "0   Communication  https://play-lh.googleusercontent.com/KxeSAjPT...  \n",
       "1          Social  https://play-lh.googleusercontent.com/VRMWkE5p...  \n",
       "2          Social  https://play-lh.googleusercontent.com/LdBITldj...  \n",
       "3       Lifestyle  https://play-lh.googleusercontent.com/dVsv8Hc4...  \n",
       "4          Social  https://play-lh.googleusercontent.com/KCMTYuiT...  \n",
       "5          Social  https://play-lh.googleusercontent.com/A-Rnrh0J...  \n",
       "6          Social  https://play-lh.googleusercontent.com/6Bexlvoh...  \n",
       "7          Social  https://play-lh.googleusercontent.com/GntsGclz...  \n",
       "8        Business  https://play-lh.googleusercontent.com/kMofEFLj...  \n",
       "9          Social  https://play-lh.googleusercontent.com/8Lu1K0dD...  \n",
       "10         Social  https://play-lh.googleusercontent.com/Tll2LETW...  \n",
       "11  Entertainment  https://play-lh.googleusercontent.com/QLQzL-MX...  \n",
       "12         Social  https://play-lh.googleusercontent.com/axTLH7P0...  \n",
       "13  Entertainment  https://play-lh.googleusercontent.com/0Zj0BJfw...  \n",
       "14         Social  https://play-lh.googleusercontent.com/AmPk1bWS...  \n",
       "15         Social  https://play-lh.googleusercontent.com/CydApfJP...  "
      ]
     },
     "execution_count": 4,
     "metadata": {},
     "output_type": "execute_result"
    }
   ],
   "source": [
    "# Create a list of dictionaries with the extracted data\n",
    "extracted_data = [{'appId': entry['appId'], 'title': entry['title'], 'score': entry['score'], 'genre': entry['genre'], 'icon': entry['icon']} for entry in result_search]\n",
    "\n",
    "#Data Frame created from the list of dictionaries\n",
    "df = pd.DataFrame(extracted_data)\n",
    "\n",
    "df"
   ]
  },
  {
   "cell_type": "markdown",
   "id": "6498f873-add2-4056-ade5-b76507744c65",
   "metadata": {},
   "source": [
    "### Just printing the logos of the scraped apps from the Google Play Store"
   ]
  },
  {
   "cell_type": "code",
   "execution_count": 5,
   "id": "a3fffe8d-b8a3-42f6-a868-660feff4c922",
   "metadata": {},
   "outputs": [
    {
     "data": {
      "text/html": [
       "<div style='display: flex; flex-wrap: wrap;'><div style='margin: 10px;'><img src='https://play-lh.googleusercontent.com/KxeSAjPTKliCErbivNiXrd6cTwfbqUJcbSRPe_IBVK_YmwckfMRS1VIHz-5cgT09yMo' style='width: 150px;'></div><div style='margin: 10px;'><img src='https://play-lh.googleusercontent.com/VRMWkE5p3CkWhJs6nv-9ZsLAs1QOg5ob1_3qg-rckwYW7yp1fMrYZqnEFpk0IoVP4LM' style='width: 150px;'></div><div style='margin: 10px;'><img src='https://play-lh.googleusercontent.com/LdBITldj-tJxqLm-CsWSbnt4BMo2gk53cgM7mWIL-zn44m1ywLyQgxRsHKqp8r0qceXs' style='width: 150px;'></div><div style='margin: 10px;'><img src='https://play-lh.googleusercontent.com/dVsv8Hc4TOUeLFAahxR8KANg22W9dj2jBsTW1VHv3CV-5NCZjP9D9i2j5IpfVx2NTB8' style='width: 150px;'></div><div style='margin: 10px;'><img src='https://play-lh.googleusercontent.com/KCMTYuiTrKom4Vyf0G4foetVOwhKWzNbHWumV73IXexAIy5TTgZipL52WTt8ICL-oIo' style='width: 150px;'></div><div style='margin: 10px;'><img src='https://play-lh.googleusercontent.com/A-Rnrh0J7iKmABskTonqFAANRLGTGUg_nuE4PEMYwJavL3nPt5uWsU2WO_DSgV_mOOM' style='width: 150px;'></div><div style='margin: 10px;'><img src='https://play-lh.googleusercontent.com/6Bexlvoh-v0z0YnxzXo_U5e5A6UdAETe8pIYyQ2E2KfhVf2BK5J83pFXKZbt125FHHQ' style='width: 150px;'></div><div style='margin: 10px;'><img src='https://play-lh.googleusercontent.com/GntsGclzheXXASOhjSF1lCOPOznM_OARDObiTW_NQZtpYVwPQr_0ARyRyiXB0_OocmI' style='width: 150px;'></div><div style='margin: 10px;'><img src='https://play-lh.googleusercontent.com/kMofEFLjobZy_bCuaiDogzBcUT-dz3BBbOrIEjJ-hqOabjK8ieuevGe6wlTD15QzOqw' style='width: 150px;'></div><div style='margin: 10px;'><img src='https://play-lh.googleusercontent.com/8Lu1K0dDM8hFB3wlkUgUvOOw9hc7NRwVijiEPqeXZhzz7t2Q3jktTZ_aqT3kofwurG4' style='width: 150px;'></div><div style='margin: 10px;'><img src='https://play-lh.googleusercontent.com/Tll2LETWf7s67vK-OXqI3CbpwraoUK6tJH73z034zumyJa6CrWx1OTaYNQWj9jMKQUMU' style='width: 150px;'></div><div style='margin: 10px;'><img src='https://play-lh.googleusercontent.com/QLQzL-MXtxKEDlbhrQCDw-REiDsA9glUH4m16syfar_KVLRXlzOhN7tmAceiPerv4Jg' style='width: 150px;'></div><div style='margin: 10px;'><img src='https://play-lh.googleusercontent.com/axTLH7P0ddsTsM0Vaoxl0hkoJH8EWIxWEdCV7oN9nulmRUVEA_8oq16vmh8Ii2oIaw' style='width: 150px;'></div><div style='margin: 10px;'><img src='https://play-lh.googleusercontent.com/0Zj0BJfw92NqF45YST2cs-Chh0jK3oLpfm8bRkXrQCuFWJzebecotzuM3Imq4BQ2Fu2k' style='width: 150px;'></div><div style='margin: 10px;'><img src='https://play-lh.googleusercontent.com/AmPk1bWSXcrQw6IOvLyfNZFhB_f_TH-PEBQjW0H7eiF538X3LHO7HlpFWaDOP-p__Q' style='width: 150px;'></div><div style='margin: 10px;'><img src='https://play-lh.googleusercontent.com/CydApfJP6lqM_No4g7V8e59RscTGDMz0ADV3NGvrCZPxPtTixAuYi7iU8DeSGgQT2Oc' style='width: 150px;'></div></div>"
      ],
      "text/plain": [
       "<IPython.core.display.HTML object>"
      ]
     },
     "execution_count": 5,
     "metadata": {},
     "output_type": "execute_result"
    }
   ],
   "source": [
    "html = \"<div style='display: flex; flex-wrap: wrap;'>\"\n",
    "for index, row in df.iterrows():\n",
    "    img_url = row['icon']\n",
    "    html += f\"<div style='margin: 10px;'><img src='{img_url}' style='width: 150px;'></div>\"\n",
    "html += \"</div>\"\n",
    "\n",
    "HTML(html)"
   ]
  },
  {
   "cell_type": "markdown",
   "id": "2afc977d-37f2-4749-8c9d-6013d52b8ca7",
   "metadata": {},
   "source": [
    "## App Reviews"
   ]
  },
  {
   "cell_type": "markdown",
   "id": "79b8bb4b-9265-487c-99f7-7374b45ccbae",
   "metadata": {},
   "source": [
    "### Testing for one app only"
   ]
  },
  {
   "cell_type": "code",
   "execution_count": 6,
   "id": "e932efe2-2e1e-4896-8c48-fbecd00155d9",
   "metadata": {},
   "outputs": [
    {
     "data": {
      "text/plain": [
       "'com.instagram.android'"
      ]
     },
     "execution_count": 6,
     "metadata": {},
     "output_type": "execute_result"
    }
   ],
   "source": [
    "df['appId'][1]"
   ]
  },
  {
   "cell_type": "code",
   "execution_count": 7,
   "id": "9142e692-0b1b-40dd-9f66-01ee012b04d5",
   "metadata": {},
   "outputs": [],
   "source": [
    "# Sort.NEWEST (default): Sort reviews by the newest first.\n",
    "# Sort.RATING: Sort reviews by the highest rating first.\n",
    "# Sort.HELPFULNESS: Sort reviews by the most helpful first.\n",
    "\n",
    "result_reviews, continuation_token = reviews(\n",
    "    df['appId'][1],\n",
    "    lang='en', # defaults to 'en'\n",
    "    country='gr', # defaults to 'us'\n",
    "    sort=Sort.NEWEST, # defaults to Sort.NEWEST\n",
    "    count=200, # defaults to 100\n",
    "    filter_score_with=None # defaults to None(means all score)\n",
    ")\n",
    "\n",
    "result_reviews, _ = reviews(\n",
    "    df['appId'][1],\n",
    "    continuation_token=continuation_token # defaults to None(load from the beginning)\n",
    ")"
   ]
  },
  {
   "cell_type": "code",
   "execution_count": 8,
   "id": "90fdc2c5-bbc0-4ee2-ab7a-c4955a25d56f",
   "metadata": {},
   "outputs": [],
   "source": [
    "#Uncomment to see the results of the search\n",
    "#result_reviews"
   ]
  },
  {
   "cell_type": "code",
   "execution_count": 9,
   "id": "abcfa4c4-c51a-49fc-bf23-e8818f7cf1e4",
   "metadata": {},
   "outputs": [
    {
     "data": {
      "text/plain": [
       "{'reviewId': '5ef549c2-8cda-4318-80a0-5ee34dbe9274',\n",
       " 'userName': 'DINESH KUMAR SINGH',\n",
       " 'userImage': 'https://play-lh.googleusercontent.com/a-/ALV-UjWY9McmeXZbTS_hI--LDcNCka1J8Ob4Eb0ifzNCA--5jSA',\n",
       " 'content': 'Too good',\n",
       " 'score': 3,\n",
       " 'thumbsUpCount': 0,\n",
       " 'reviewCreatedVersion': '307.0.0.34.111',\n",
       " 'at': datetime.datetime(2023, 11, 6, 18, 7, 51),\n",
       " 'replyContent': None,\n",
       " 'repliedAt': None,\n",
       " 'appVersion': '307.0.0.34.111'}"
      ]
     },
     "execution_count": 9,
     "metadata": {},
     "output_type": "execute_result"
    }
   ],
   "source": [
    "result_reviews[4]"
   ]
  },
  {
   "cell_type": "markdown",
   "id": "5b087591-3fa9-4f10-aa8f-aacac7ab7dea",
   "metadata": {},
   "source": [
    "### Going for all the apps in the aforementioned DataFrame"
   ]
  },
  {
   "cell_type": "code",
   "execution_count": 10,
   "id": "49dd0ec0-8bff-4780-9ac1-4d2300159fce",
   "metadata": {},
   "outputs": [
    {
     "name": "stderr",
     "output_type": "stream",
     "text": [
      "100%|███████████████████████████████████████████| 16/16 [01:40<00:00,  6.27s/it]\n"
     ]
    }
   ],
   "source": [
    "app_reviews = []\n",
    "\n",
    "for ap in tqdm(df['appId']):\n",
    "  for score in list(range(1, 6)):\n",
    "    for sort_order in [Sort.MOST_RELEVANT, Sort.NEWEST]:\n",
    "      rvs, _ = reviews(\n",
    "        ap,\n",
    "        lang='en',\n",
    "        country='gr',\n",
    "        sort=sort_order,\n",
    "        count= 200 if score == 3 else 100, #Going with that in order to create a balanced dataset, because most of the apps are towards 5 stars rating\n",
    "        filter_score_with=score\n",
    "      )\n",
    "      for r in rvs:\n",
    "        r['sortOrder'] = 'most_relevant' if sort_order == Sort.MOST_RELEVANT else 'newest'\n",
    "        r['appId'] = ap\n",
    "      app_reviews.extend(rvs)"
   ]
  },
  {
   "cell_type": "code",
   "execution_count": 11,
   "id": "7dca6923-1d2a-4d9f-9bcc-eaa7e1949468",
   "metadata": {},
   "outputs": [
    {
     "name": "stdout",
     "output_type": "stream",
     "text": [
      "{'reviewId': '031a5fc8-966f-46b6-8546-f107b69b4eef', 'userName': 'Kristel Hoxha', 'userImage': 'https://play-lh.googleusercontent.com/a/ACg8ocJbJWuW7Cmob4mvrt88UwKert1nk74WW5E6rtSWouOS=mo', 'content': \"Snapchat was a great app. But after so many updates it only seems to get worse. Is the AI feature and getting notifications when someone is typing really that necessary? It crashes every single time. Posting stories and texting has has became really frustrating. When I'm viewing a story it crashes and glitches by itself. Sometimes I don't even get notifications at all. And the 3d bitmojis look absolutely horrible. Video calling with friends has become really glitchy and the audio doesn't work.\", 'score': 1, 'thumbsUpCount': 1728, 'reviewCreatedVersion': '12.62.1.53', 'at': datetime.datetime(2023, 11, 30, 20, 25, 50), 'replyContent': None, 'repliedAt': None, 'appVersion': '12.62.1.53', 'sortOrder': 'most_relevant', 'appId': 'com.snapchat.android'}\n"
     ]
    }
   ],
   "source": [
    "#Printing one just to be sure\n",
    "print(app_reviews[0])"
   ]
  },
  {
   "cell_type": "code",
   "execution_count": 12,
   "id": "cfffcbda-ace7-4fac-b1cf-4b36fe9f5013",
   "metadata": {},
   "outputs": [
    {
     "data": {
      "text/plain": [
       "19200"
      ]
     },
     "execution_count": 12,
     "metadata": {},
     "output_type": "execute_result"
    }
   ],
   "source": [
    "#Total Rows of the dataset // Total Reviews for all the apps\n",
    "len(app_reviews)"
   ]
  },
  {
   "cell_type": "code",
   "execution_count": 13,
   "id": "df86b62d-f90f-403a-a007-704e1d4c967a",
   "metadata": {},
   "outputs": [],
   "source": [
    "#Saving all the ratings into one csv file with the name reviews.csv\n",
    "app_reviews_df = pd.DataFrame(app_reviews)\n",
    "app_reviews_df.to_csv('reviews.csv', index=None, header=True)"
   ]
  },
  {
   "cell_type": "markdown",
   "id": "15214f4d-b499-492d-a0c1-f30600efbc13",
   "metadata": {},
   "source": [
    "# Data Collection and Preprocessing"
   ]
  },
  {
   "cell_type": "markdown",
   "id": "a6203f1a-4c4e-48dd-ae8d-8ae94bc27ca6",
   "metadata": {},
   "source": [
    "## Load and inspect the dataset"
   ]
  },
  {
   "cell_type": "code",
   "execution_count": 14,
   "id": "88977d91-cb7e-4ead-a6e9-a4fc6e2e631c",
   "metadata": {},
   "outputs": [
    {
     "data": {
      "text/html": [
       "<div>\n",
       "<style scoped>\n",
       "    .dataframe tbody tr th:only-of-type {\n",
       "        vertical-align: middle;\n",
       "    }\n",
       "\n",
       "    .dataframe tbody tr th {\n",
       "        vertical-align: top;\n",
       "    }\n",
       "\n",
       "    .dataframe thead th {\n",
       "        text-align: right;\n",
       "    }\n",
       "</style>\n",
       "<table border=\"1\" class=\"dataframe\">\n",
       "  <thead>\n",
       "    <tr style=\"text-align: right;\">\n",
       "      <th></th>\n",
       "      <th>reviewId</th>\n",
       "      <th>userName</th>\n",
       "      <th>userImage</th>\n",
       "      <th>content</th>\n",
       "      <th>score</th>\n",
       "      <th>thumbsUpCount</th>\n",
       "      <th>reviewCreatedVersion</th>\n",
       "      <th>at</th>\n",
       "      <th>replyContent</th>\n",
       "      <th>repliedAt</th>\n",
       "      <th>appVersion</th>\n",
       "      <th>sortOrder</th>\n",
       "      <th>appId</th>\n",
       "    </tr>\n",
       "  </thead>\n",
       "  <tbody>\n",
       "    <tr>\n",
       "      <th>0</th>\n",
       "      <td>031a5fc8-966f-46b6-8546-f107b69b4eef</td>\n",
       "      <td>Kristel Hoxha</td>\n",
       "      <td>https://play-lh.googleusercontent.com/a/ACg8oc...</td>\n",
       "      <td>Snapchat was a great app. But after so many up...</td>\n",
       "      <td>1</td>\n",
       "      <td>1728</td>\n",
       "      <td>12.62.1.53</td>\n",
       "      <td>2023-11-30 20:25:50</td>\n",
       "      <td>NaN</td>\n",
       "      <td>NaN</td>\n",
       "      <td>12.62.1.53</td>\n",
       "      <td>most_relevant</td>\n",
       "      <td>com.snapchat.android</td>\n",
       "    </tr>\n",
       "    <tr>\n",
       "      <th>1</th>\n",
       "      <td>007b588f-5290-4819-bed6-67d44c6e2141</td>\n",
       "      <td>Dude Man</td>\n",
       "      <td>https://play-lh.googleusercontent.com/a-/ALV-U...</td>\n",
       "      <td>I loved this app, but ever since the last upda...</td>\n",
       "      <td>1</td>\n",
       "      <td>25465</td>\n",
       "      <td>12.60.0.58</td>\n",
       "      <td>2023-11-14 08:17:40</td>\n",
       "      <td>NaN</td>\n",
       "      <td>NaN</td>\n",
       "      <td>12.60.0.58</td>\n",
       "      <td>most_relevant</td>\n",
       "      <td>com.snapchat.android</td>\n",
       "    </tr>\n",
       "    <tr>\n",
       "      <th>2</th>\n",
       "      <td>09df455b-b7e0-4d4f-a6df-c60f90071a93</td>\n",
       "      <td>Max Wood</td>\n",
       "      <td>https://play-lh.googleusercontent.com/a-/ALV-U...</td>\n",
       "      <td>Just updated my phone and suddenly, the filter...</td>\n",
       "      <td>1</td>\n",
       "      <td>15</td>\n",
       "      <td>12.62.1.53</td>\n",
       "      <td>2023-12-01 21:07:37</td>\n",
       "      <td>NaN</td>\n",
       "      <td>NaN</td>\n",
       "      <td>12.62.1.53</td>\n",
       "      <td>most_relevant</td>\n",
       "      <td>com.snapchat.android</td>\n",
       "    </tr>\n",
       "    <tr>\n",
       "      <th>3</th>\n",
       "      <td>41c07c62-9fa5-4d31-bb3c-a09dd9a7ae9f</td>\n",
       "      <td>Chris Monnin</td>\n",
       "      <td>https://play-lh.googleusercontent.com/a-/ALV-U...</td>\n",
       "      <td>Pretty much the only way I communicate. But re...</td>\n",
       "      <td>1</td>\n",
       "      <td>3217</td>\n",
       "      <td>12.60.0.58</td>\n",
       "      <td>2023-11-22 19:50:27</td>\n",
       "      <td>NaN</td>\n",
       "      <td>NaN</td>\n",
       "      <td>12.60.0.58</td>\n",
       "      <td>most_relevant</td>\n",
       "      <td>com.snapchat.android</td>\n",
       "    </tr>\n",
       "    <tr>\n",
       "      <th>4</th>\n",
       "      <td>f3239f0f-f95a-4272-91b2-eb1f5b72b3f9</td>\n",
       "      <td>Falah Aftab</td>\n",
       "      <td>https://play-lh.googleusercontent.com/a/ACg8oc...</td>\n",
       "      <td>Firstly, I have noticed that the search functi...</td>\n",
       "      <td>1</td>\n",
       "      <td>2154</td>\n",
       "      <td>12.60.0.58</td>\n",
       "      <td>2023-11-17 00:37:52</td>\n",
       "      <td>NaN</td>\n",
       "      <td>NaN</td>\n",
       "      <td>12.60.0.58</td>\n",
       "      <td>most_relevant</td>\n",
       "      <td>com.snapchat.android</td>\n",
       "    </tr>\n",
       "  </tbody>\n",
       "</table>\n",
       "</div>"
      ],
      "text/plain": [
       "                               reviewId       userName  \\\n",
       "0  031a5fc8-966f-46b6-8546-f107b69b4eef  Kristel Hoxha   \n",
       "1  007b588f-5290-4819-bed6-67d44c6e2141       Dude Man   \n",
       "2  09df455b-b7e0-4d4f-a6df-c60f90071a93       Max Wood   \n",
       "3  41c07c62-9fa5-4d31-bb3c-a09dd9a7ae9f   Chris Monnin   \n",
       "4  f3239f0f-f95a-4272-91b2-eb1f5b72b3f9    Falah Aftab   \n",
       "\n",
       "                                           userImage  \\\n",
       "0  https://play-lh.googleusercontent.com/a/ACg8oc...   \n",
       "1  https://play-lh.googleusercontent.com/a-/ALV-U...   \n",
       "2  https://play-lh.googleusercontent.com/a-/ALV-U...   \n",
       "3  https://play-lh.googleusercontent.com/a-/ALV-U...   \n",
       "4  https://play-lh.googleusercontent.com/a/ACg8oc...   \n",
       "\n",
       "                                             content  score  thumbsUpCount  \\\n",
       "0  Snapchat was a great app. But after so many up...      1           1728   \n",
       "1  I loved this app, but ever since the last upda...      1          25465   \n",
       "2  Just updated my phone and suddenly, the filter...      1             15   \n",
       "3  Pretty much the only way I communicate. But re...      1           3217   \n",
       "4  Firstly, I have noticed that the search functi...      1           2154   \n",
       "\n",
       "  reviewCreatedVersion                   at replyContent repliedAt  \\\n",
       "0           12.62.1.53  2023-11-30 20:25:50          NaN       NaN   \n",
       "1           12.60.0.58  2023-11-14 08:17:40          NaN       NaN   \n",
       "2           12.62.1.53  2023-12-01 21:07:37          NaN       NaN   \n",
       "3           12.60.0.58  2023-11-22 19:50:27          NaN       NaN   \n",
       "4           12.60.0.58  2023-11-17 00:37:52          NaN       NaN   \n",
       "\n",
       "   appVersion      sortOrder                 appId  \n",
       "0  12.62.1.53  most_relevant  com.snapchat.android  \n",
       "1  12.60.0.58  most_relevant  com.snapchat.android  \n",
       "2  12.62.1.53  most_relevant  com.snapchat.android  \n",
       "3  12.60.0.58  most_relevant  com.snapchat.android  \n",
       "4  12.60.0.58  most_relevant  com.snapchat.android  "
      ]
     },
     "execution_count": 14,
     "metadata": {},
     "output_type": "execute_result"
    }
   ],
   "source": [
    "reviews_df = pd.read_csv('reviews.csv')\n",
    "\n",
    "# Display the first few rows\n",
    "reviews_df.head()"
   ]
  },
  {
   "cell_type": "markdown",
   "id": "9dd0460f-6f18-4661-ab49-d4af7f27af3e",
   "metadata": {},
   "source": [
    "## Drop duplicate reviews based on content"
   ]
  },
  {
   "cell_type": "code",
   "execution_count": 15,
   "id": "7d8c4336-8b08-40fe-97aa-bb84a24f4219",
   "metadata": {},
   "outputs": [],
   "source": [
    "reviews_df.drop_duplicates(subset='content', inplace=True)"
   ]
  },
  {
   "cell_type": "markdown",
   "id": "37540095-4a48-4ade-9ffc-34828e499d13",
   "metadata": {},
   "source": [
    "## Remove columns that might contain PII or are not relevant"
   ]
  },
  {
   "cell_type": "code",
   "execution_count": 16,
   "id": "cd021289-0aeb-44ed-8108-daf68ea0f67c",
   "metadata": {},
   "outputs": [],
   "source": [
    "columns_to_drop = ['reviewId', 'userName', 'userImage', 'replyContent', 'repliedAt']\n",
    "reviews_df.drop(columns=columns_to_drop, inplace=True)"
   ]
  },
  {
   "cell_type": "markdown",
   "id": "ae200ec8-1298-4a57-baa4-9227d954c548",
   "metadata": {},
   "source": [
    "## Clean, tokenize, stem, and remove stopwords from the review content"
   ]
  },
  {
   "cell_type": "code",
   "execution_count": 17,
   "id": "ac11989c-c160-4f64-9179-1677894287b5",
   "metadata": {},
   "outputs": [],
   "source": [
    "def clean_tokenize(text):\n",
    "    text = text.lower()\n",
    "    text = re.sub(r'[^a-z\\s]', '', text)\n",
    "    words = text.split()\n",
    "    words = [word for word in words if word not in ENGLISH_STOP_WORDS]\n",
    "    stemmer = SnowballStemmer(language='english')\n",
    "    words = [stemmer.stem(word) for word in words]\n",
    "    return ' '.join(words)\n",
    "\n",
    "reviews_df['content'].fillna(\"missing_content\", inplace=True)\n",
    "reviews_df['cleaned_content'] = reviews_df['content'].apply(clean_tokenize)"
   ]
  },
  {
   "cell_type": "markdown",
   "id": "ad3dfa25-fff0-417e-a262-810ef9d95c69",
   "metadata": {},
   "source": [
    "# Indexing and Retrieval"
   ]
  },
  {
   "cell_type": "markdown",
   "id": "d3afdb2c-50c5-4ee2-9fc3-87435ff404b6",
   "metadata": {},
   "source": [
    "## Build an inverted index"
   ]
  },
  {
   "cell_type": "code",
   "execution_count": 18,
   "id": "083f4e1b-d839-4274-83bf-b59e127a1730",
   "metadata": {},
   "outputs": [],
   "source": [
    "def build_inverted_index(df):\n",
    "    inverted_index = defaultdict(set)\n",
    "    for idx, content in df['cleaned_content'].items():\n",
    "        for word in content.split():\n",
    "            inverted_index[word].add(idx)\n",
    "    return inverted_index\n",
    "\n",
    "inverted_index = build_inverted_index(reviews_df)"
   ]
  },
  {
   "cell_type": "markdown",
   "id": "f377dc1f-496f-475a-a26e-6bc89cc6b764",
   "metadata": {},
   "source": [
    "## Positional Index"
   ]
  },
  {
   "cell_type": "code",
   "execution_count": 19,
   "id": "986d8706-be27-4017-86d1-2df0bb3c14fa",
   "metadata": {},
   "outputs": [],
   "source": [
    "def build_positional_index(df):\n",
    "    positional_index = defaultdict(lambda: defaultdict(list))\n",
    "    for idx, content in df['cleaned_content'].items():\n",
    "        for position, word in enumerate(content.split()):\n",
    "            positional_index[word][idx].append(position)\n",
    "    return positional_index\n",
    "\n",
    "positional_index = build_positional_index(reviews_df)"
   ]
  },
  {
   "cell_type": "markdown",
   "id": "7c9e43e9-63ac-4bcf-bd85-57f67cff6502",
   "metadata": {},
   "source": [
    "## Use TF-IDF to rank reviews based on relevance"
   ]
  },
  {
   "cell_type": "code",
   "execution_count": 20,
   "id": "a40b7db2-8b8c-42f7-9596-dc3522910bb4",
   "metadata": {},
   "outputs": [],
   "source": [
    "vectorizer = TfidfVectorizer()\n",
    "tfidf_matrix = vectorizer.fit_transform(reviews_df['cleaned_content'])"
   ]
  },
  {
   "cell_type": "code",
   "execution_count": 21,
   "id": "6c3376fd-074a-476f-aa6d-85cb8d35bfad",
   "metadata": {},
   "outputs": [
    {
     "data": {
      "text/plain": [
       "<16493x13647 sparse matrix of type '<class 'numpy.float64'>'\n",
       "\twith 234048 stored elements in Compressed Sparse Row format>"
      ]
     },
     "execution_count": 21,
     "metadata": {},
     "output_type": "execute_result"
    }
   ],
   "source": [
    "tfidf_matrix"
   ]
  },
  {
   "cell_type": "markdown",
   "id": "9f9987a6-673c-4502-95e0-2290f49d346d",
   "metadata": {},
   "source": [
    "# Query Processing"
   ]
  },
  {
   "cell_type": "markdown",
   "id": "78c91bfb-b862-40f5-86ff-f9efd5cf7b47",
   "metadata": {},
   "source": [
    "## Implement query expansion using synonyms (a simple example using NLTK's WordNet)"
   ]
  },
  {
   "cell_type": "code",
   "execution_count": 22,
   "id": "6d17201e-c012-4ff8-8d1e-9a008bdcb27e",
   "metadata": {},
   "outputs": [],
   "source": [
    "from nltk.corpus import wordnet\n",
    "\n",
    "def expand_query(query):\n",
    "    synonyms = set()\n",
    "    for word in query.split():\n",
    "        for syn in wordnet.synsets(word):\n",
    "            for lemma in syn.lemmas():\n",
    "                synonyms.add(lemma.name())\n",
    "    return \" \".join(synonyms)\n",
    "\n",
    "expanded_query = expand_query(\"example_query\")"
   ]
  },
  {
   "cell_type": "code",
   "execution_count": 23,
   "id": "ecdebfc0-6998-4b11-ab15-3fbf86558058",
   "metadata": {},
   "outputs": [
    {
     "data": {
      "text/plain": [
       "''"
      ]
     },
     "execution_count": 23,
     "metadata": {},
     "output_type": "execute_result"
    }
   ],
   "source": [
    "expanded_query"
   ]
  },
  {
   "cell_type": "markdown",
   "id": "8cdb515c-6eb2-4f92-b850-2dce875c5c36",
   "metadata": {},
   "source": [
    "## Boolean Retrieval"
   ]
  },
  {
   "cell_type": "code",
   "execution_count": 24,
   "id": "c4b3ca31-0c14-4b08-be9d-50aeda6336fc",
   "metadata": {},
   "outputs": [],
   "source": [
    "def boolean_search(query, index):\n",
    "    terms = [term for term in query.split() if term not in ['AND', 'OR', 'NOT']]\n",
    "    sets = [set(index.get(term, {})) for term in terms]\n",
    "\n",
    "    if 'AND' in query:\n",
    "        result = set.intersection(*sets)\n",
    "    elif 'OR' in query:\n",
    "        result = set.union(*sets)\n",
    "    elif 'NOT' in query:\n",
    "        result = sets[0] - sets[1]\n",
    "    else:\n",
    "        result = sets[0]\n",
    "\n",
    "    return result\n",
    "\n",
    "# Example usage\n",
    "results = boolean_search('performance AND good', inverted_index)"
   ]
  },
  {
   "cell_type": "code",
   "execution_count": 25,
   "id": "86191063-f612-4a6b-81eb-2fb05fb763dd",
   "metadata": {},
   "outputs": [
    {
     "data": {
      "text/plain": [
       "set()"
      ]
     },
     "execution_count": 25,
     "metadata": {},
     "output_type": "execute_result"
    }
   ],
   "source": [
    "results"
   ]
  },
  {
   "cell_type": "markdown",
   "id": "a6566b5f-2a1c-40f4-856a-04a0c9345103",
   "metadata": {},
   "source": [
    "# Sentiment Analysis"
   ]
  },
  {
   "cell_type": "markdown",
   "id": "4b4841d8-6822-4d8f-83b7-d914224f1600",
   "metadata": {},
   "source": [
    "## Perform sentiment analysis"
   ]
  },
  {
   "cell_type": "code",
   "execution_count": 26,
   "id": "92d901e2-af05-42d0-95e4-a6c38cb502e7",
   "metadata": {},
   "outputs": [],
   "source": [
    "def get_sentiment(text):\n",
    "    analysis = TextBlob(text)\n",
    "    if analysis.sentiment.polarity > 0:\n",
    "        return 'positive'\n",
    "    elif analysis.sentiment.polarity == 0:\n",
    "        return 'neutral'\n",
    "    else:\n",
    "        return 'negative'\n",
    "\n",
    "reviews_df['sentiment'] = reviews_df['content'].apply(get_sentiment)"
   ]
  },
  {
   "cell_type": "code",
   "execution_count": 27,
   "id": "018cf770-ef92-45e7-9fa4-ed9e01d76adb",
   "metadata": {},
   "outputs": [
    {
     "data": {
      "text/html": [
       "<div>\n",
       "<style scoped>\n",
       "    .dataframe tbody tr th:only-of-type {\n",
       "        vertical-align: middle;\n",
       "    }\n",
       "\n",
       "    .dataframe tbody tr th {\n",
       "        vertical-align: top;\n",
       "    }\n",
       "\n",
       "    .dataframe thead th {\n",
       "        text-align: right;\n",
       "    }\n",
       "</style>\n",
       "<table border=\"1\" class=\"dataframe\">\n",
       "  <thead>\n",
       "    <tr style=\"text-align: right;\">\n",
       "      <th></th>\n",
       "      <th>content</th>\n",
       "      <th>score</th>\n",
       "      <th>thumbsUpCount</th>\n",
       "      <th>reviewCreatedVersion</th>\n",
       "      <th>at</th>\n",
       "      <th>appVersion</th>\n",
       "      <th>sortOrder</th>\n",
       "      <th>appId</th>\n",
       "      <th>cleaned_content</th>\n",
       "      <th>sentiment</th>\n",
       "    </tr>\n",
       "  </thead>\n",
       "  <tbody>\n",
       "    <tr>\n",
       "      <th>0</th>\n",
       "      <td>Snapchat was a great app. But after so many up...</td>\n",
       "      <td>1</td>\n",
       "      <td>1728</td>\n",
       "      <td>12.62.1.53</td>\n",
       "      <td>2023-11-30 20:25:50</td>\n",
       "      <td>12.62.1.53</td>\n",
       "      <td>most_relevant</td>\n",
       "      <td>com.snapchat.android</td>\n",
       "      <td>snapchat great app updat wors ai featur get no...</td>\n",
       "      <td>negative</td>\n",
       "    </tr>\n",
       "    <tr>\n",
       "      <th>1</th>\n",
       "      <td>I loved this app, but ever since the last upda...</td>\n",
       "      <td>1</td>\n",
       "      <td>25465</td>\n",
       "      <td>12.60.0.58</td>\n",
       "      <td>2023-11-14 08:17:40</td>\n",
       "      <td>12.60.0.58</td>\n",
       "      <td>most_relevant</td>\n",
       "      <td>com.snapchat.android</td>\n",
       "      <td>love app updat filter dont work filter alter s...</td>\n",
       "      <td>positive</td>\n",
       "    </tr>\n",
       "    <tr>\n",
       "      <th>2</th>\n",
       "      <td>Just updated my phone and suddenly, the filter...</td>\n",
       "      <td>1</td>\n",
       "      <td>15</td>\n",
       "      <td>12.62.1.53</td>\n",
       "      <td>2023-12-01 21:07:37</td>\n",
       "      <td>12.62.1.53</td>\n",
       "      <td>most_relevant</td>\n",
       "      <td>com.snapchat.android</td>\n",
       "      <td>just updat phone sudden filter arent work prop...</td>\n",
       "      <td>positive</td>\n",
       "    </tr>\n",
       "    <tr>\n",
       "      <th>3</th>\n",
       "      <td>Pretty much the only way I communicate. But re...</td>\n",
       "      <td>1</td>\n",
       "      <td>3217</td>\n",
       "      <td>12.60.0.58</td>\n",
       "      <td>2023-11-22 19:50:27</td>\n",
       "      <td>12.60.0.58</td>\n",
       "      <td>most_relevant</td>\n",
       "      <td>com.snapchat.android</td>\n",
       "      <td>pretti way communic recent send messag snap wo...</td>\n",
       "      <td>positive</td>\n",
       "    </tr>\n",
       "    <tr>\n",
       "      <th>4</th>\n",
       "      <td>Firstly, I have noticed that the search functi...</td>\n",
       "      <td>1</td>\n",
       "      <td>2154</td>\n",
       "      <td>12.60.0.58</td>\n",
       "      <td>2023-11-17 00:37:52</td>\n",
       "      <td>12.60.0.58</td>\n",
       "      <td>most_relevant</td>\n",
       "      <td>com.snapchat.android</td>\n",
       "      <td>first notic search function snapchat load prop...</td>\n",
       "      <td>positive</td>\n",
       "    </tr>\n",
       "    <tr>\n",
       "      <th>...</th>\n",
       "      <td>...</td>\n",
       "      <td>...</td>\n",
       "      <td>...</td>\n",
       "      <td>...</td>\n",
       "      <td>...</td>\n",
       "      <td>...</td>\n",
       "      <td>...</td>\n",
       "      <td>...</td>\n",
       "      <td>...</td>\n",
       "      <td>...</td>\n",
       "    </tr>\n",
       "    <tr>\n",
       "      <th>19193</th>\n",
       "      <td>NICE 👍</td>\n",
       "      <td>5</td>\n",
       "      <td>1</td>\n",
       "      <td>6.5.1</td>\n",
       "      <td>2023-12-02 23:03:00</td>\n",
       "      <td>6.5.1</td>\n",
       "      <td>newest</td>\n",
       "      <td>sg.bigo.live</td>\n",
       "      <td>nice</td>\n",
       "      <td>positive</td>\n",
       "    </tr>\n",
       "    <tr>\n",
       "      <th>19195</th>\n",
       "      <td>U want this</td>\n",
       "      <td>5</td>\n",
       "      <td>0</td>\n",
       "      <td>NaN</td>\n",
       "      <td>2023-12-02 22:45:23</td>\n",
       "      <td>NaN</td>\n",
       "      <td>newest</td>\n",
       "      <td>sg.bigo.live</td>\n",
       "      <td>u want</td>\n",
       "      <td>neutral</td>\n",
       "    </tr>\n",
       "    <tr>\n",
       "      <th>19196</th>\n",
       "      <td>This is something you have to experience for y...</td>\n",
       "      <td>5</td>\n",
       "      <td>0</td>\n",
       "      <td>NaN</td>\n",
       "      <td>2023-12-02 22:37:11</td>\n",
       "      <td>NaN</td>\n",
       "      <td>newest</td>\n",
       "      <td>sg.bigo.live</td>\n",
       "      <td>experi self</td>\n",
       "      <td>neutral</td>\n",
       "    </tr>\n",
       "    <tr>\n",
       "      <th>19198</th>\n",
       "      <td>Wow that's Is a Best platform</td>\n",
       "      <td>5</td>\n",
       "      <td>0</td>\n",
       "      <td>NaN</td>\n",
       "      <td>2023-12-02 22:32:56</td>\n",
       "      <td>NaN</td>\n",
       "      <td>newest</td>\n",
       "      <td>sg.bigo.live</td>\n",
       "      <td>wow that best platform</td>\n",
       "      <td>positive</td>\n",
       "    </tr>\n",
       "    <tr>\n",
       "      <th>19199</th>\n",
       "      <td>Cannot compare.</td>\n",
       "      <td>5</td>\n",
       "      <td>0</td>\n",
       "      <td>6.4.3</td>\n",
       "      <td>2023-12-02 22:28:11</td>\n",
       "      <td>6.4.3</td>\n",
       "      <td>newest</td>\n",
       "      <td>sg.bigo.live</td>\n",
       "      <td>compar</td>\n",
       "      <td>neutral</td>\n",
       "    </tr>\n",
       "  </tbody>\n",
       "</table>\n",
       "<p>16493 rows × 10 columns</p>\n",
       "</div>"
      ],
      "text/plain": [
       "                                                 content  score  \\\n",
       "0      Snapchat was a great app. But after so many up...      1   \n",
       "1      I loved this app, but ever since the last upda...      1   \n",
       "2      Just updated my phone and suddenly, the filter...      1   \n",
       "3      Pretty much the only way I communicate. But re...      1   \n",
       "4      Firstly, I have noticed that the search functi...      1   \n",
       "...                                                  ...    ...   \n",
       "19193                                             NICE 👍      5   \n",
       "19195                                        U want this      5   \n",
       "19196  This is something you have to experience for y...      5   \n",
       "19198                      Wow that's Is a Best platform      5   \n",
       "19199                                    Cannot compare.      5   \n",
       "\n",
       "       thumbsUpCount reviewCreatedVersion                   at  appVersion  \\\n",
       "0               1728           12.62.1.53  2023-11-30 20:25:50  12.62.1.53   \n",
       "1              25465           12.60.0.58  2023-11-14 08:17:40  12.60.0.58   \n",
       "2                 15           12.62.1.53  2023-12-01 21:07:37  12.62.1.53   \n",
       "3               3217           12.60.0.58  2023-11-22 19:50:27  12.60.0.58   \n",
       "4               2154           12.60.0.58  2023-11-17 00:37:52  12.60.0.58   \n",
       "...              ...                  ...                  ...         ...   \n",
       "19193              1                6.5.1  2023-12-02 23:03:00       6.5.1   \n",
       "19195              0                  NaN  2023-12-02 22:45:23         NaN   \n",
       "19196              0                  NaN  2023-12-02 22:37:11         NaN   \n",
       "19198              0                  NaN  2023-12-02 22:32:56         NaN   \n",
       "19199              0                6.4.3  2023-12-02 22:28:11       6.4.3   \n",
       "\n",
       "           sortOrder                 appId  \\\n",
       "0      most_relevant  com.snapchat.android   \n",
       "1      most_relevant  com.snapchat.android   \n",
       "2      most_relevant  com.snapchat.android   \n",
       "3      most_relevant  com.snapchat.android   \n",
       "4      most_relevant  com.snapchat.android   \n",
       "...              ...                   ...   \n",
       "19193         newest          sg.bigo.live   \n",
       "19195         newest          sg.bigo.live   \n",
       "19196         newest          sg.bigo.live   \n",
       "19198         newest          sg.bigo.live   \n",
       "19199         newest          sg.bigo.live   \n",
       "\n",
       "                                         cleaned_content sentiment  \n",
       "0      snapchat great app updat wors ai featur get no...  negative  \n",
       "1      love app updat filter dont work filter alter s...  positive  \n",
       "2      just updat phone sudden filter arent work prop...  positive  \n",
       "3      pretti way communic recent send messag snap wo...  positive  \n",
       "4      first notic search function snapchat load prop...  positive  \n",
       "...                                                  ...       ...  \n",
       "19193                                               nice  positive  \n",
       "19195                                             u want   neutral  \n",
       "19196                                        experi self   neutral  \n",
       "19198                             wow that best platform  positive  \n",
       "19199                                             compar   neutral  \n",
       "\n",
       "[16493 rows x 10 columns]"
      ]
     },
     "execution_count": 27,
     "metadata": {},
     "output_type": "execute_result"
    }
   ],
   "source": [
    "reviews_df"
   ]
  },
  {
   "cell_type": "markdown",
   "id": "16fb0e77-23e6-4216-9f47-c280fb6bbacc",
   "metadata": {},
   "source": [
    "## Aspect-Based Sentiment Analysis"
   ]
  },
  {
   "cell_type": "code",
   "execution_count": 28,
   "id": "0abd4cc7-5259-4aa2-a1ad-c6a796015f20",
   "metadata": {},
   "outputs": [],
   "source": [
    "aspects = ['performance', 'user interface', 'customer support']\n",
    "\n",
    "def aspect_sentiment(text):\n",
    "    aspect_sentiments = {}\n",
    "    for aspect in aspects:\n",
    "        if aspect in text:\n",
    "            sentiment = get_sentiment(text)\n",
    "            aspect_sentiments[aspect] = sentiment\n",
    "    return aspect_sentiments\n",
    "\n",
    "reviews_df['aspect_sentiments'] = reviews_df['content'].apply(aspect_sentiment)"
   ]
  },
  {
   "cell_type": "code",
   "execution_count": 29,
   "id": "dd3111ef-c30b-4555-9093-238093288e5c",
   "metadata": {},
   "outputs": [
    {
     "data": {
      "text/html": [
       "<div>\n",
       "<style scoped>\n",
       "    .dataframe tbody tr th:only-of-type {\n",
       "        vertical-align: middle;\n",
       "    }\n",
       "\n",
       "    .dataframe tbody tr th {\n",
       "        vertical-align: top;\n",
       "    }\n",
       "\n",
       "    .dataframe thead th {\n",
       "        text-align: right;\n",
       "    }\n",
       "</style>\n",
       "<table border=\"1\" class=\"dataframe\">\n",
       "  <thead>\n",
       "    <tr style=\"text-align: right;\">\n",
       "      <th></th>\n",
       "      <th>content</th>\n",
       "      <th>score</th>\n",
       "      <th>thumbsUpCount</th>\n",
       "      <th>reviewCreatedVersion</th>\n",
       "      <th>at</th>\n",
       "      <th>appVersion</th>\n",
       "      <th>sortOrder</th>\n",
       "      <th>appId</th>\n",
       "      <th>cleaned_content</th>\n",
       "      <th>sentiment</th>\n",
       "      <th>aspect_sentiments</th>\n",
       "    </tr>\n",
       "  </thead>\n",
       "  <tbody>\n",
       "    <tr>\n",
       "      <th>0</th>\n",
       "      <td>Snapchat was a great app. But after so many up...</td>\n",
       "      <td>1</td>\n",
       "      <td>1728</td>\n",
       "      <td>12.62.1.53</td>\n",
       "      <td>2023-11-30 20:25:50</td>\n",
       "      <td>12.62.1.53</td>\n",
       "      <td>most_relevant</td>\n",
       "      <td>com.snapchat.android</td>\n",
       "      <td>snapchat great app updat wors ai featur get no...</td>\n",
       "      <td>negative</td>\n",
       "      <td>{}</td>\n",
       "    </tr>\n",
       "    <tr>\n",
       "      <th>1</th>\n",
       "      <td>I loved this app, but ever since the last upda...</td>\n",
       "      <td>1</td>\n",
       "      <td>25465</td>\n",
       "      <td>12.60.0.58</td>\n",
       "      <td>2023-11-14 08:17:40</td>\n",
       "      <td>12.60.0.58</td>\n",
       "      <td>most_relevant</td>\n",
       "      <td>com.snapchat.android</td>\n",
       "      <td>love app updat filter dont work filter alter s...</td>\n",
       "      <td>positive</td>\n",
       "      <td>{}</td>\n",
       "    </tr>\n",
       "    <tr>\n",
       "      <th>2</th>\n",
       "      <td>Just updated my phone and suddenly, the filter...</td>\n",
       "      <td>1</td>\n",
       "      <td>15</td>\n",
       "      <td>12.62.1.53</td>\n",
       "      <td>2023-12-01 21:07:37</td>\n",
       "      <td>12.62.1.53</td>\n",
       "      <td>most_relevant</td>\n",
       "      <td>com.snapchat.android</td>\n",
       "      <td>just updat phone sudden filter arent work prop...</td>\n",
       "      <td>positive</td>\n",
       "      <td>{}</td>\n",
       "    </tr>\n",
       "    <tr>\n",
       "      <th>3</th>\n",
       "      <td>Pretty much the only way I communicate. But re...</td>\n",
       "      <td>1</td>\n",
       "      <td>3217</td>\n",
       "      <td>12.60.0.58</td>\n",
       "      <td>2023-11-22 19:50:27</td>\n",
       "      <td>12.60.0.58</td>\n",
       "      <td>most_relevant</td>\n",
       "      <td>com.snapchat.android</td>\n",
       "      <td>pretti way communic recent send messag snap wo...</td>\n",
       "      <td>positive</td>\n",
       "      <td>{}</td>\n",
       "    </tr>\n",
       "    <tr>\n",
       "      <th>4</th>\n",
       "      <td>Firstly, I have noticed that the search functi...</td>\n",
       "      <td>1</td>\n",
       "      <td>2154</td>\n",
       "      <td>12.60.0.58</td>\n",
       "      <td>2023-11-17 00:37:52</td>\n",
       "      <td>12.60.0.58</td>\n",
       "      <td>most_relevant</td>\n",
       "      <td>com.snapchat.android</td>\n",
       "      <td>first notic search function snapchat load prop...</td>\n",
       "      <td>positive</td>\n",
       "      <td>{}</td>\n",
       "    </tr>\n",
       "    <tr>\n",
       "      <th>...</th>\n",
       "      <td>...</td>\n",
       "      <td>...</td>\n",
       "      <td>...</td>\n",
       "      <td>...</td>\n",
       "      <td>...</td>\n",
       "      <td>...</td>\n",
       "      <td>...</td>\n",
       "      <td>...</td>\n",
       "      <td>...</td>\n",
       "      <td>...</td>\n",
       "      <td>...</td>\n",
       "    </tr>\n",
       "    <tr>\n",
       "      <th>19193</th>\n",
       "      <td>NICE 👍</td>\n",
       "      <td>5</td>\n",
       "      <td>1</td>\n",
       "      <td>6.5.1</td>\n",
       "      <td>2023-12-02 23:03:00</td>\n",
       "      <td>6.5.1</td>\n",
       "      <td>newest</td>\n",
       "      <td>sg.bigo.live</td>\n",
       "      <td>nice</td>\n",
       "      <td>positive</td>\n",
       "      <td>{}</td>\n",
       "    </tr>\n",
       "    <tr>\n",
       "      <th>19195</th>\n",
       "      <td>U want this</td>\n",
       "      <td>5</td>\n",
       "      <td>0</td>\n",
       "      <td>NaN</td>\n",
       "      <td>2023-12-02 22:45:23</td>\n",
       "      <td>NaN</td>\n",
       "      <td>newest</td>\n",
       "      <td>sg.bigo.live</td>\n",
       "      <td>u want</td>\n",
       "      <td>neutral</td>\n",
       "      <td>{}</td>\n",
       "    </tr>\n",
       "    <tr>\n",
       "      <th>19196</th>\n",
       "      <td>This is something you have to experience for y...</td>\n",
       "      <td>5</td>\n",
       "      <td>0</td>\n",
       "      <td>NaN</td>\n",
       "      <td>2023-12-02 22:37:11</td>\n",
       "      <td>NaN</td>\n",
       "      <td>newest</td>\n",
       "      <td>sg.bigo.live</td>\n",
       "      <td>experi self</td>\n",
       "      <td>neutral</td>\n",
       "      <td>{}</td>\n",
       "    </tr>\n",
       "    <tr>\n",
       "      <th>19198</th>\n",
       "      <td>Wow that's Is a Best platform</td>\n",
       "      <td>5</td>\n",
       "      <td>0</td>\n",
       "      <td>NaN</td>\n",
       "      <td>2023-12-02 22:32:56</td>\n",
       "      <td>NaN</td>\n",
       "      <td>newest</td>\n",
       "      <td>sg.bigo.live</td>\n",
       "      <td>wow that best platform</td>\n",
       "      <td>positive</td>\n",
       "      <td>{}</td>\n",
       "    </tr>\n",
       "    <tr>\n",
       "      <th>19199</th>\n",
       "      <td>Cannot compare.</td>\n",
       "      <td>5</td>\n",
       "      <td>0</td>\n",
       "      <td>6.4.3</td>\n",
       "      <td>2023-12-02 22:28:11</td>\n",
       "      <td>6.4.3</td>\n",
       "      <td>newest</td>\n",
       "      <td>sg.bigo.live</td>\n",
       "      <td>compar</td>\n",
       "      <td>neutral</td>\n",
       "      <td>{}</td>\n",
       "    </tr>\n",
       "  </tbody>\n",
       "</table>\n",
       "<p>16493 rows × 11 columns</p>\n",
       "</div>"
      ],
      "text/plain": [
       "                                                 content  score  \\\n",
       "0      Snapchat was a great app. But after so many up...      1   \n",
       "1      I loved this app, but ever since the last upda...      1   \n",
       "2      Just updated my phone and suddenly, the filter...      1   \n",
       "3      Pretty much the only way I communicate. But re...      1   \n",
       "4      Firstly, I have noticed that the search functi...      1   \n",
       "...                                                  ...    ...   \n",
       "19193                                             NICE 👍      5   \n",
       "19195                                        U want this      5   \n",
       "19196  This is something you have to experience for y...      5   \n",
       "19198                      Wow that's Is a Best platform      5   \n",
       "19199                                    Cannot compare.      5   \n",
       "\n",
       "       thumbsUpCount reviewCreatedVersion                   at  appVersion  \\\n",
       "0               1728           12.62.1.53  2023-11-30 20:25:50  12.62.1.53   \n",
       "1              25465           12.60.0.58  2023-11-14 08:17:40  12.60.0.58   \n",
       "2                 15           12.62.1.53  2023-12-01 21:07:37  12.62.1.53   \n",
       "3               3217           12.60.0.58  2023-11-22 19:50:27  12.60.0.58   \n",
       "4               2154           12.60.0.58  2023-11-17 00:37:52  12.60.0.58   \n",
       "...              ...                  ...                  ...         ...   \n",
       "19193              1                6.5.1  2023-12-02 23:03:00       6.5.1   \n",
       "19195              0                  NaN  2023-12-02 22:45:23         NaN   \n",
       "19196              0                  NaN  2023-12-02 22:37:11         NaN   \n",
       "19198              0                  NaN  2023-12-02 22:32:56         NaN   \n",
       "19199              0                6.4.3  2023-12-02 22:28:11       6.4.3   \n",
       "\n",
       "           sortOrder                 appId  \\\n",
       "0      most_relevant  com.snapchat.android   \n",
       "1      most_relevant  com.snapchat.android   \n",
       "2      most_relevant  com.snapchat.android   \n",
       "3      most_relevant  com.snapchat.android   \n",
       "4      most_relevant  com.snapchat.android   \n",
       "...              ...                   ...   \n",
       "19193         newest          sg.bigo.live   \n",
       "19195         newest          sg.bigo.live   \n",
       "19196         newest          sg.bigo.live   \n",
       "19198         newest          sg.bigo.live   \n",
       "19199         newest          sg.bigo.live   \n",
       "\n",
       "                                         cleaned_content sentiment  \\\n",
       "0      snapchat great app updat wors ai featur get no...  negative   \n",
       "1      love app updat filter dont work filter alter s...  positive   \n",
       "2      just updat phone sudden filter arent work prop...  positive   \n",
       "3      pretti way communic recent send messag snap wo...  positive   \n",
       "4      first notic search function snapchat load prop...  positive   \n",
       "...                                                  ...       ...   \n",
       "19193                                               nice  positive   \n",
       "19195                                             u want   neutral   \n",
       "19196                                        experi self   neutral   \n",
       "19198                             wow that best platform  positive   \n",
       "19199                                             compar   neutral   \n",
       "\n",
       "      aspect_sentiments  \n",
       "0                    {}  \n",
       "1                    {}  \n",
       "2                    {}  \n",
       "3                    {}  \n",
       "4                    {}  \n",
       "...                 ...  \n",
       "19193                {}  \n",
       "19195                {}  \n",
       "19196                {}  \n",
       "19198                {}  \n",
       "19199                {}  \n",
       "\n",
       "[16493 rows x 11 columns]"
      ]
     },
     "execution_count": 29,
     "metadata": {},
     "output_type": "execute_result"
    }
   ],
   "source": [
    "reviews_df"
   ]
  },
  {
   "cell_type": "markdown",
   "id": "d32e8161-158a-454b-966f-a90db449214f",
   "metadata": {},
   "source": [
    "## Identify frequent aspects and determine sentiment"
   ]
  },
  {
   "cell_type": "code",
   "execution_count": 30,
   "id": "ec04017e-a4b6-4f9a-b235-740d9373a9f5",
   "metadata": {},
   "outputs": [],
   "source": [
    "def identify_common_nouns(texts, n=10):\n",
    "    all_words = nltk.word_tokenize(\" \".join(texts))\n",
    "    nouns = [word for word, pos in nltk.pos_tag(all_words) if pos in ['NN', 'NNS']]\n",
    "    common_nouns = Counter(nouns).most_common(n)\n",
    "    return [noun[0] for noun in common_nouns]\n",
    "\n",
    "aspects = identify_common_nouns(reviews_df['content'])"
   ]
  },
  {
   "cell_type": "code",
   "execution_count": 31,
   "id": "8b39d07d-4f16-49c9-9341-c7372a57b689",
   "metadata": {},
   "outputs": [
    {
     "data": {
      "text/plain": [
       "['app',\n",
       " 'time',\n",
       " 'people',\n",
       " 'video',\n",
       " 'videos',\n",
       " 'i',\n",
       " 'phone',\n",
       " 'problem',\n",
       " 'account',\n",
       " 'friends']"
      ]
     },
     "execution_count": 31,
     "metadata": {},
     "output_type": "execute_result"
    }
   ],
   "source": [
    "aspects"
   ]
  },
  {
   "cell_type": "markdown",
   "id": "a67d9b1a-416a-4021-8d9f-695aee66b016",
   "metadata": {},
   "source": [
    "# Recommendation System"
   ]
  },
  {
   "cell_type": "markdown",
   "id": "fd46ca4b-8d59-46a0-9b83-23e0f22569a2",
   "metadata": {},
   "source": [
    "## Recommend apps based on user queries and review sentiments"
   ]
  },
  {
   "cell_type": "code",
   "execution_count": 32,
   "id": "bc61fdb1-644a-4f2e-88bf-9537a4833e93",
   "metadata": {},
   "outputs": [],
   "source": [
    "from sklearn.metrics.pairwise import cosine_similarity\n",
    "\n",
    "def recommend_apps(query):\n",
    "    query_vector = vectorizer.transform([query])\n",
    "    cosine_sim = cosine_similarity(query_vector, tfidf_matrix)\n",
    "    recommended_apps = reviews_df.iloc[cosine_sim.argsort()[0, -5:]]\n",
    "    return recommended_apps['appId']\n",
    "\n",
    "recommended_apps_list = recommend_apps(\"camera quality\")"
   ]
  },
  {
   "cell_type": "code",
   "execution_count": 33,
   "id": "c924b260-10d4-4a9b-b595-a10f4d77d0e1",
   "metadata": {},
   "outputs": [
    {
     "data": {
      "text/plain": [
       "151       com.snapchat.android\n",
       "10914            com.bereal.ft\n",
       "707       com.snapchat.android\n",
       "647       com.snapchat.android\n",
       "13370    tv.twitch.android.app\n",
       "Name: appId, dtype: object"
      ]
     },
     "execution_count": 33,
     "metadata": {},
     "output_type": "execute_result"
    }
   ],
   "source": [
    "recommended_apps_list"
   ]
  },
  {
   "cell_type": "code",
   "execution_count": 34,
   "id": "3d7029f9-6dee-4291-b4cb-80fa73cf7f36",
   "metadata": {},
   "outputs": [],
   "source": [
    "def recommend_apps_analytical(query):\n",
    "    query_vector = vectorizer.transform([query])\n",
    "    cosine_sim = cosine_similarity(query_vector, tfidf_matrix)\n",
    "    reviews_df['relevance'] = cosine_sim[0]\n",
    "    relevant_reviews = reviews_df.sort_values(by='relevance', ascending=False).head(10)\n",
    "    positive_reviews = relevant_reviews[relevant_reviews['sentiment'] == 'positive']\n",
    "    return positive_reviews['appId']\n",
    "\n",
    "recommended_apps_list_analytical = recommend_apps_analytical(\"camera quality\")"
   ]
  },
  {
   "cell_type": "code",
   "execution_count": 35,
   "id": "5703a4ef-5add-4ecf-af06-aef2f6af2b9a",
   "metadata": {},
   "outputs": [
    {
     "data": {
      "text/plain": [
       "13370    tv.twitch.android.app\n",
       "647       com.snapchat.android\n",
       "707       com.snapchat.android\n",
       "11345            com.bereal.ft\n",
       "11351            com.bereal.ft\n",
       "760       com.snapchat.android\n",
       "79        com.snapchat.android\n",
       "1490     com.instagram.android\n",
       "Name: appId, dtype: object"
      ]
     },
     "execution_count": 35,
     "metadata": {},
     "output_type": "execute_result"
    }
   ],
   "source": [
    "recommended_apps_list_analytical"
   ]
  },
  {
   "cell_type": "markdown",
   "id": "57889477-07d5-48d9-805c-9a55fe1bd5c1",
   "metadata": {},
   "source": [
    "# User Feedback Analysis"
   ]
  },
  {
   "cell_type": "markdown",
   "id": "95a550be-51f1-475d-ba2b-ed9b48cb2b49",
   "metadata": {},
   "source": [
    "## Identify common issues or concerns"
   ]
  },
  {
   "cell_type": "code",
   "execution_count": 36,
   "id": "9bf1d717-10de-4015-92b0-0df4ba5b54de",
   "metadata": {},
   "outputs": [],
   "source": [
    "from collections import Counter\n",
    "\n",
    "def common_issues(df, n=5):\n",
    "    all_words = \" \".join(df['cleaned_content']).split()\n",
    "    word_counts = Counter(all_words)\n",
    "    return word_counts.most_common(n)\n",
    "\n",
    "top_issues = common_issues(reviews_df)"
   ]
  },
  {
   "cell_type": "code",
   "execution_count": 37,
   "id": "be3a424a-1897-4fac-abe7-2b6f35d7c712",
   "metadata": {},
   "outputs": [
    {
     "data": {
      "text/plain": [
       "[('app', 10818),\n",
       " ('like', 3865),\n",
       " ('use', 3426),\n",
       " ('video', 3101),\n",
       " ('just', 2732)]"
      ]
     },
     "execution_count": 37,
     "metadata": {},
     "output_type": "execute_result"
    }
   ],
   "source": [
    "top_issues"
   ]
  },
  {
   "cell_type": "markdown",
   "id": "54dd695a-fe5b-4dc1-ac2e-56a785778d20",
   "metadata": {},
   "source": [
    "## Deep Dive into Common Issues"
   ]
  },
  {
   "cell_type": "code",
   "execution_count": 38,
   "id": "e79cdfa0-03da-4ec6-9d6a-65465942d811",
   "metadata": {},
   "outputs": [],
   "source": [
    "def deep_dive_into_issues(df, n=5):\n",
    "    issues = common_issues(df, n)\n",
    "    issue_sentiments = {}\n",
    "    for issue, _ in issues:\n",
    "        sentiments = df[df['cleaned_content'].str.contains(issue)]['sentiment'].value_counts()\n",
    "        issue_sentiments[issue] = sentiments.to_dict()\n",
    "    return issue_sentiments\n",
    "\n",
    "deep_dive_results = deep_dive_into_issues(reviews_df)"
   ]
  },
  {
   "cell_type": "code",
   "execution_count": 39,
   "id": "1d846cf6-1b9a-4673-89a7-bd6b7ca3c580",
   "metadata": {},
   "outputs": [
    {
     "data": {
      "text/plain": [
       "{'app': {'positive': 5404, 'negative': 2040, 'neutral': 565},\n",
       " 'like': {'positive': 2050, 'negative': 712, 'neutral': 178},\n",
       " 'use': {'positive': 2226, 'negative': 943, 'neutral': 154},\n",
       " 'video': {'positive': 1326, 'negative': 525, 'neutral': 146},\n",
       " 'just': {'positive': 1520, 'negative': 720, 'neutral': 101}}"
      ]
     },
     "execution_count": 39,
     "metadata": {},
     "output_type": "execute_result"
    }
   ],
   "source": [
    "deep_dive_results"
   ]
  },
  {
   "cell_type": "markdown",
   "id": "cb386bc8-5b83-4594-8b1d-2e379c06337f",
   "metadata": {},
   "source": [
    "# Topic Modeling"
   ]
  },
  {
   "cell_type": "markdown",
   "id": "5a1b3584-5de2-42bc-89fa-2d6909dac91c",
   "metadata": {},
   "source": [
    "## Apply LDA to extract topics"
   ]
  },
  {
   "cell_type": "code",
   "execution_count": 40,
   "id": "7024ea8f-6a25-44fd-92fd-23f0d896a7a2",
   "metadata": {},
   "outputs": [],
   "source": [
    "n_topics = 5\n",
    "lda = LatentDirichletAllocation(n_components=n_topics)\n",
    "topic_matrix = lda.fit_transform(tfidf_matrix)\n",
    "\n",
    "def get_top_words(lda_model, feature_names, n_words=5):\n",
    "    topics = {}\n",
    "    for topic_idx, topic in enumerate(lda_model.components_):\n",
    "        top_words = [feature_names[i] for i in topic.argsort()[:-n_words - 1:-1]]\n",
    "        topics[f\"Topic {topic_idx}\"] = top_words\n",
    "    return topics\n",
    "\n",
    "feature_names = vectorizer.get_feature_names_out()\n",
    "topics = get_top_words(lda, feature_names)"
   ]
  },
  {
   "cell_type": "markdown",
   "id": "0afc9b9a-b4a8-4ab9-9bfc-1ca3ccf17366",
   "metadata": {},
   "source": [
    "## Extract meaningful topics and understand their sentiment"
   ]
  },
  {
   "cell_type": "code",
   "execution_count": 41,
   "id": "d896c40d-39cf-4147-88cd-418809fbbf1e",
   "metadata": {},
   "outputs": [],
   "source": [
    "def topic_sentiment(lda_model, tfidf_matrix, df):\n",
    "    topic_matrix = lda_model.transform(tfidf_matrix)\n",
    "    df['topic'] = topic_matrix.argmax(axis=1)\n",
    "    topic_sentiments = df.groupby('topic')['sentiment'].value_counts().unstack().fillna(0)\n",
    "    return topic_sentiments\n",
    "\n",
    "topic_sentiments_df = topic_sentiment(lda, tfidf_matrix, reviews_df)"
   ]
  },
  {
   "cell_type": "code",
   "execution_count": 42,
   "id": "049f359e-20a5-4254-8f38-8f838b58282e",
   "metadata": {},
   "outputs": [
    {
     "data": {
      "text/html": [
       "<div>\n",
       "<style scoped>\n",
       "    .dataframe tbody tr th:only-of-type {\n",
       "        vertical-align: middle;\n",
       "    }\n",
       "\n",
       "    .dataframe tbody tr th {\n",
       "        vertical-align: top;\n",
       "    }\n",
       "\n",
       "    .dataframe thead th {\n",
       "        text-align: right;\n",
       "    }\n",
       "</style>\n",
       "<table border=\"1\" class=\"dataframe\">\n",
       "  <thead>\n",
       "    <tr style=\"text-align: right;\">\n",
       "      <th>sentiment</th>\n",
       "      <th>negative</th>\n",
       "      <th>neutral</th>\n",
       "      <th>positive</th>\n",
       "    </tr>\n",
       "    <tr>\n",
       "      <th>topic</th>\n",
       "      <th></th>\n",
       "      <th></th>\n",
       "      <th></th>\n",
       "    </tr>\n",
       "  </thead>\n",
       "  <tbody>\n",
       "    <tr>\n",
       "      <th>0</th>\n",
       "      <td>2195</td>\n",
       "      <td>1922</td>\n",
       "      <td>4319</td>\n",
       "    </tr>\n",
       "    <tr>\n",
       "      <th>1</th>\n",
       "      <td>60</td>\n",
       "      <td>324</td>\n",
       "      <td>553</td>\n",
       "    </tr>\n",
       "    <tr>\n",
       "      <th>2</th>\n",
       "      <td>53</td>\n",
       "      <td>300</td>\n",
       "      <td>280</td>\n",
       "    </tr>\n",
       "    <tr>\n",
       "      <th>3</th>\n",
       "      <td>1353</td>\n",
       "      <td>704</td>\n",
       "      <td>4025</td>\n",
       "    </tr>\n",
       "    <tr>\n",
       "      <th>4</th>\n",
       "      <td>40</td>\n",
       "      <td>269</td>\n",
       "      <td>96</td>\n",
       "    </tr>\n",
       "  </tbody>\n",
       "</table>\n",
       "</div>"
      ],
      "text/plain": [
       "sentiment  negative  neutral  positive\n",
       "topic                                 \n",
       "0              2195     1922      4319\n",
       "1                60      324       553\n",
       "2                53      300       280\n",
       "3              1353      704      4025\n",
       "4                40      269        96"
      ]
     },
     "execution_count": 42,
     "metadata": {},
     "output_type": "execute_result"
    }
   ],
   "source": [
    "topic_sentiments_df"
   ]
  },
  {
   "cell_type": "markdown",
   "id": "dd75b136-b54a-4916-b161-7ada4b6ff68f",
   "metadata": {},
   "source": [
    "# Evaluation"
   ]
  },
  {
   "cell_type": "code",
   "execution_count": 43,
   "id": "4458b70f-3398-44c2-b893-225b4117e72d",
   "metadata": {},
   "outputs": [],
   "source": [
    "def evaluate_recommendation(query):\n",
    "    recommended_apps = recommend_apps_analytical(query)\n",
    "    avg_sentiment = reviews_df[reviews_df['appId'].isin(recommended_apps)]['sentiment'].value_counts(normalize=True)\n",
    "    return avg_sentiment\n",
    "\n",
    "recommendation_evaluation = evaluate_recommendation(\"camera quality\")"
   ]
  },
  {
   "cell_type": "code",
   "execution_count": 44,
   "id": "dd5fbe57-9282-4ba7-b8df-0bc977e32991",
   "metadata": {},
   "outputs": [
    {
     "data": {
      "text/plain": [
       "positive    0.583807\n",
       "negative    0.225852\n",
       "neutral     0.190341\n",
       "Name: sentiment, dtype: float64"
      ]
     },
     "execution_count": 44,
     "metadata": {},
     "output_type": "execute_result"
    }
   ],
   "source": [
    "recommendation_evaluation"
   ]
  },
  {
   "cell_type": "markdown",
   "id": "a8219fb6-ff48-4654-8301-f6895a8b7558",
   "metadata": {},
   "source": [
    "# Visualization"
   ]
  },
  {
   "cell_type": "markdown",
   "id": "6a85517a-e219-4148-bedf-3e770d44d9ab",
   "metadata": {},
   "source": [
    "## Visualize sentiment distributions"
   ]
  },
  {
   "cell_type": "code",
   "execution_count": 45,
   "id": "5c0f230c-19ed-4e9c-b4c6-bdbe80f97af2",
   "metadata": {},
   "outputs": [
    {
     "data": {
      "image/png": "[encoded data removed]",
      "text/plain": [
       "<Figure size 640x480 with 1 Axes>"
      ]
     },
     "metadata": {
      "image/png": {
       "height": 494,
       "width": 569
      }
     },
     "output_type": "display_data"
    }
   ],
   "source": [
    "sentiment_counts = reviews_df['sentiment'].value_counts()\n",
    "sentiment_counts.plot(kind='bar', title='Sentiment Distribution')\n",
    "plt.show()"
   ]
  },
  {
   "cell_type": "markdown",
   "id": "ad921116-89c6-4213-b161-a324301cd5ff",
   "metadata": {},
   "source": [
    "## Visualize Aspect Sentiments"
   ]
  },
  {
   "cell_type": "code",
   "execution_count": 46,
   "id": "5882f7af-0492-4ce5-ac16-067a3d1b54c8",
   "metadata": {},
   "outputs": [
    {
     "data": {
      "image/png": "[encoded data removed]",
      "text/plain": [
       "<Figure size 640x480 with 1 Axes>"
      ]
     },
     "metadata": {
      "image/png": {
       "height": 491,
       "width": 603
      }
     },
     "output_type": "display_data"
    }
   ],
   "source": [
    "def plot_aspect_sentiments(df, aspects):\n",
    "    aspect_counts = {aspect: df[df['cleaned_content'].str.contains(aspect)]['sentiment'].value_counts() for aspect in aspects}\n",
    "    df_aspect = pd.DataFrame(aspect_counts).T.fillna(0)\n",
    "    df_aspect.plot(kind='bar', stacked=True, title=\"Sentiments for Different Aspects\")\n",
    "    plt.ylabel('Number of Reviews')\n",
    "    plt.show()\n",
    "\n",
    "plot_aspect_sentiments(reviews_df, aspects)"
   ]
  },
  {
   "cell_type": "markdown",
   "id": "d3bc311c-d7e2-4c16-b43f-caf6563eac40",
   "metadata": {},
   "source": [
    "# Machine Learning"
   ]
  },
  {
   "cell_type": "markdown",
   "id": "fb341e5c-e3ab-407b-ae14-c7a17adab2a7",
   "metadata": {},
   "source": [
    "## Clustering"
   ]
  },
  {
   "cell_type": "code",
   "execution_count": 47,
   "id": "3f171701-a08d-4fc7-8ebb-82925f6d6672",
   "metadata": {},
   "outputs": [],
   "source": [
    "num_clusters = 5\n",
    "kmeans = KMeans(n_clusters=num_clusters)\n",
    "reviews_df['cluster'] = kmeans.fit_predict(tfidf_matrix)"
   ]
  },
  {
   "cell_type": "code",
   "execution_count": 48,
   "id": "7bf92423-7a9c-4c24-ae21-57333be9305e",
   "metadata": {},
   "outputs": [
    {
     "data": {
      "image/png": "[encoded data removed]",
      "text/plain": [
       "<Figure size 640x480 with 1 Axes>"
      ]
     },
     "metadata": {
      "image/png": {
       "height": 458,
       "width": 593
      }
     },
     "output_type": "display_data"
    }
   ],
   "source": [
    "def plot_clusters(df):\n",
    "    cluster_counts = df['cluster'].value_counts()\n",
    "    cluster_counts.plot(kind='bar', title='Review Distribution Across Clusters')\n",
    "    plt.xlabel('Cluster')\n",
    "    plt.ylabel('Number of Reviews')\n",
    "    plt.show()\n",
    "\n",
    "plot_clusters(reviews_df)"
   ]
  },
  {
   "cell_type": "markdown",
   "id": "d3d0622c-fcb8-470a-bbb3-609972310aa2",
   "metadata": {},
   "source": [
    "## Classification"
   ]
  },
  {
   "cell_type": "code",
   "execution_count": 49,
   "id": "fae0d4b7-20b2-4185-9119-1eb20e2844b8",
   "metadata": {},
   "outputs": [],
   "source": [
    "X = tfidf_matrix\n",
    "le = LabelEncoder()\n",
    "y = le.fit_transform(reviews_df['sentiment'])\n",
    "\n",
    "X_train, X_test, y_train, y_test = train_test_split(X, y, test_size=0.2, random_state=42)\n",
    "\n",
    "clf = MultinomialNB()\n",
    "clf.fit(X_train, y_train)\n",
    "accuracy = clf.score(X_test, y_test)"
   ]
  },
  {
   "cell_type": "code",
   "execution_count": 50,
   "id": "23e7a607-c675-4ad8-bf31-a48e19929d17",
   "metadata": {},
   "outputs": [
    {
     "name": "stdout",
     "output_type": "stream",
     "text": [
      "Classification Accuracy: 0.6104880266747499\n",
      "\n",
      "Classification Report:\n",
      "\n",
      "              precision    recall  f1-score   support\n",
      "\n",
      "    negative       0.79      0.04      0.08       717\n",
      "     neutral       0.91      0.14      0.25       687\n",
      "    positive       0.60      0.99      0.75      1895\n",
      "\n",
      "    accuracy                           0.61      3299\n",
      "   macro avg       0.77      0.39      0.36      3299\n",
      "weighted avg       0.71      0.61      0.50      3299\n",
      "\n"
     ]
    }
   ],
   "source": [
    "y_pred = clf.predict(X_test)\n",
    "print(f\"Classification Accuracy: {accuracy}\")\n",
    "print(\"\\nClassification Report:\\n\")\n",
    "print(classification_report(y_test, y_pred, target_names=le.classes_))"
   ]
  },
  {
   "cell_type": "markdown",
   "id": "b4c0bf30-9052-47ef-8fe1-d3adf77e96af",
   "metadata": {},
   "source": [
    "# Deep Learning"
   ]
  },
  {
   "cell_type": "markdown",
   "id": "c13d8d03-28cb-485b-bbf5-2d5c76fb5f57",
   "metadata": {},
   "source": [
    "## Word Embeddings"
   ]
  },
  {
   "cell_type": "code",
   "execution_count": 51,
   "id": "8ba0efd1-fc00-4066-9642-bb232c2c06e9",
   "metadata": {},
   "outputs": [],
   "source": [
    "sentences = reviews_df['cleaned_content'].str.split().tolist()\n",
    "model = Word2Vec(sentences=sentences, vector_size=100, window=5, min_count=1, workers=4)\n",
    "model.save(\"word2vec.model\")"
   ]
  },
  {
   "cell_type": "code",
   "execution_count": 52,
   "id": "ca248879-17bc-430b-adc0-e4026ab62f64",
   "metadata": {},
   "outputs": [
    {
     "name": "stdout",
     "output_type": "stream",
     "text": [
      "Words similar to 'performance':\n",
      "\n",
      "The word 'performance' is not in the model's vocabulary.\n"
     ]
    }
   ],
   "source": [
    "def similar_words(word, model):\n",
    "    if word in model.wv:\n",
    "        return model.wv.most_similar(word)\n",
    "    else:\n",
    "        return f\"The word '{word}' is not in the model's vocabulary.\"\n",
    "\n",
    "word = \"performance\"\n",
    "print(f\"Words similar to '{word}':\\n\")\n",
    "print(similar_words(word, model))"
   ]
  },
  {
   "cell_type": "code",
   "execution_count": 53,
   "id": "55359800-0330-4942-b6b3-5766f1989762",
   "metadata": {},
   "outputs": [
    {
     "name": "stdout",
     "output_type": "stream",
     "text": [
      "Words similar to 'camera':\n",
      "\n",
      "[('longer', 0.9863739609718323), ('dot', 0.9846155047416687), ('exit', 0.9842963814735413), ('rotat', 0.9821885824203491), ('back', 0.9803205132484436), ('unrespons', 0.9779711365699768), ('forc', 0.9779521822929382), ('grey', 0.9754685759544373), ('proper', 0.9735727906227112), ('draft', 0.9735631942749023)]\n"
     ]
    }
   ],
   "source": [
    "def similar_words(word, model):\n",
    "    if word in model.wv:\n",
    "        return model.wv.most_similar(word)\n",
    "    else:\n",
    "        return f\"The word '{word}' is not in the model's vocabulary.\"\n",
    "\n",
    "word = \"camera\"\n",
    "print(f\"Words similar to '{word}':\\n\")\n",
    "print(similar_words(word, model))"
   ]
  },
  {
   "cell_type": "markdown",
   "id": "d16ab42b-440c-4461-b75f-61adb1029004",
   "metadata": {},
   "source": [
    "# Similarity Measures | Jaccard Index"
   ]
  },
  {
   "cell_type": "code",
   "execution_count": 54,
   "id": "eb92bc2b-6d35-4970-9e39-225bdebc9610",
   "metadata": {},
   "outputs": [],
   "source": [
    "def jaccard_similarity(set1, set2):\n",
    "    intersection_len = len(set1.intersection(set2))\n",
    "    union_len = len(set1.union(set2))\n",
    "    return intersection_len / union_len"
   ]
  },
  {
   "cell_type": "code",
   "execution_count": 55,
   "id": "3e5dfcc9-bd1d-4d8b-8d4d-056da7fb9878",
   "metadata": {},
   "outputs": [
    {
     "name": "stdout",
     "output_type": "stream",
     "text": [
      "Jaccard similarity between 'camera is quality excellent The' and 'is good camera The' is: 0.5\n"
     ]
    }
   ],
   "source": [
    "set1 = set(\"The camera quality is excellent\".split())\n",
    "set2 = set(\"The camera is good\".split())\n",
    "similarity = jaccard_similarity(set1, set2)\n",
    "print(f\"Jaccard similarity between '{' '.join(set1)}' and '{' '.join(set2)}' is: {similarity}\")"
   ]
  },
  {
   "cell_type": "markdown",
   "id": "cc53b06c-5cb4-43b3-8072-467caaabee88",
   "metadata": {},
   "source": [
    "## Intelligent Query Processing and Information Retrieval System for App Reviews Analysis"
   ]
  },
  {
   "cell_type": "code",
   "execution_count": 56,
   "id": "6ca346ce-e398-445e-87c7-d243fad2353f",
   "metadata": {},
   "outputs": [
    {
     "name": "stdout",
     "output_type": "stream",
     "text": [
      "                                                 content sentiment\n",
      "151                        App forcing me to open camera   neutral\n",
      "915                                                Great  positive\n",
      "79     This has been happening for awhile now and I'v...  positive\n",
      "11942                                        Great app 👌  positive\n",
      "70     I use to use this allv the time but since the ...  negative\n",
      "...                                                  ...       ...\n",
      "4337                            Christen Stewart six Com   neutral\n",
      "4340   has glitches when you have a board with multip...   neutral\n",
      "8946   I would suggest if it can have in-app translat...  positive\n",
      "19048  Very nice and friendly staff all the people th...  positive\n",
      "4356                                            ɴɪᴄᴇᴇᴇᴇᴇ   neutral\n",
      "\n",
      "[1324 rows x 2 columns]\n"
     ]
    }
   ],
   "source": [
    "# Build the inverted index\n",
    "inverted_index = build_inverted_index(reviews_df)\n",
    "\n",
    "# Build the positional index\n",
    "positional_index = build_positional_index(reviews_df)\n",
    "\n",
    "# Create the TF-IDF matrix\n",
    "vectorizer = TfidfVectorizer()\n",
    "tfidf_matrix = vectorizer.fit_transform(reviews_df['cleaned_content'])\n",
    "\n",
    "def simplified_expand_query(query):\n",
    "    # Only expand to a limited set of synonyms or skip this entirely\n",
    "    synonyms = set()\n",
    "    for word in query.split():\n",
    "        synsets = wordnet.synsets(word)\n",
    "        if synsets:\n",
    "            # Add only the first synonym to keep it simple\n",
    "            synonyms.add(synsets[0].lemmas()[0].name().replace('_', ' '))\n",
    "    return \" \".join(synonyms) if synonyms else query\n",
    "\n",
    "def flexible_boolean_search(query, index):\n",
    "    # Search for any of the terms instead of all\n",
    "    terms = query.split()\n",
    "    document_ids = set()\n",
    "    for term in terms:\n",
    "        document_ids.update(index.get(term, set()))\n",
    "    return document_ids\n",
    "\n",
    "def process_query(query):\n",
    "    expanded_query = simplified_expand_query(query)\n",
    "    document_ids = flexible_boolean_search(expanded_query, inverted_index)\n",
    "    if not document_ids:\n",
    "        print(\"No documents found with expanded query. Trying with the original query...\")\n",
    "        document_ids = flexible_boolean_search(query, inverted_index)\n",
    "    ranked_doc_ids = rank_documents(document_ids, query, tfidf_matrix, vectorizer)\n",
    "    relevant_reviews = reviews_df.iloc[ranked_doc_ids] if ranked_doc_ids else pd.DataFrame()\n",
    "    return relevant_reviews\n",
    "\n",
    "def rank_documents(document_ids, query, tfidf_matrix, vectorizer):\n",
    "    query_vector = vectorizer.transform([query])\n",
    "    cosine_sim = cosine_similarity(query_vector, tfidf_matrix)\n",
    "    \n",
    "    # Ensure the document IDs are within the bounds of the TF-IDF matrix\n",
    "    valid_doc_ids = [doc_id for doc_id in document_ids if doc_id < tfidf_matrix.shape[0]]\n",
    "    \n",
    "    ranked_documents = sorted([(doc_id, cosine_sim[0, doc_id]) for doc_id in valid_doc_ids], key=lambda x: x[1], reverse=True)\n",
    "    return [doc_id for doc_id, _ in ranked_documents]\n",
    "\n",
    "# Adjust the process_query function to handle empty DataFrame\n",
    "def process_query(query):\n",
    "    expanded_query = simplified_expand_query(query)\n",
    "    document_ids = flexible_boolean_search(expanded_query, inverted_index)\n",
    "    if not document_ids:\n",
    "        print(\"No documents found with expanded query. Trying with the original query...\")\n",
    "        document_ids = flexible_boolean_search(query, inverted_index)\n",
    "    ranked_doc_ids = rank_documents(document_ids, query, tfidf_matrix, vectorizer)\n",
    "    relevant_reviews = reviews_df.iloc[ranked_doc_ids] if ranked_doc_ids else pd.DataFrame(columns=['content', 'sentiment'])\n",
    "    return relevant_reviews\n",
    "\n",
    "query = \"great camera quality\"\n",
    "relevant_reviews = process_query(query)\n",
    "print(relevant_reviews[['content', 'sentiment']])"
   ]
  }
 ],
 "metadata": {
  "kernelspec": {
   "display_name": "Python 3 (ipykernel)",
   "language": "python",
   "name": "python3"
  },
  "language_info": {
   "codemirror_mode": {
    "name": "ipython",
    "version": 3
   },
   "file_extension": ".py",
   "mimetype": "text/x-python",
   "name": "python",
   "nbconvert_exporter": "python",
   "pygments_lexer": "ipython3",
   "version": "3.8.18"
  }
 },
 "nbformat": 4,
 "nbformat_minor": 5
}
