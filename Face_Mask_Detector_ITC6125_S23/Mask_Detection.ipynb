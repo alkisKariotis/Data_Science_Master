{
 "cells": [
  {
   "cell_type": "code",
   "execution_count": 3,
   "id": "d5a7ac19-c109-489e-8bc6-75dfb078512f",
   "metadata": {},
   "outputs": [
    {
     "name": "stdout",
     "output_type": "stream",
     "text": [
      "Model: \"sequential_2\"\n",
      "_________________________________________________________________\n",
      " Layer (type)                Output Shape              Param #   \n",
      "=================================================================\n",
      " conv2d_4 (Conv2D)           (None, 148, 148, 100)     2800      \n",
      "                                                                 \n",
      " max_pooling2d_4 (MaxPooling  (None, 74, 74, 100)      0         \n",
      " 2D)                                                             \n",
      "                                                                 \n",
      " conv2d_5 (Conv2D)           (None, 72, 72, 100)       90100     \n",
      "                                                                 \n",
      " max_pooling2d_5 (MaxPooling  (None, 36, 36, 100)      0         \n",
      " 2D)                                                             \n",
      "                                                                 \n",
      " flatten_2 (Flatten)         (None, 129600)            0         \n",
      "                                                                 \n",
      " dropout_2 (Dropout)         (None, 129600)            0         \n",
      "                                                                 \n",
      " dense_4 (Dense)             (None, 50)                6480050   \n",
      "                                                                 \n",
      " dense_5 (Dense)             (None, 2)                 102       \n",
      "                                                                 \n",
      "=================================================================\n",
      "Total params: 6,573,052\n",
      "Trainable params: 6,573,052\n",
      "Non-trainable params: 0\n",
      "_________________________________________________________________\n",
      "Found 1315 images belonging to 2 classes.\n",
      "Found 194 images belonging to 2 classes.\n",
      "Epoch 1/30\n"
     ]
    },
    {
     "name": "stderr",
     "output_type": "stream",
     "text": [
      "/var/folders/hl/0r3fbld566g2q0_dh3lc7mcw0000gn/T/ipykernel_14461/1412539494.py:53: UserWarning: `Model.fit_generator` is deprecated and will be removed in a future version. Please use `Model.fit`, which supports generators.\n",
      "  history = model.fit_generator(train_generator,\n"
     ]
    },
    {
     "name": "stdout",
     "output_type": "stream",
     "text": [
      "132/132 [==============================] - ETA: 0s - loss: 0.6018 - acc: 0.7080"
     ]
    },
    {
     "name": "stderr",
     "output_type": "stream",
     "text": [
      "WARNING:absl:Found untraced functions such as _jit_compiled_convolution_op, _jit_compiled_convolution_op, _update_step_xla while saving (showing 3 of 3). These functions will not be directly callable after loading.\n"
     ]
    },
    {
     "name": "stdout",
     "output_type": "stream",
     "text": [
      "INFO:tensorflow:Assets written to: model2-001.model/assets\n"
     ]
    },
    {
     "name": "stderr",
     "output_type": "stream",
     "text": [
      "INFO:tensorflow:Assets written to: model2-001.model/assets\n"
     ]
    },
    {
     "name": "stdout",
     "output_type": "stream",
     "text": [
      "132/132 [==============================] - 122s 927ms/step - loss: 0.6018 - acc: 0.7080 - val_loss: 0.1922 - val_acc: 0.9433 - lr: 0.0010\n",
      "Epoch 2/30\n",
      "132/132 [==============================] - ETA: 0s - loss: 0.3318 - acc: 0.8669"
     ]
    },
    {
     "name": "stderr",
     "output_type": "stream",
     "text": [
      "WARNING:absl:Found untraced functions such as _jit_compiled_convolution_op, _jit_compiled_convolution_op, _update_step_xla while saving (showing 3 of 3). These functions will not be directly callable after loading.\n"
     ]
    },
    {
     "name": "stdout",
     "output_type": "stream",
     "text": [
      "INFO:tensorflow:Assets written to: model2-002.model/assets\n"
     ]
    },
    {
     "name": "stderr",
     "output_type": "stream",
     "text": [
      "INFO:tensorflow:Assets written to: model2-002.model/assets\n"
     ]
    },
    {
     "name": "stdout",
     "output_type": "stream",
     "text": [
      "132/132 [==============================] - 115s 875ms/step - loss: 0.3318 - acc: 0.8669 - val_loss: 0.1503 - val_acc: 0.9536 - lr: 0.0010\n",
      "Epoch 3/30\n",
      "132/132 [==============================] - ETA: 0s - loss: 0.2995 - acc: 0.8806"
     ]
    },
    {
     "name": "stderr",
     "output_type": "stream",
     "text": [
      "WARNING:absl:Found untraced functions such as _jit_compiled_convolution_op, _jit_compiled_convolution_op, _update_step_xla while saving (showing 3 of 3). These functions will not be directly callable after loading.\n"
     ]
    },
    {
     "name": "stdout",
     "output_type": "stream",
     "text": [
      "INFO:tensorflow:Assets written to: model2-003.model/assets\n"
     ]
    },
    {
     "name": "stderr",
     "output_type": "stream",
     "text": [
      "INFO:tensorflow:Assets written to: model2-003.model/assets\n"
     ]
    },
    {
     "name": "stdout",
     "output_type": "stream",
     "text": [
      "132/132 [==============================] - 121s 918ms/step - loss: 0.2995 - acc: 0.8806 - val_loss: 0.1416 - val_acc: 0.9536 - lr: 0.0010\n",
      "Epoch 4/30\n",
      "132/132 [==============================] - ETA: 0s - loss: 0.3149 - acc: 0.8760"
     ]
    },
    {
     "name": "stderr",
     "output_type": "stream",
     "text": [
      "WARNING:absl:Found untraced functions such as _jit_compiled_convolution_op, _jit_compiled_convolution_op, _update_step_xla while saving (showing 3 of 3). These functions will not be directly callable after loading.\n"
     ]
    },
    {
     "name": "stdout",
     "output_type": "stream",
     "text": [
      "INFO:tensorflow:Assets written to: model2-004.model/assets\n"
     ]
    },
    {
     "name": "stderr",
     "output_type": "stream",
     "text": [
      "INFO:tensorflow:Assets written to: model2-004.model/assets\n"
     ]
    },
    {
     "name": "stdout",
     "output_type": "stream",
     "text": [
      "132/132 [==============================] - 117s 890ms/step - loss: 0.3149 - acc: 0.8760 - val_loss: 0.1178 - val_acc: 0.9691 - lr: 0.0010\n",
      "Epoch 5/30\n",
      "132/132 [==============================] - 114s 863ms/step - loss: 0.2489 - acc: 0.9072 - val_loss: 0.1806 - val_acc: 0.8969 - lr: 0.0010\n",
      "Epoch 6/30\n",
      "132/132 [==============================] - 123s 932ms/step - loss: 0.2283 - acc: 0.9087 - val_loss: 0.1581 - val_acc: 0.9175 - lr: 0.0010\n",
      "Epoch 7/30\n",
      "132/132 [==============================] - ETA: 0s - loss: 0.2219 - acc: 0.9179"
     ]
    },
    {
     "name": "stderr",
     "output_type": "stream",
     "text": [
      "WARNING:absl:Found untraced functions such as _jit_compiled_convolution_op, _jit_compiled_convolution_op, _update_step_xla while saving (showing 3 of 3). These functions will not be directly callable after loading.\n"
     ]
    },
    {
     "name": "stdout",
     "output_type": "stream",
     "text": [
      "INFO:tensorflow:Assets written to: model2-007.model/assets\n"
     ]
    },
    {
     "name": "stderr",
     "output_type": "stream",
     "text": [
      "INFO:tensorflow:Assets written to: model2-007.model/assets\n"
     ]
    },
    {
     "name": "stdout",
     "output_type": "stream",
     "text": [
      "132/132 [==============================] - 121s 914ms/step - loss: 0.2219 - acc: 0.9179 - val_loss: 0.1003 - val_acc: 0.9845 - lr: 0.0010\n",
      "Epoch 8/30\n",
      "132/132 [==============================] - 87s 662ms/step - loss: 0.2083 - acc: 0.9232 - val_loss: 0.1106 - val_acc: 0.9485 - lr: 0.0010\n",
      "Epoch 9/30\n",
      "132/132 [==============================] - ETA: 0s - loss: 0.2339 - acc: 0.9163"
     ]
    },
    {
     "name": "stderr",
     "output_type": "stream",
     "text": [
      "WARNING:absl:Found untraced functions such as _jit_compiled_convolution_op, _jit_compiled_convolution_op, _update_step_xla while saving (showing 3 of 3). These functions will not be directly callable after loading.\n"
     ]
    },
    {
     "name": "stdout",
     "output_type": "stream",
     "text": [
      "INFO:tensorflow:Assets written to: model2-009.model/assets\n"
     ]
    },
    {
     "name": "stderr",
     "output_type": "stream",
     "text": [
      "INFO:tensorflow:Assets written to: model2-009.model/assets\n"
     ]
    },
    {
     "name": "stdout",
     "output_type": "stream",
     "text": [
      "132/132 [==============================] - 89s 677ms/step - loss: 0.2339 - acc: 0.9163 - val_loss: 0.0637 - val_acc: 0.9742 - lr: 0.0010\n",
      "Epoch 10/30\n",
      "132/132 [==============================] - ETA: 0s - loss: 0.2039 - acc: 0.9285"
     ]
    },
    {
     "name": "stderr",
     "output_type": "stream",
     "text": [
      "WARNING:absl:Found untraced functions such as _jit_compiled_convolution_op, _jit_compiled_convolution_op, _update_step_xla while saving (showing 3 of 3). These functions will not be directly callable after loading.\n"
     ]
    },
    {
     "name": "stdout",
     "output_type": "stream",
     "text": [
      "INFO:tensorflow:Assets written to: model2-010.model/assets\n"
     ]
    },
    {
     "name": "stderr",
     "output_type": "stream",
     "text": [
      "INFO:tensorflow:Assets written to: model2-010.model/assets\n"
     ]
    },
    {
     "name": "stdout",
     "output_type": "stream",
     "text": [
      "132/132 [==============================] - 84s 634ms/step - loss: 0.2039 - acc: 0.9285 - val_loss: 0.0314 - val_acc: 0.9948 - lr: 0.0010\n",
      "Epoch 11/30\n",
      "132/132 [==============================] - 80s 606ms/step - loss: 0.1623 - acc: 0.9384 - val_loss: 0.0648 - val_acc: 0.9639 - lr: 0.0010\n",
      "Epoch 12/30\n",
      "132/132 [==============================] - 79s 602ms/step - loss: 0.1532 - acc: 0.9460 - val_loss: 0.1029 - val_acc: 0.9588 - lr: 0.0010\n",
      "Epoch 13/30\n",
      "132/132 [==============================] - ETA: 0s - loss: 0.1737 - acc: 0.9323"
     ]
    },
    {
     "name": "stderr",
     "output_type": "stream",
     "text": [
      "WARNING:absl:Found untraced functions such as _jit_compiled_convolution_op, _jit_compiled_convolution_op, _update_step_xla while saving (showing 3 of 3). These functions will not be directly callable after loading.\n"
     ]
    },
    {
     "name": "stdout",
     "output_type": "stream",
     "text": [
      "INFO:tensorflow:Assets written to: model2-013.model/assets\n"
     ]
    },
    {
     "name": "stderr",
     "output_type": "stream",
     "text": [
      "INFO:tensorflow:Assets written to: model2-013.model/assets\n"
     ]
    },
    {
     "name": "stdout",
     "output_type": "stream",
     "text": [
      "132/132 [==============================] - 82s 621ms/step - loss: 0.1737 - acc: 0.9323 - val_loss: 0.0247 - val_acc: 0.9948 - lr: 0.0010\n",
      "Epoch 14/30\n",
      "132/132 [==============================] - 77s 583ms/step - loss: 0.1402 - acc: 0.9414 - val_loss: 0.0458 - val_acc: 0.9845 - lr: 0.0010\n",
      "Epoch 15/30\n",
      "132/132 [==============================] - 76s 572ms/step - loss: 0.1756 - acc: 0.9392 - val_loss: 0.0520 - val_acc: 0.9742 - lr: 0.0010\n",
      "Epoch 16/30\n",
      "132/132 [==============================] - 76s 577ms/step - loss: 0.1817 - acc: 0.9392 - val_loss: 0.1464 - val_acc: 0.9072 - lr: 0.0010\n"
     ]
    },
    {
     "data": {
      "image/png": "[encoded data removed]",
      "text/plain": [
       "<Figure size 1200x600 with 2 Axes>"
      ]
     },
     "metadata": {},
     "output_type": "display_data"
    }
   ],
   "source": [
    "# Import the necessary libraries for the deep learning model and data preprocessing\n",
    "from keras.optimizers import RMSprop\n",
    "from keras.preprocessing.image import ImageDataGenerator\n",
    "from keras.models import Sequential\n",
    "from keras.layers import Conv2D, Input, ZeroPadding2D, BatchNormalization, Activation, MaxPooling2D, Flatten, Dense, Dropout\n",
    "from keras.models import Model, load_model\n",
    "from keras.callbacks import TensorBoard, ModelCheckpoint, EarlyStopping, ReduceLROnPlateau\n",
    "import matplotlib.pyplot as plt\n",
    "import cv2\n",
    "import imutils\n",
    "import numpy as np\n",
    "\n",
    "# Define a function to build and compile the CNN model\n",
    "def create_model():\n",
    "    # Build the sequential model with various layers\n",
    "    model = Sequential([\n",
    "        # Add a convolutional layer with 100 filters of size 3x3, and ReLU activation. The input shape is for colored images of size 150x150\n",
    "        Conv2D(100, (3,3), activation='relu', input_shape=(150, 150, 3)),\n",
    "        # Add max pooling layer to reduce the spatial dimensions\n",
    "        MaxPooling2D(2,2),\n",
    "        # Add another convolutional layer with 100 filters of size 3x3, and ReLU activation\n",
    "        Conv2D(100, (3,3), activation='relu'),\n",
    "        # Add another max pooling layer\n",
    "        MaxPooling2D(2,2),\n",
    "        # Flatten the tensor output from the previous layer\n",
    "        Flatten(),\n",
    "        # Add a dropout layer to prevent overfitting. 50% of the neuron connections are dropped during each training step\n",
    "        Dropout(0.5),\n",
    "        # Add a dense layer with 50 neurons and ReLU activation\n",
    "        Dense(50, activation='relu'),\n",
    "        # Add the final output layer with 2 neurons (for binary classification) with softmax activation function to output probabilities\n",
    "        Dense(2, activation='softmax')\n",
    "    ])\n",
    "    # Compile the model with Adam optimizer, binary cross entropy as loss function and accuracy as the evaluation metric\n",
    "    model.compile(optimizer='adam', loss='binary_crossentropy', metrics=['acc'])\n",
    "    # Print the summary of the model architecture\n",
    "    model.summary()\n",
    "    # Return the built and compiled model\n",
    "    return model\n",
    "\n",
    "# Function to create Image Data Generators for training and validation data\n",
    "def create_data_generators():\n",
    "    # Define the directory of the training dataset\n",
    "    TRAINING_DIR = \"./train\"\n",
    "    # Create an ImageDataGenerator for the training dataset with various data augmentations\n",
    "    train_datagen = ImageDataGenerator(rescale=1.0/255,\n",
    "                                       rotation_range=40,\n",
    "                                       width_shift_range=0.2,\n",
    "                                       height_shift_range=0.2,\n",
    "                                       shear_range=0.2,\n",
    "                                       zoom_range=0.2,\n",
    "                                       horizontal_flip=True,\n",
    "                                       fill_mode='nearest')\n",
    "\n",
    "    # Load the training dataset from directory\n",
    "    train_generator = train_datagen.flow_from_directory(TRAINING_DIR, \n",
    "                                                        batch_size=10, \n",
    "                                                        target_size=(150, 150))\n",
    "\n",
    "    # Define the directory of the validation dataset\n",
    "    VALIDATION_DIR = \"./test\"\n",
    "    # Create an ImageDataGenerator for the validation dataset with only rescaling\n",
    "    validation_datagen = ImageDataGenerator(rescale=1.0/255)\n",
    "    \n",
    "    # Load the validation dataset from directory\n",
    "    validation_generator = validation_datagen.flow_from_directory(VALIDATION_DIR, \n",
    "                                                             batch_size=10, \n",
    "                                                             target_size=(150, 150))\n",
    "    # Return the train and validation data generators\n",
    "    return train_generator, validation_generator\n",
    "\n",
    "# Function to create callbacks for model training\n",
    "def create_callbacks():\n",
    "    # Create a model checkpoint callback to save the best model based on validation loss\n",
    "    checkpoint = ModelCheckpoint('model2-{epoch:03d}.model', monitor='val_loss', verbose=0, save_best_only=True, mode='auto')\n",
    "    # Create an early stopping callback to stop training when validation loss stops improving\n",
    "    early_stop = EarlyStopping(monitor='val_loss', patience=3)\n",
    "    # Create a reduce learning rate callback to reduce learning rate when validation loss plateaus\n",
    "    reduce_lr = ReduceLROnPlateau(monitor='val_loss', factor=0.2, patience=3, min_lr=0.0001)\n",
    "    # Return the list of callbacks\n",
    "    return [checkpoint, early_stop, reduce_lr]\n",
    "\n",
    "# Function to plot the training and validation accuracy and loss\n",
    "def plot_history(history):\n",
    "    # Create figure to plot graphs\n",
    "    plt.figure(figsize=(12, 6))\n",
    "    # Add subplot for accuracy\n",
    "    plt.subplot(1, 2, 1)\n",
    "    # Plot training and validation accuracy\n",
    "    plt.plot(history.history['acc'])\n",
    "    plt.plot(history.history['val_acc'])\n",
    "    plt.title('Model accuracy')\n",
    "    plt.ylabel('Accuracy')\n",
    "    plt.xlabel('Epoch')\n",
    "    plt.legend(['Train', 'Test'], loc='upper left')\n",
    "\n",
    "    # Add subplot for loss\n",
    "    plt.subplot(1, 2, 2)\n",
    "    # Plot training and validation loss\n",
    "    plt.plot(history.history['loss'])\n",
    "    plt.plot(history.history['val_loss'])\n",
    "    plt.title('Model loss')\n",
    "    plt.ylabel('Loss')\n",
    "    plt.xlabel('Epoch')\n",
    "    plt.legend(['Train', 'Test'], loc='upper left')\n",
    "    # Show the plot\n",
    "    plt.show()\n",
    "\n",
    "# Function to execute the steps for model creation, training and evaluation\n",
    "def main():\n",
    "    # Create the CNN model\n",
    "    model = create_model()\n",
    "    # Create the training and validation data generators\n",
    "    train_generator, validation_generator = create_data_generators()\n",
    "    # Create the callbacks for model training\n",
    "    callbacks = create_callbacks()\n",
    "\n",
    "    # Train the model using the fit generator method\n",
    "    history = model.fit_generator(train_generator,\n",
    "                                  epochs=30,\n",
    "                                  validation_data=validation_generator,\n",
    "                                  callbacks=callbacks)\n",
    "\n",
    "    # Plot the training and validation accuracy and loss graphs\n",
    "    plot_history(history)\n",
    "\n",
    "# Run the main function\n",
    "#if __name__ == \"__main__\":\n",
    "    #main()"
   ]
  }
 ],
 "metadata": {
  "kernelspec": {
   "display_name": "Python 3 (ipykernel)",
   "language": "python",
   "name": "python3"
  },
  "language_info": {
   "codemirror_mode": {
    "name": "ipython",
    "version": 3
   },
   "file_extension": ".py",
   "mimetype": "text/x-python",
   "name": "python",
   "nbconvert_exporter": "python",
   "pygments_lexer": "ipython3",
   "version": "3.8.11"
  }
 },
 "nbformat": 4,
 "nbformat_minor": 5
}
