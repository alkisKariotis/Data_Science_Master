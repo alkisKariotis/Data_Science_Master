{
 "cells": [
  {
   "cell_type": "markdown",
   "id": "1f01c56c-67bd-4fa5-a31d-fe5ed1a66f84",
   "metadata": {},
   "source": [
    "# Q2: Database: 50%"
   ]
  },
  {
   "cell_type": "code",
   "execution_count": 19,
   "id": "63ee3f30-b706-4166-b477-f734460bbf68",
   "metadata": {},
   "outputs": [
    {
     "name": "stdout",
     "output_type": "stream",
     "text": [
      "(('Programming', 'Fall'), ('Databases', 'Winter'), ('Vision', 'Fall'), ('BigData', 'Fall'), ('DataMining', 'Spring'))\n"
     ]
    }
   ],
   "source": [
    "import pymysql\n",
    "\n",
    "# Open database connection\n",
    "\n",
    "\n",
    "# Create a database\n",
    "# and create tables, which are empty initially\n",
    "\n",
    "\n",
    "db = pymysql.connect(host=\"localhost\",\n",
    "                     user=\"ds\",\n",
    "                     passwd=\"0019cg!CG!\",\n",
    "                     unix_socket=\"/var/run/mysqld/mysqld.sock\"\n",
    "                     )\n",
    "cursor = db.cursor()\n",
    "\n",
    "cursor.execute(\"use university\")\n",
    "\n",
    "#Here I start Question 1\n",
    "\n",
    "#1. Display the names of the courses and the term they are offered.\n",
    "sql1 = \"\"\"select name,term from courses\"\"\"\n",
    "         \n",
    "\n",
    "cursor.execute(sql1)\n",
    "result=cursor.fetchall()\n",
    "print (result)"
   ]
  },
  {
   "cell_type": "code",
   "execution_count": 20,
   "id": "ca8e3b0c-ab01-4b64-af2e-9ffdb180d388",
   "metadata": {},
   "outputs": [
    {
     "name": "stdout",
     "output_type": "stream",
     "text": [
      "(('Programming', 'Fall'), ('Databases', 'Winter'), ('Vision', 'Fall'), ('BigData', 'Fall'))\n"
     ]
    }
   ],
   "source": [
    "#2. Display the names, and terms for courses that are offered in the fall or winter terms.\n",
    "sql2 = \"\"\"select name,term from courses where term in('Fall','Winter')\"\"\"\n",
    "         \n",
    "\n",
    "cursor.execute(sql2)\n",
    "result=cursor.fetchall()\n",
    "print (result)"
   ]
  },
  {
   "cell_type": "code",
   "execution_count": 21,
   "id": "2b594bc9-5ed9-4f57-98a7-6f668eb082fe",
   "metadata": {},
   "outputs": [
    {
     "name": "stdout",
     "output_type": "stream",
     "text": [
      "(('Fall', 3), ('Winter', 1), ('Spring', 1))\n"
     ]
    }
   ],
   "source": [
    "#3. Count the number of courses offered in each semester and display them as: [term, #courses].\n",
    "sql3 = \"\"\"select term,count(name) from courses group by term\"\"\"\n",
    "         \n",
    "\n",
    "cursor.execute(sql3)\n",
    "result=cursor.fetchall()\n",
    "print (result)"
   ]
  },
  {
   "cell_type": "code",
   "execution_count": 22,
   "id": "e88e821b-4961-483a-8fa9-157b310531d8",
   "metadata": {},
   "outputs": [
    {
     "name": "stdout",
     "output_type": "stream",
     "text": [
      "((5,),)\n"
     ]
    }
   ],
   "source": [
    "#4. Count & display the number of instructors\n",
    "sql4 = \"\"\"select count(name) as Number_of_instructors from instructors\"\"\"   \n",
    "\n",
    "cursor.execute(sql4)\n",
    "result=cursor.fetchall()\n",
    "print (result)"
   ]
  },
  {
   "cell_type": "code",
   "execution_count": 23,
   "id": "778708e1-d8e4-4179-a4a3-8eaf8cd1a75f",
   "metadata": {},
   "outputs": [
    {
     "name": "stdout",
     "output_type": "stream",
     "text": [
      "((5,),)\n"
     ]
    }
   ],
   "source": [
    "#5. Display the total number of courses.\n",
    "sql5 = \"\"\"select count(name) as Total_number_of_courses from courses\"\"\"   \n",
    "\n",
    "cursor.execute(sql5)\n",
    "result=cursor.fetchall()\n",
    "print (result)"
   ]
  },
  {
   "cell_type": "code",
   "execution_count": 24,
   "id": "e82b5840-0c42-446f-97f3-a8765e4a20c1",
   "metadata": {},
   "outputs": [
    {
     "name": "stdout",
     "output_type": "stream",
     "text": [
      "((4,),)\n"
     ]
    }
   ],
   "source": [
    "#6. Count the total number of instructors that are offering course c1 or c2.\n",
    "sql6 = \"\"\"select count(iid) as Total_number_of_instructors_for_c1andc2 from coursesInstructors where cid in('c1','c2')\"\"\"   \n",
    "\n",
    "cursor.execute(sql6)\n",
    "result=cursor.fetchall()\n",
    "print (result)"
   ]
  },
  {
   "cell_type": "code",
   "execution_count": 25,
   "id": "58304953-d52b-4fc1-8d67-f75fc563a37b",
   "metadata": {},
   "outputs": [
    {
     "name": "stdout",
     "output_type": "stream",
     "text": [
      "(('Programming',), ('Databases',))\n"
     ]
    }
   ],
   "source": [
    "#7. Display the names of courses that Jones is offering.\n",
    "sql7 = \"\"\" select name from courses where id in (select cid from coursesInstructors where iid=(select id from instructors where name='Jones')) \"\"\"   \n",
    "\n",
    "cursor.execute(sql7)\n",
    "result=cursor.fetchall()\n",
    "print (result)"
   ]
  },
  {
   "cell_type": "code",
   "execution_count": 26,
   "id": "7adb9d2b-0af9-4dff-91bd-7abd5341be5e",
   "metadata": {},
   "outputs": [
    {
     "name": "stdout",
     "output_type": "stream",
     "text": [
      "(('Jones',), ('Adams',))\n"
     ]
    }
   ],
   "source": [
    "#8. Get all instructors’ names whose name end in “s”.\n",
    "sql8 = \"\"\"select name from instructors where name like '%S';\"\"\"   \n",
    "\n",
    "cursor.execute(sql8)\n",
    "result=cursor.fetchall()\n",
    "print (result)"
   ]
  },
  {
   "cell_type": "code",
   "execution_count": 27,
   "id": "1294bb9a-48a8-42ec-ba4c-c1768a3857b2",
   "metadata": {},
   "outputs": [
    {
     "name": "stdout",
     "output_type": "stream",
     "text": [
      "(('Programming',), ('Databases',), ('Vision',), ('BigData',))\n"
     ]
    }
   ],
   "source": [
    "#9. Display all course names, which are offered by male instructors.\n",
    "sql9 = \"\"\"select name from courses where id in ((select cid from coursesInstructors where iid in (select id from instructors where gender ='M')))\"\"\"   \n",
    "\n",
    "\n",
    "cursor.execute(sql9)\n",
    "result=cursor.fetchall()\n",
    "print (result)"
   ]
  },
  {
   "cell_type": "code",
   "execution_count": 29,
   "id": "75ca01eb-dc5e-4f02-826d-4c6fddb836cd",
   "metadata": {},
   "outputs": [
    {
     "ename": "InterfaceError",
     "evalue": "(0, '')",
     "output_type": "error",
     "traceback": [
      "\u001b[0;31m---------------------------------------------------------------------------\u001b[0m",
      "\u001b[0;31mInterfaceError\u001b[0m                            Traceback (most recent call last)",
      "\u001b[0;32m/tmp/ipykernel_33902/2578877520.py\u001b[0m in \u001b[0;36m<module>\u001b[0;34m\u001b[0m\n\u001b[1;32m      2\u001b[0m \u001b[0msql10\u001b[0m \u001b[0;34m=\u001b[0m \u001b[0;34m\"\"\" update instructors set id='i44' where id='i4'  \"\"\"\u001b[0m\u001b[0;34m\u001b[0m\u001b[0;34m\u001b[0m\u001b[0m\n\u001b[1;32m      3\u001b[0m \u001b[0;34m\u001b[0m\u001b[0m\n\u001b[0;32m----> 4\u001b[0;31m \u001b[0mcursor\u001b[0m\u001b[0;34m.\u001b[0m\u001b[0mexecute\u001b[0m\u001b[0;34m(\u001b[0m\u001b[0msql10\u001b[0m\u001b[0;34m)\u001b[0m\u001b[0;34m\u001b[0m\u001b[0;34m\u001b[0m\u001b[0m\n\u001b[0m\u001b[1;32m      5\u001b[0m \u001b[0;34m\u001b[0m\u001b[0m\n\u001b[1;32m      6\u001b[0m \u001b[0;31m#IT pritns this because we are trying to update a parent ID key of the table of the database\u001b[0m\u001b[0;34m\u001b[0m\u001b[0;34m\u001b[0m\u001b[0;34m\u001b[0m\u001b[0m\n",
      "\u001b[0;32m~/anaconda3/lib/python3.7/site-packages/pymysql/cursors.py\u001b[0m in \u001b[0;36mexecute\u001b[0;34m(self, query, args)\u001b[0m\n\u001b[1;32m    161\u001b[0m         \u001b[0mquery\u001b[0m \u001b[0;34m=\u001b[0m \u001b[0mself\u001b[0m\u001b[0;34m.\u001b[0m\u001b[0mmogrify\u001b[0m\u001b[0;34m(\u001b[0m\u001b[0mquery\u001b[0m\u001b[0;34m,\u001b[0m \u001b[0margs\u001b[0m\u001b[0;34m)\u001b[0m\u001b[0;34m\u001b[0m\u001b[0;34m\u001b[0m\u001b[0m\n\u001b[1;32m    162\u001b[0m \u001b[0;34m\u001b[0m\u001b[0m\n\u001b[0;32m--> 163\u001b[0;31m         \u001b[0mresult\u001b[0m \u001b[0;34m=\u001b[0m \u001b[0mself\u001b[0m\u001b[0;34m.\u001b[0m\u001b[0m_query\u001b[0m\u001b[0;34m(\u001b[0m\u001b[0mquery\u001b[0m\u001b[0;34m)\u001b[0m\u001b[0;34m\u001b[0m\u001b[0;34m\u001b[0m\u001b[0m\n\u001b[0m\u001b[1;32m    164\u001b[0m         \u001b[0mself\u001b[0m\u001b[0;34m.\u001b[0m\u001b[0m_executed\u001b[0m \u001b[0;34m=\u001b[0m \u001b[0mquery\u001b[0m\u001b[0;34m\u001b[0m\u001b[0;34m\u001b[0m\u001b[0m\n\u001b[1;32m    165\u001b[0m         \u001b[0;32mreturn\u001b[0m \u001b[0mresult\u001b[0m\u001b[0;34m\u001b[0m\u001b[0;34m\u001b[0m\u001b[0m\n",
      "\u001b[0;32m~/anaconda3/lib/python3.7/site-packages/pymysql/cursors.py\u001b[0m in \u001b[0;36m_query\u001b[0;34m(self, q)\u001b[0m\n\u001b[1;32m    319\u001b[0m         \u001b[0mself\u001b[0m\u001b[0;34m.\u001b[0m\u001b[0m_last_executed\u001b[0m \u001b[0;34m=\u001b[0m \u001b[0mq\u001b[0m\u001b[0;34m\u001b[0m\u001b[0;34m\u001b[0m\u001b[0m\n\u001b[1;32m    320\u001b[0m         \u001b[0mself\u001b[0m\u001b[0;34m.\u001b[0m\u001b[0m_clear_result\u001b[0m\u001b[0;34m(\u001b[0m\u001b[0;34m)\u001b[0m\u001b[0;34m\u001b[0m\u001b[0;34m\u001b[0m\u001b[0m\n\u001b[0;32m--> 321\u001b[0;31m         \u001b[0mconn\u001b[0m\u001b[0;34m.\u001b[0m\u001b[0mquery\u001b[0m\u001b[0;34m(\u001b[0m\u001b[0mq\u001b[0m\u001b[0;34m)\u001b[0m\u001b[0;34m\u001b[0m\u001b[0;34m\u001b[0m\u001b[0m\n\u001b[0m\u001b[1;32m    322\u001b[0m         \u001b[0mself\u001b[0m\u001b[0;34m.\u001b[0m\u001b[0m_do_get_result\u001b[0m\u001b[0;34m(\u001b[0m\u001b[0;34m)\u001b[0m\u001b[0;34m\u001b[0m\u001b[0;34m\u001b[0m\u001b[0m\n\u001b[1;32m    323\u001b[0m         \u001b[0;32mreturn\u001b[0m \u001b[0mself\u001b[0m\u001b[0;34m.\u001b[0m\u001b[0mrowcount\u001b[0m\u001b[0;34m\u001b[0m\u001b[0;34m\u001b[0m\u001b[0m\n",
      "\u001b[0;32m~/anaconda3/lib/python3.7/site-packages/pymysql/connections.py\u001b[0m in \u001b[0;36mquery\u001b[0;34m(self, sql, unbuffered)\u001b[0m\n\u001b[1;32m    502\u001b[0m             \u001b[0;32melse\u001b[0m\u001b[0;34m:\u001b[0m\u001b[0;34m\u001b[0m\u001b[0;34m\u001b[0m\u001b[0m\n\u001b[1;32m    503\u001b[0m                 \u001b[0msql\u001b[0m \u001b[0;34m=\u001b[0m \u001b[0msql\u001b[0m\u001b[0;34m.\u001b[0m\u001b[0mencode\u001b[0m\u001b[0;34m(\u001b[0m\u001b[0mself\u001b[0m\u001b[0;34m.\u001b[0m\u001b[0mencoding\u001b[0m\u001b[0;34m,\u001b[0m \u001b[0;34m'surrogateescape'\u001b[0m\u001b[0;34m)\u001b[0m\u001b[0;34m\u001b[0m\u001b[0;34m\u001b[0m\u001b[0m\n\u001b[0;32m--> 504\u001b[0;31m         \u001b[0mself\u001b[0m\u001b[0;34m.\u001b[0m\u001b[0m_execute_command\u001b[0m\u001b[0;34m(\u001b[0m\u001b[0mCOMMAND\u001b[0m\u001b[0;34m.\u001b[0m\u001b[0mCOM_QUERY\u001b[0m\u001b[0;34m,\u001b[0m \u001b[0msql\u001b[0m\u001b[0;34m)\u001b[0m\u001b[0;34m\u001b[0m\u001b[0;34m\u001b[0m\u001b[0m\n\u001b[0m\u001b[1;32m    505\u001b[0m         \u001b[0mself\u001b[0m\u001b[0;34m.\u001b[0m\u001b[0m_affected_rows\u001b[0m \u001b[0;34m=\u001b[0m \u001b[0mself\u001b[0m\u001b[0;34m.\u001b[0m\u001b[0m_read_query_result\u001b[0m\u001b[0;34m(\u001b[0m\u001b[0munbuffered\u001b[0m\u001b[0;34m=\u001b[0m\u001b[0munbuffered\u001b[0m\u001b[0;34m)\u001b[0m\u001b[0;34m\u001b[0m\u001b[0;34m\u001b[0m\u001b[0m\n\u001b[1;32m    506\u001b[0m         \u001b[0;32mreturn\u001b[0m \u001b[0mself\u001b[0m\u001b[0;34m.\u001b[0m\u001b[0m_affected_rows\u001b[0m\u001b[0;34m\u001b[0m\u001b[0;34m\u001b[0m\u001b[0m\n",
      "\u001b[0;32m~/anaconda3/lib/python3.7/site-packages/pymysql/connections.py\u001b[0m in \u001b[0;36m_execute_command\u001b[0;34m(self, command, sql)\u001b[0m\n\u001b[1;32m    740\u001b[0m         \"\"\"\n\u001b[1;32m    741\u001b[0m         \u001b[0;32mif\u001b[0m \u001b[0;32mnot\u001b[0m \u001b[0mself\u001b[0m\u001b[0;34m.\u001b[0m\u001b[0m_sock\u001b[0m\u001b[0;34m:\u001b[0m\u001b[0;34m\u001b[0m\u001b[0;34m\u001b[0m\u001b[0m\n\u001b[0;32m--> 742\u001b[0;31m             \u001b[0;32mraise\u001b[0m \u001b[0merr\u001b[0m\u001b[0;34m.\u001b[0m\u001b[0mInterfaceError\u001b[0m\u001b[0;34m(\u001b[0m\u001b[0;36m0\u001b[0m\u001b[0;34m,\u001b[0m \u001b[0;34m''\u001b[0m\u001b[0;34m)\u001b[0m\u001b[0;34m\u001b[0m\u001b[0;34m\u001b[0m\u001b[0m\n\u001b[0m\u001b[1;32m    743\u001b[0m \u001b[0;34m\u001b[0m\u001b[0m\n\u001b[1;32m    744\u001b[0m         \u001b[0;31m# If the last query was unbuffered, make sure it finishes before\u001b[0m\u001b[0;34m\u001b[0m\u001b[0;34m\u001b[0m\u001b[0;34m\u001b[0m\u001b[0m\n",
      "\u001b[0;31mInterfaceError\u001b[0m: (0, '')"
     ]
    }
   ],
   "source": [
    "#10. Update the id4 to id44 in table instructors. What is the result you get. Why?\n",
    "sql10 = \"\"\" update instructors set id='i44' where id='i4'  \"\"\"   \n",
    "\n",
    "cursor.execute(sql10)\n",
    "\n",
    "#IT pritns this because we are trying to update a parent ID key of the table of the database\n",
    "#IntegrityError: (1451, 'Cannot delete or update a parent row: a foreign key constraint fails (`university`.`coursesInstructors`, CONSTRAINT `coursesInstructors_ibfk_1` FOREIGN KEY (`iid`) REFERENCES `instructors` (`id`))')"
   ]
  },
  {
   "cell_type": "code",
   "execution_count": 30,
   "id": "a1ed82ab-58b3-49d6-901f-91c312028dfb",
   "metadata": {},
   "outputs": [],
   "source": [
    "# disconnect from server\n",
    "db.close()"
   ]
  }
 ],
 "metadata": {
  "kernelspec": {
   "display_name": "Python 3 (ipykernel)",
   "language": "python",
   "name": "python3"
  },
  "language_info": {
   "codemirror_mode": {
    "name": "ipython",
    "version": 3
   },
   "file_extension": ".py",
   "mimetype": "text/x-python",
   "name": "python",
   "nbconvert_exporter": "python",
   "pygments_lexer": "ipython3",
   "version": "3.8.18"
  }
 },
 "nbformat": 4,
 "nbformat_minor": 5
}
