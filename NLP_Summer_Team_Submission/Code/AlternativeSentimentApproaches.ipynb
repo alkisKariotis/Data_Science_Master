{
 "cells": [
  {
   "cell_type": "markdown",
   "id": "e04b1ad0",
   "metadata": {},
   "source": [
    "# Alternative Approach: Sentiment Analysis - Bert Base + Neural Network (Tensorflow) - Python(tf) kernel"
   ]
  },
  {
   "cell_type": "markdown",
   "id": "d5b57015",
   "metadata": {},
   "source": [
    "### Attempts without bias handling, undersampling and oversampling, with variation of neurons in hidden layer. Since not much difference is observed in metrics, result/metrics of each approach with some additional code is added as markdown"
   ]
  },
  {
   "cell_type": "markdown",
   "id": "57c30fc3",
   "metadata": {},
   "source": [
    "## First Approach without handling bias (Overkill with 1024 neurons in hidden layer)"
   ]
  },
  {
   "cell_type": "code",
   "execution_count": null,
   "id": "39b38fb3",
   "metadata": {},
   "outputs": [],
   "source": [
    "pip install sklearn"
   ]
  },
  {
   "cell_type": "code",
   "execution_count": 1,
   "id": "355e7fe7",
   "metadata": {},
   "outputs": [
    {
     "name": "stderr",
     "output_type": "stream",
     "text": [
      "C:\\Users\\calmeida\\Anaconda3\\envs\\tf\\lib\\site-packages\\tqdm\\auto.py:21: TqdmWarning: IProgress not found. Please update jupyter and ipywidgets. See https://ipywidgets.readthedocs.io/en/stable/user_install.html\n",
      "  from .autonotebook import tqdm as notebook_tqdm\n"
     ]
    }
   ],
   "source": [
    "# Importing the necessary libraries\n",
    "import pandas as pd\n",
    "import numpy as np\n",
    "import seaborn as sns\n",
    "import matplotlib.pyplot as plt\n",
    "import sklearn\n",
    "\n",
    "\n",
    "import nltk\n",
    "from nltk.tokenize import RegexpTokenizer\n",
    "from nltk.sentiment.vader import SentimentIntensityAnalyzer\n",
    "from sklearn.metrics import classification_report\n",
    "\n",
    "from sklearn.feature_extraction.text import TfidfVectorizer\n",
    "from sklearn.naive_bayes import MultinomialNB\n",
    "from sklearn.metrics import accuracy_score\n",
    "from sklearn.model_selection import train_test_split\n",
    "import string\n",
    "from nltk.corpus import stopwords\n",
    "#import openai\n",
    "\n",
    "from transformers import pipeline"
   ]
  },
  {
   "cell_type": "code",
   "execution_count": 2,
   "id": "b5d758a0",
   "metadata": {},
   "outputs": [],
   "source": [
    "# Read the file\n",
    "data = pd.read_csv('WomensClothingECommerceReviews.csv')"
   ]
  },
  {
   "cell_type": "code",
   "execution_count": 3,
   "id": "f25a712e",
   "metadata": {},
   "outputs": [],
   "source": [
    "# Drop the rows with nan's in the review text-I chose to keep the nan's in the title because the review text is the column we will use\n",
    "data.dropna(subset='Review Text',inplace=True)"
   ]
  },
  {
   "cell_type": "code",
   "execution_count": 4,
   "id": "7fa5e4a7",
   "metadata": {},
   "outputs": [],
   "source": [
    "# The Title text wherever available is added to the review text to utilise all available feedback\n",
    "cols = ['Title', 'Review Text']\n",
    "data['Concat']= data[cols].apply(lambda x: ' '.join(i for i in x if pd.notna(i)), axis=1)"
   ]
  },
  {
   "cell_type": "code",
   "execution_count": 5,
   "id": "61989081",
   "metadata": {},
   "outputs": [
    {
     "data": {
      "text/html": [
       "<div>\n",
       "<style scoped>\n",
       "    .dataframe tbody tr th:only-of-type {\n",
       "        vertical-align: middle;\n",
       "    }\n",
       "\n",
       "    .dataframe tbody tr th {\n",
       "        vertical-align: top;\n",
       "    }\n",
       "\n",
       "    .dataframe thead th {\n",
       "        text-align: right;\n",
       "    }\n",
       "</style>\n",
       "<table border=\"1\" class=\"dataframe\">\n",
       "  <thead>\n",
       "    <tr style=\"text-align: right;\">\n",
       "      <th></th>\n",
       "      <th>Unnamed: 0</th>\n",
       "      <th>Clothing ID</th>\n",
       "      <th>Age</th>\n",
       "      <th>Title</th>\n",
       "      <th>Review Text</th>\n",
       "      <th>Rating</th>\n",
       "      <th>Recommended IND</th>\n",
       "      <th>Positive Feedback Count</th>\n",
       "      <th>Division Name</th>\n",
       "      <th>Department Name</th>\n",
       "      <th>Class Name</th>\n",
       "      <th>Concat</th>\n",
       "    </tr>\n",
       "  </thead>\n",
       "  <tbody>\n",
       "    <tr>\n",
       "      <th>0</th>\n",
       "      <td>0</td>\n",
       "      <td>767</td>\n",
       "      <td>33</td>\n",
       "      <td>NaN</td>\n",
       "      <td>Absolutely wonderful - silky and sexy and comf...</td>\n",
       "      <td>4</td>\n",
       "      <td>1</td>\n",
       "      <td>0</td>\n",
       "      <td>Initmates</td>\n",
       "      <td>Intimate</td>\n",
       "      <td>Intimates</td>\n",
       "      <td>Absolutely wonderful - silky and sexy and comf...</td>\n",
       "    </tr>\n",
       "    <tr>\n",
       "      <th>1</th>\n",
       "      <td>1</td>\n",
       "      <td>1080</td>\n",
       "      <td>34</td>\n",
       "      <td>NaN</td>\n",
       "      <td>Love this dress!  it's sooo pretty.  i happene...</td>\n",
       "      <td>5</td>\n",
       "      <td>1</td>\n",
       "      <td>4</td>\n",
       "      <td>General</td>\n",
       "      <td>Dresses</td>\n",
       "      <td>Dresses</td>\n",
       "      <td>Love this dress!  it's sooo pretty.  i happene...</td>\n",
       "    </tr>\n",
       "    <tr>\n",
       "      <th>2</th>\n",
       "      <td>2</td>\n",
       "      <td>1077</td>\n",
       "      <td>60</td>\n",
       "      <td>Some major design flaws</td>\n",
       "      <td>I had such high hopes for this dress and reall...</td>\n",
       "      <td>3</td>\n",
       "      <td>0</td>\n",
       "      <td>0</td>\n",
       "      <td>General</td>\n",
       "      <td>Dresses</td>\n",
       "      <td>Dresses</td>\n",
       "      <td>Some major design flaws I had such high hopes ...</td>\n",
       "    </tr>\n",
       "    <tr>\n",
       "      <th>3</th>\n",
       "      <td>3</td>\n",
       "      <td>1049</td>\n",
       "      <td>50</td>\n",
       "      <td>My favorite buy!</td>\n",
       "      <td>I love, love, love this jumpsuit. it's fun, fl...</td>\n",
       "      <td>5</td>\n",
       "      <td>1</td>\n",
       "      <td>0</td>\n",
       "      <td>General Petite</td>\n",
       "      <td>Bottoms</td>\n",
       "      <td>Pants</td>\n",
       "      <td>My favorite buy! I love, love, love this jumps...</td>\n",
       "    </tr>\n",
       "    <tr>\n",
       "      <th>4</th>\n",
       "      <td>4</td>\n",
       "      <td>847</td>\n",
       "      <td>47</td>\n",
       "      <td>Flattering shirt</td>\n",
       "      <td>This shirt is very flattering to all due to th...</td>\n",
       "      <td>5</td>\n",
       "      <td>1</td>\n",
       "      <td>6</td>\n",
       "      <td>General</td>\n",
       "      <td>Tops</td>\n",
       "      <td>Blouses</td>\n",
       "      <td>Flattering shirt This shirt is very flattering...</td>\n",
       "    </tr>\n",
       "  </tbody>\n",
       "</table>\n",
       "</div>"
      ],
      "text/plain": [
       "   Unnamed: 0  Clothing ID  Age                    Title  \\\n",
       "0           0          767   33                      NaN   \n",
       "1           1         1080   34                      NaN   \n",
       "2           2         1077   60  Some major design flaws   \n",
       "3           3         1049   50         My favorite buy!   \n",
       "4           4          847   47         Flattering shirt   \n",
       "\n",
       "                                         Review Text  Rating  Recommended IND  \\\n",
       "0  Absolutely wonderful - silky and sexy and comf...       4                1   \n",
       "1  Love this dress!  it's sooo pretty.  i happene...       5                1   \n",
       "2  I had such high hopes for this dress and reall...       3                0   \n",
       "3  I love, love, love this jumpsuit. it's fun, fl...       5                1   \n",
       "4  This shirt is very flattering to all due to th...       5                1   \n",
       "\n",
       "   Positive Feedback Count   Division Name Department Name Class Name  \\\n",
       "0                        0       Initmates        Intimate  Intimates   \n",
       "1                        4         General         Dresses    Dresses   \n",
       "2                        0         General         Dresses    Dresses   \n",
       "3                        0  General Petite         Bottoms      Pants   \n",
       "4                        6         General            Tops    Blouses   \n",
       "\n",
       "                                              Concat  \n",
       "0  Absolutely wonderful - silky and sexy and comf...  \n",
       "1  Love this dress!  it's sooo pretty.  i happene...  \n",
       "2  Some major design flaws I had such high hopes ...  \n",
       "3  My favorite buy! I love, love, love this jumps...  \n",
       "4  Flattering shirt This shirt is very flattering...  "
      ]
     },
     "execution_count": 5,
     "metadata": {},
     "output_type": "execute_result"
    }
   ],
   "source": [
    "data.head()"
   ]
  },
  {
   "cell_type": "code",
   "execution_count": 6,
   "id": "d2a8729b",
   "metadata": {},
   "outputs": [],
   "source": [
    "# Count the number of reviews for each rating\n",
    "rating_counts = data['Rating'].value_counts().sort_index()"
   ]
  },
  {
   "cell_type": "code",
   "execution_count": 7,
   "id": "cc584700",
   "metadata": {},
   "outputs": [
    {
     "data": {
      "image/png": "[encoded data removed]",
      "text/plain": [
       "<Figure size 640x480 with 1 Axes>"
      ]
     },
     "metadata": {},
     "output_type": "display_data"
    }
   ],
   "source": [
    "# Draw a bar chart\n",
    "plt.bar(rating_counts.index, rating_counts.values)\n",
    "plt.xlabel('Rating')\n",
    "plt.ylabel('Number of Reviews')\n",
    "plt.title('Number of Reviews by Rating')\n",
    "plt.show()"
   ]
  },
  {
   "cell_type": "code",
   "execution_count": 8,
   "id": "3cad6124",
   "metadata": {},
   "outputs": [
    {
     "name": "stdout",
     "output_type": "stream",
     "text": [
      "821\n",
      "1549\n",
      "2823\n",
      "4908\n",
      "12540\n"
     ]
    }
   ],
   "source": [
    "# Get numerical count only\n",
    "count_values = rating_counts.values\n",
    "\n",
    "# Print the count\n",
    "for count in count_values:\n",
    "    print(count)"
   ]
  },
  {
   "cell_type": "markdown",
   "id": "2475b7ce",
   "metadata": {},
   "source": [
    "#Dataset is highly skewed toward 5 star reviews. Ths bias to be avoided during training the model #Note that Rating of 3 corresponds to only 2823 reviews. However, a fresh set of reviews needn't have the same distribution\n",
    "\n",
    "#Current approach in the training block below does not compensate for the bias toward 5-star reviews"
   ]
  },
  {
   "cell_type": "code",
   "execution_count": 15,
   "id": "6050abc2",
   "metadata": {},
   "outputs": [
    {
     "name": "stdout",
     "output_type": "stream",
     "text": [
      "Unnamed: 0                    0\n",
      "Clothing ID                   0\n",
      "Age                           0\n",
      "Title                      2966\n",
      "Review Text                   0\n",
      "Rating                        0\n",
      "Recommended IND               0\n",
      "Positive Feedback Count       0\n",
      "Division Name                13\n",
      "Department Name              13\n",
      "Class Name                   13\n",
      "Concat                        0\n",
      "dtype: int64\n"
     ]
    }
   ],
   "source": [
    "nan_counts = data.isna().sum()\n",
    "print(nan_counts)\n"
   ]
  },
  {
   "cell_type": "code",
   "execution_count": 16,
   "id": "8bc86268",
   "metadata": {},
   "outputs": [],
   "source": [
    "new_data = data[['Clothing ID', 'Rating', 'Concat']].copy()"
   ]
  },
  {
   "cell_type": "code",
   "execution_count": 17,
   "id": "310844f7",
   "metadata": {},
   "outputs": [
    {
     "name": "stdout",
     "output_type": "stream",
     "text": [
      "Clothing ID    0\n",
      "Rating         0\n",
      "Concat         0\n",
      "dtype: int64\n"
     ]
    }
   ],
   "source": [
    "nan_counts1 = new_data.isna().sum()\n",
    "print(nan_counts1)"
   ]
  },
  {
   "cell_type": "code",
   "execution_count": 18,
   "id": "b610d6b8",
   "metadata": {},
   "outputs": [
    {
     "data": {
      "text/plain": [
       "22641"
      ]
     },
     "execution_count": 18,
     "metadata": {},
     "output_type": "execute_result"
    }
   ],
   "source": [
    "len(new_data)"
   ]
  },
  {
   "cell_type": "code",
   "execution_count": 6,
   "id": "6138d04c",
   "metadata": {},
   "outputs": [
    {
     "name": "stdout",
     "output_type": "stream",
     "text": [
      "Requirement already satisfied: transformers in c:\\users\\calmeida\\anaconda3\\envs\\tf\\lib\\site-packages (4.30.2)\n",
      "Requirement already satisfied: filelock in c:\\users\\calmeida\\anaconda3\\envs\\tf\\lib\\site-packages (from transformers) (3.12.2)\n",
      "Requirement already satisfied: huggingface-hub<1.0,>=0.14.1 in c:\\users\\calmeida\\anaconda3\\envs\\tf\\lib\\site-packages (from transformers) (0.15.1)\n",
      "Requirement already satisfied: numpy>=1.17 in c:\\users\\calmeida\\anaconda3\\envs\\tf\\lib\\site-packages (from transformers) (1.25.0)\n",
      "Requirement already satisfied: packaging>=20.0 in c:\\users\\calmeida\\anaconda3\\envs\\tf\\lib\\site-packages (from transformers) (23.0)\n",
      "Requirement already satisfied: pyyaml>=5.1 in c:\\users\\calmeida\\anaconda3\\envs\\tf\\lib\\site-packages (from transformers) (6.0)\n",
      "Requirement already satisfied: regex!=2019.12.17 in c:\\users\\calmeida\\anaconda3\\envs\\tf\\lib\\site-packages (from transformers) (2023.6.3)\n",
      "Requirement already satisfied: requests in c:\\users\\calmeida\\anaconda3\\envs\\tf\\lib\\site-packages (from transformers) (2.29.0)\n",
      "Requirement already satisfied: tokenizers!=0.11.3,<0.14,>=0.11.1 in c:\\users\\calmeida\\anaconda3\\envs\\tf\\lib\\site-packages (from transformers) (0.13.3)\n",
      "Requirement already satisfied: safetensors>=0.3.1 in c:\\users\\calmeida\\anaconda3\\envs\\tf\\lib\\site-packages (from transformers) (0.3.1)\n",
      "Requirement already satisfied: tqdm>=4.27 in c:\\users\\calmeida\\anaconda3\\envs\\tf\\lib\\site-packages (from transformers) (4.65.0)\n",
      "Requirement already satisfied: fsspec in c:\\users\\calmeida\\anaconda3\\envs\\tf\\lib\\site-packages (from huggingface-hub<1.0,>=0.14.1->transformers) (2023.6.0)\n",
      "Requirement already satisfied: typing-extensions>=3.7.4.3 in c:\\users\\calmeida\\anaconda3\\envs\\tf\\lib\\site-packages (from huggingface-hub<1.0,>=0.14.1->transformers) (4.6.3)\n",
      "Requirement already satisfied: colorama in c:\\users\\calmeida\\anaconda3\\envs\\tf\\lib\\site-packages (from tqdm>=4.27->transformers) (0.4.6)\n",
      "Requirement already satisfied: charset-normalizer<4,>=2 in c:\\users\\calmeida\\anaconda3\\envs\\tf\\lib\\site-packages (from requests->transformers) (2.0.4)\n",
      "Requirement already satisfied: idna<4,>=2.5 in c:\\users\\calmeida\\anaconda3\\envs\\tf\\lib\\site-packages (from requests->transformers) (3.4)\n",
      "Requirement already satisfied: urllib3<1.27,>=1.21.1 in c:\\users\\calmeida\\anaconda3\\envs\\tf\\lib\\site-packages (from requests->transformers) (1.26.16)\n",
      "Requirement already satisfied: certifi>=2017.4.17 in c:\\users\\calmeida\\anaconda3\\envs\\tf\\lib\\site-packages (from requests->transformers) (2023.5.7)\n",
      "Note: you may need to restart the kernel to use updated packages.\n"
     ]
    }
   ],
   "source": [
    "pip install transformers\n"
   ]
  },
  {
   "cell_type": "code",
   "execution_count": 19,
   "id": "cf24ed14",
   "metadata": {},
   "outputs": [
    {
     "name": "stdout",
     "output_type": "stream",
     "text": [
      "22641\n",
      "22641\n"
     ]
    }
   ],
   "source": [
    "print(len(new_data))               # Length of the DataFrame\n",
    "print(len(new_data['Concat']))     # Length of the 'Concat' column\n"
   ]
  },
  {
   "cell_type": "code",
   "execution_count": 18,
   "id": "b983e080",
   "metadata": {},
   "outputs": [],
   "source": [
    "from transformers import BertTokenizer\n"
   ]
  },
  {
   "cell_type": "code",
   "execution_count": null,
   "id": "8355d1a1",
   "metadata": {},
   "outputs": [],
   "source": [
    "pip install tensorflow\n"
   ]
  },
  {
   "cell_type": "code",
   "execution_count": 36,
   "id": "cd4a9d82",
   "metadata": {},
   "outputs": [],
   "source": [
    "import tensorflow as tf\n",
    "import numpy as np\n",
    "from transformers import BertTokenizer, TFAutoModel\n",
    "\n",
    "# Load and preprocessing a dataframe with features of interest\n",
    "new_data = data[['Clothing ID', 'Rating', 'Concat']].copy()\n",
    "\n",
    "# We set the sequence length and no. of samples\n",
    "seq_len = 512\n",
    "num_samples = len(new_data)\n",
    "\n",
    "# Creating zero arrays for input data - Xids array stores input IDs i.e. numerical representations of the tokenized text\n",
    "#Xmask array stores the attention masks, which indicate which tokens should be utilised and which tokens should be ignored\n",
    "# BERT tokenizer adds tokens or truncates/pads the tokenized sequence to reach seq_len which is chosen as 512 since BERT pretraining \n",
    "#was actually performed with sequences of up to 512 tokens.\n",
    "\n",
    "Xids = np.zeros((num_samples, seq_len))\n",
    "Xmask = np.zeros((num_samples, seq_len))\n",
    "\n",
    "# Initializing the BERT tokenizer\n",
    "tokenizer = BertTokenizer.from_pretrained('bert-base-cased')\n",
    "\n",
    "# Process each phrase in the new_data DataFrame\n",
    "\n",
    "for i, phrase in enumerate(new_data['Concat']):\n",
    "    tokens = tokenizer.encode_plus(phrase, max_length=seq_len, truncation=True,\n",
    "                                   padding='max_length', add_special_tokens=True,\n",
    "                                   return_tensors='tf')\n",
    "    Xids[i, :] = tokens['input_ids']\n",
    "    Xmask[i, :] = tokens['attention_mask']\n",
    "    \n",
    "# Creating one-hot encoded labels\n",
    "arr = new_data['Rating'].values\n",
    "num_classes = len(np.unique(arr))\n",
    "labels = np.zeros((len(new_data), num_classes))\n",
    "labels[np.arange(len(new_data)), arr - 1] = 1\n",
    "\n",
    "#TensorFlow dataset from the input data and labels\n",
    "dataset = tf.data.Dataset.from_tensor_slices((Xids, Xmask, labels))\n"
   ]
  },
  {
   "cell_type": "code",
   "execution_count": 37,
   "id": "45896d69",
   "metadata": {},
   "outputs": [
    {
     "name": "stderr",
     "output_type": "stream",
     "text": [
      "Some weights of the PyTorch model were not used when initializing the TF 2.0 model TFBertModel: ['cls.predictions.transform.dense.bias', 'cls.predictions.transform.LayerNorm.weight', 'cls.predictions.transform.LayerNorm.bias', 'cls.predictions.transform.dense.weight', 'cls.seq_relationship.weight', 'cls.seq_relationship.bias', 'cls.predictions.bias']\n",
      "- This IS expected if you are initializing TFBertModel from a PyTorch model trained on another task or with another architecture (e.g. initializing a TFBertForSequenceClassification model from a BertForPreTraining model).\n",
      "- This IS NOT expected if you are initializing TFBertModel from a PyTorch model that you expect to be exactly identical (e.g. initializing a TFBertForSequenceClassification model from a BertForSequenceClassification model).\n",
      "All the weights of TFBertModel were initialized from the PyTorch model.\n",
      "If your task is similar to the task the model of the checkpoint was trained on, you can already use TFBertModel for predictions without further training.\n"
     ]
    }
   ],
   "source": [
    "# function defined to format/restructure elements of the dataset, taking input_ids, masks, and labels as arguments and returning \n",
    "#a dictionary containing (input_ids and attention_mask) along with the labels. \n",
    "def map_func(input_ids, masks, labels):\n",
    "    return {'input_ids': input_ids, 'attention_mask': masks}, labels\n",
    "\n",
    "dataset = dataset.map(map_func)\n",
    "\n",
    "#batch_size can be varied to optimise and shuffling a buffer of elements for each batch , \n",
    "#allows the sample order is randomised to prevent bias.buffer size limited by RAM avaialble etc.\n",
    "batch_size = 16\n",
    "dataset = dataset.shuffle(10000).batch(batch_size, drop_remainder=True)\n",
    "\n",
    "#Split to train and validate\n",
    "split = 0.9\n",
    "size = int((Xids.shape[0] / batch_size) * split)\n",
    "\n",
    "train_ds = dataset.take(size)\n",
    "val_ds = dataset.skip(size)\n",
    "\n",
    "# model architecture\n",
    "bert = TFAutoModel.from_pretrained('bert-base-cased')\n",
    "\n",
    "input_ids = tf.keras.layers.Input(shape=(512,), name='input_ids', dtype='int32')\n",
    "mask = tf.keras.layers.Input(shape=(512,), name='attention_mask', dtype='int32')\n",
    "\n",
    "embeddings = bert.bert(input_ids, attention_mask=mask)[1]\n",
    "x = tf.keras.layers.Dense(1024, activation='relu')(embeddings)\n",
    "y = tf.keras.layers.Dense(5, activation='softmax', name='outputs')(x)\n",
    "\n",
    "model = tf.keras.Model(inputs=[input_ids, mask], outputs=y)\n",
    "\n",
    "optimizer = tf.keras.optimizers.Adam(learning_rate=1e-5, decay=1e-6)\n",
    "loss = tf.keras.losses.CategoricalCrossentropy()\n",
    "acc = tf.keras.metrics.CategoricalAccuracy('accuracy')\n",
    "\n",
    "model.compile(optimizer=optimizer, loss=loss, metrics=[acc])\n",
    "\n",
    "\n",
    "\n"
   ]
  },
  {
   "cell_type": "code",
   "execution_count": 64,
   "id": "db5b599c",
   "metadata": {},
   "outputs": [
    {
     "name": "stdout",
     "output_type": "stream",
     "text": [
      "Epoch 1/3\n",
      " 920/1273 [====================>.........] - ETA: 11:17:48 - loss: 0.5368 - accuracy: 0.7766Keyboard interrupt received. Saving model...\n",
      "Model saved.\n"
     ]
    }
   ],
   "source": [
    "# Initial Training\n",
    "try:\n",
    "    history = model.fit(\n",
    "        train_ds,\n",
    "        epochs=3,\n",
    "    )\n",
    "except KeyboardInterrupt:\n",
    "    print(\"Keyboard interrupt received. Saving model...\")\n",
    "    model.save_weights('model_checkpoint')\n",
    "    model.save(\"final_model.h5\")\n",
    "    print(\"Model saved.\")\n",
    "\n",
    "# Save final model\n"
   ]
  },
  {
   "cell_type": "code",
   "execution_count": null,
   "id": "d9397e36",
   "metadata": {},
   "outputs": [],
   "source": [
    "#TO BE RUN IMMEDIATELY AFTER EACH INTERRUPT -Clearly Redefining Model as the now Saved Partially trained model\n",
    "model = tf.keras.models.load_model(\"final_model.h5\")"
   ]
  },
  {
   "cell_type": "code",
   "execution_count": 66,
   "id": "c87eaeec",
   "metadata": {},
   "outputs": [
    {
     "name": "stdout",
     "output_type": "stream",
     "text": [
      "Epoch 1/3\n",
      " 313/1273 [======>.......................] - ETA: 37:39:00 - loss: 0.4587 - accuracy: 0.8235Keyboard interrupt received. Saving model...\n",
      "Model saved.\n"
     ]
    }
   ],
   "source": [
    "\n",
    "# New Training loop below to follow model redefinition that can be run after the first keyboard interuption (but not power failure-code not equipped for power failure)\n",
    "#Epoch is always reset but partially trained model is now utilised in this block to progress further\n",
    "# Attempt to Define and set the starting_epoch based on the last completed epoch failed\n",
    "#starting_epoch = len(model.history.history['loss'])  # Update starting_epoch based on the last completed epoch\n",
    "\n",
    "# Load/initialize the model\n",
    "try:\n",
    "    history = model.fit(\n",
    "        train_ds,\n",
    "        epochs=3,\n",
    "       \n",
    "        \n",
    "    )\n",
    "\n",
    "except KeyboardInterrupt:\n",
    "    print(\"Keyboard interrupt received. Saving model...\")\n",
    "    #model.save_weights('model_checkpoint')\n",
    "    model.save(\"final_model.h5\")\n",
    "    print(\"Model saved.\")\n",
    "\n"
   ]
  },
  {
   "cell_type": "markdown",
   "id": "4aa3801f",
   "metadata": {},
   "source": [
    "#With the above over 3 epochs and a few extra batches were run - the epoch count was reset with keyboard interruptions and this remains as-is"
   ]
  },
  {
   "cell_type": "code",
   "execution_count": 69,
   "id": "ff3da7a2",
   "metadata": {},
   "outputs": [],
   "source": [
    "from sklearn.metrics import precision_score, recall_score, accuracy_score\n"
   ]
  },
  {
   "cell_type": "code",
   "execution_count": 72,
   "id": "73df787c",
   "metadata": {},
   "outputs": [
    {
     "name": "stdout",
     "output_type": "stream",
     "text": [
      "142/142 [==============================] - 1412s 10s/step - loss: 0.4577 - accuracy: 0.8156\n",
      " Validated Loss: 0.4577\n",
      "Validated Accuracy: 0.8156\n"
     ]
    }
   ],
   "source": [
    "# Load the trained model and Evaluate it for Overall Loss and Accuracy\n",
    "model = tf.keras.models.load_model(\"final_model.h5\")\n",
    "loss, accuracy = model.evaluate(val_ds)\n",
    "print(f\" Validated Loss: {loss:.4f}\")\n",
    "print(f\"Validated Accuracy: {accuracy:.4f}\")\n"
   ]
  },
  {
   "cell_type": "code",
   "execution_count": null,
   "id": "9a7af6de",
   "metadata": {},
   "outputs": [],
   "source": [
    "#At this stage redundant but just to make sure\n",
    "model = tf.keras.models.load_model(\"final_model.h5\")\n",
    "# Calculate metrics for each output class 1-5\n",
    "predictions = model.predict(val_ds)\n",
    "predicted_labels = np.argmax(predictions, axis=1)\n",
    "true_labels = []\n",
    "\n",
    "for data, labels in val_ds:\n",
    "    true_labels.extend(np.argmax(labels, axis=1))\n",
    "#142/142 [==============================] - 1330s 9s/step"
   ]
  },
  {
   "cell_type": "code",
   "execution_count": 80,
   "id": "70d95757",
   "metadata": {},
   "outputs": [
    {
     "name": "stdout",
     "output_type": "stream",
     "text": [
      "Confusion Matrix:\n",
      "[[  5  12  16  12  39]\n",
      " [  8   7  20  30  92]\n",
      " [ 26  14  44  48 163]\n",
      " [ 33  19  63  99 279]\n",
      " [ 68  77 200 200 698]]\n"
     ]
    }
   ],
   "source": [
    "from sklearn.metrics import confusion_matrix\n",
    "cm = confusion_matrix(true_labels, predicted_labels)\n",
    "\n",
    "# Print the confusion matrix\n",
    "print(\"Confusion Matrix:\")\n",
    "print(cm)"
   ]
  },
  {
   "cell_type": "code",
   "execution_count": 81,
   "id": "271142dc",
   "metadata": {},
   "outputs": [
    {
     "name": "stdout",
     "output_type": "stream",
     "text": [
      "Classification Report:\n",
      "              precision    recall  f1-score   support\n",
      "\n",
      "           0       0.04      0.06      0.04        84\n",
      "           1       0.05      0.04      0.05       157\n",
      "           2       0.13      0.15      0.14       295\n",
      "           3       0.25      0.20      0.22       493\n",
      "           4       0.55      0.56      0.56      1243\n",
      "\n",
      "    accuracy                           0.38      2272\n",
      "   macro avg       0.20      0.20      0.20      2272\n",
      "weighted avg       0.38      0.38      0.38      2272\n",
      "\n"
     ]
    }
   ],
   "source": [
    "# Print the classification report\n",
    "print(\"Classification Report:\")\n",
    "print(classification_report(true_labels, predicted_labels))"
   ]
  },
  {
   "cell_type": "markdown",
   "id": "a29558b4",
   "metadata": {},
   "source": [
    "## User may enter a review which is automatically evaluated for an appropriate star rating\n",
    "## While reviews within the dataset are perfectly evaluated, fresh inputs with toned down  wording may be interpreted as neutral sentiment even if the experience was actually bad- examples 7 and 8\n",
    "## Though overall good auto-rating considering poor recall values"
   ]
  },
  {
   "cell_type": "code",
   "execution_count": 76,
   "id": "03f7870b",
   "metadata": {},
   "outputs": [
    {
     "name": "stdout",
     "output_type": "stream",
     "text": [
      "Enter text: It was ok\n",
      "1/1 [==============================] - 5s 5s/step\n",
      "Predicted class: 3\n",
      "\n",
      "Enter text: It was great!\n",
      "1/1 [==============================] - 0s 430ms/step\n",
      "Predicted class: 5\n",
      "\n",
      "Enter text: It was horrible!!\n",
      "1/1 [==============================] - 0s 435ms/step\n",
      "Predicted class: 1\n",
      "\n",
      "Enter text: I had such high hopes for this dress and really wanted it to work for me. i initially ordered the petite small (my usual size) but i found this to be outrageously small. so small in fact that i could not zip it up! i reordered it in petite medium, which was just ok. overall, the top half was comfortable and fit nicely, but the bottom half had a very tight under layer and several somewhat cheap (net) over layers. imo, a major design flaw was the net over layer sewn directly into the zipper - it c\n",
      "1/1 [==============================] - 0s 447ms/step\n",
      "Predicted class: 3\n",
      "\n",
      "Enter text: This is a nice choice for holiday gatherings. i like that the length grazes the knee so it is conservative enough for office related gatherings. the size small fit me well - i am usually a size 2/4 with a small bust. in my opinion it runs small and those with larger busts will definitely have to size up (but then perhaps the waist will be too big). the problem with this dress is the quality. the fabrics are terrible. the delicate netting type fabric on the top layer of skirt got stuck in the zip\n",
      "1/1 [==============================] - 0s 440ms/step\n",
      "Predicted class: 3\n",
      "\n",
      "Enter text: It was overall nice . I have bought a better product before\n",
      "1/1 [==============================] - 0s 421ms/step\n",
      "Predicted class: 4\n",
      "\n",
      "Enter text: it arrived torn\n",
      "1/1 [==============================] - 0s 445ms/step\n",
      "Predicted class: 3\n",
      "\n",
      "Enter text: it arrived damaged\n",
      "1/1 [==============================] - 0s 444ms/step\n",
      "Predicted class: 3\n",
      "\n",
      "Enter text: i would like to return it\n",
      "1/1 [==============================] - 0s 448ms/step\n",
      "Predicted class: 3\n",
      "\n",
      "Enter text: this fit badly\n",
      "1/1 [==============================] - 0s 448ms/step\n",
      "Predicted class: 1\n",
      "\n"
     ]
    },
    {
     "ename": "KeyboardInterrupt",
     "evalue": "Interrupted by user",
     "output_type": "error",
     "traceback": [
      "\u001b[1;31m---------------------------------------------------------------------------\u001b[0m",
      "\u001b[1;31mKeyboardInterrupt\u001b[0m                         Traceback (most recent call last)",
      "Cell \u001b[1;32mIn[76], line 9\u001b[0m\n\u001b[0;32m      5\u001b[0m tokenizer \u001b[38;5;241m=\u001b[39m BertTokenizer\u001b[38;5;241m.\u001b[39mfrom_pretrained(\u001b[38;5;124m'\u001b[39m\u001b[38;5;124mbert-base-cased\u001b[39m\u001b[38;5;124m'\u001b[39m)\n\u001b[0;32m      7\u001b[0m \u001b[38;5;28;01mwhile\u001b[39;00m \u001b[38;5;28;01mTrue\u001b[39;00m:\n\u001b[0;32m      8\u001b[0m     \u001b[38;5;66;03m# Get user input (fresh review)\u001b[39;00m\n\u001b[1;32m----> 9\u001b[0m     input_text \u001b[38;5;241m=\u001b[39m \u001b[38;5;28;43minput\u001b[39;49m\u001b[43m(\u001b[49m\u001b[38;5;124;43m\"\u001b[39;49m\u001b[38;5;124;43mEnter text: \u001b[39;49m\u001b[38;5;124;43m\"\u001b[39;49m\u001b[43m)\u001b[49m\n\u001b[0;32m     11\u001b[0m     \u001b[38;5;66;03m# Tokenize and preprocess the input \u001b[39;00m\n\u001b[0;32m     12\u001b[0m     input_tokens \u001b[38;5;241m=\u001b[39m tokenizer\u001b[38;5;241m.\u001b[39mencode_plus(\n\u001b[0;32m     13\u001b[0m         input_text,\n\u001b[0;32m     14\u001b[0m         max_length\u001b[38;5;241m=\u001b[39mseq_len,\n\u001b[1;32m   (...)\u001b[0m\n\u001b[0;32m     18\u001b[0m         return_tensors\u001b[38;5;241m=\u001b[39m\u001b[38;5;124m'\u001b[39m\u001b[38;5;124mtf\u001b[39m\u001b[38;5;124m'\u001b[39m\n\u001b[0;32m     19\u001b[0m     )\n",
      "File \u001b[1;32m~\\Anaconda3\\envs\\tf\\lib\\site-packages\\ipykernel\\kernelbase.py:1175\u001b[0m, in \u001b[0;36mKernel.raw_input\u001b[1;34m(self, prompt)\u001b[0m\n\u001b[0;32m   1171\u001b[0m \u001b[38;5;28;01mif\u001b[39;00m \u001b[38;5;129;01mnot\u001b[39;00m \u001b[38;5;28mself\u001b[39m\u001b[38;5;241m.\u001b[39m_allow_stdin:\n\u001b[0;32m   1172\u001b[0m     \u001b[38;5;28;01mraise\u001b[39;00m StdinNotImplementedError(\n\u001b[0;32m   1173\u001b[0m         \u001b[38;5;124m\"\u001b[39m\u001b[38;5;124mraw_input was called, but this frontend does not support input requests.\u001b[39m\u001b[38;5;124m\"\u001b[39m\n\u001b[0;32m   1174\u001b[0m     )\n\u001b[1;32m-> 1175\u001b[0m \u001b[38;5;28;01mreturn\u001b[39;00m \u001b[38;5;28;43mself\u001b[39;49m\u001b[38;5;241;43m.\u001b[39;49m\u001b[43m_input_request\u001b[49m\u001b[43m(\u001b[49m\n\u001b[0;32m   1176\u001b[0m \u001b[43m    \u001b[49m\u001b[38;5;28;43mstr\u001b[39;49m\u001b[43m(\u001b[49m\u001b[43mprompt\u001b[49m\u001b[43m)\u001b[49m\u001b[43m,\u001b[49m\n\u001b[0;32m   1177\u001b[0m \u001b[43m    \u001b[49m\u001b[38;5;28;43mself\u001b[39;49m\u001b[38;5;241;43m.\u001b[39;49m\u001b[43m_parent_ident\u001b[49m\u001b[43m[\u001b[49m\u001b[38;5;124;43m\"\u001b[39;49m\u001b[38;5;124;43mshell\u001b[39;49m\u001b[38;5;124;43m\"\u001b[39;49m\u001b[43m]\u001b[49m\u001b[43m,\u001b[49m\n\u001b[0;32m   1178\u001b[0m \u001b[43m    \u001b[49m\u001b[38;5;28;43mself\u001b[39;49m\u001b[38;5;241;43m.\u001b[39;49m\u001b[43mget_parent\u001b[49m\u001b[43m(\u001b[49m\u001b[38;5;124;43m\"\u001b[39;49m\u001b[38;5;124;43mshell\u001b[39;49m\u001b[38;5;124;43m\"\u001b[39;49m\u001b[43m)\u001b[49m\u001b[43m,\u001b[49m\n\u001b[0;32m   1179\u001b[0m \u001b[43m    \u001b[49m\u001b[43mpassword\u001b[49m\u001b[38;5;241;43m=\u001b[39;49m\u001b[38;5;28;43;01mFalse\u001b[39;49;00m\u001b[43m,\u001b[49m\n\u001b[0;32m   1180\u001b[0m \u001b[43m\u001b[49m\u001b[43m)\u001b[49m\n",
      "File \u001b[1;32m~\\Anaconda3\\envs\\tf\\lib\\site-packages\\ipykernel\\kernelbase.py:1217\u001b[0m, in \u001b[0;36mKernel._input_request\u001b[1;34m(self, prompt, ident, parent, password)\u001b[0m\n\u001b[0;32m   1214\u001b[0m             \u001b[38;5;28;01mbreak\u001b[39;00m\n\u001b[0;32m   1215\u001b[0m \u001b[38;5;28;01mexcept\u001b[39;00m \u001b[38;5;167;01mKeyboardInterrupt\u001b[39;00m:\n\u001b[0;32m   1216\u001b[0m     \u001b[38;5;66;03m# re-raise KeyboardInterrupt, to truncate traceback\u001b[39;00m\n\u001b[1;32m-> 1217\u001b[0m     \u001b[38;5;28;01mraise\u001b[39;00m \u001b[38;5;167;01mKeyboardInterrupt\u001b[39;00m(\u001b[38;5;124m\"\u001b[39m\u001b[38;5;124mInterrupted by user\u001b[39m\u001b[38;5;124m\"\u001b[39m) \u001b[38;5;28;01mfrom\u001b[39;00m \u001b[38;5;28;01mNone\u001b[39;00m\n\u001b[0;32m   1218\u001b[0m \u001b[38;5;28;01mexcept\u001b[39;00m \u001b[38;5;167;01mException\u001b[39;00m:\n\u001b[0;32m   1219\u001b[0m     \u001b[38;5;28mself\u001b[39m\u001b[38;5;241m.\u001b[39mlog\u001b[38;5;241m.\u001b[39mwarning(\u001b[38;5;124m\"\u001b[39m\u001b[38;5;124mInvalid Message:\u001b[39m\u001b[38;5;124m\"\u001b[39m, exc_info\u001b[38;5;241m=\u001b[39m\u001b[38;5;28;01mTrue\u001b[39;00m)\n",
      "\u001b[1;31mKeyboardInterrupt\u001b[0m: Interrupted by user"
     ]
    }
   ],
   "source": [
    "# Load the trained model\n",
    "model = tf.keras.models.load_model(\"final_model.h5\")\n",
    "\n",
    "# Initialize the tokenizer\n",
    "tokenizer = BertTokenizer.from_pretrained('bert-base-cased')\n",
    "\n",
    "while True:\n",
    "    # Get user input (fresh review)\n",
    "    input_text = input(\"Enter text: \")\n",
    "\n",
    "    # Tokenize and preprocess the input \n",
    "    input_tokens = tokenizer.encode_plus(\n",
    "        input_text,\n",
    "        max_length=seq_len,\n",
    "        truncation=True,\n",
    "        padding='max_length',\n",
    "        add_special_tokens=True,\n",
    "        return_tensors='tf'\n",
    "    )\n",
    "    input_ids = input_tokens['input_ids']\n",
    "    attention_mask = input_tokens['attention_mask']\n",
    "\n",
    "    # predict\n",
    "    prediction = model.predict({'input_ids': input_ids, 'attention_mask': attention_mask})\n",
    "    predicted_class = np.argmax(prediction[0]) + 1  # Adding 1 to match class labels (1 to 5)\n",
    "\n",
    "    print(f\"Predicted class: {predicted_class}\\n\")\n"
   ]
  },
  {
   "cell_type": "code",
   "execution_count": 23,
   "id": "9b1964ae",
   "metadata": {},
   "outputs": [
    {
     "name": "stdout",
     "output_type": "stream",
     "text": [
      "(22641,)\n",
      "int64\n"
     ]
    }
   ],
   "source": [
    "print(arr.shape)  # View the shape of the array\n",
    "print(arr.dtype)  # View the data type of the array elements\n"
   ]
  },
  {
   "cell_type": "code",
   "execution_count": 24,
   "id": "5373cbdc",
   "metadata": {},
   "outputs": [
    {
     "data": {
      "text/plain": [
       "(22641, 512)"
      ]
     },
     "execution_count": 24,
     "metadata": {},
     "output_type": "execute_result"
    }
   ],
   "source": [
    "# check shape\n",
    "Xids.shape"
   ]
  },
  {
   "cell_type": "code",
   "execution_count": 26,
   "id": "6e4e0ece",
   "metadata": {},
   "outputs": [
    {
     "name": "stdout",
     "output_type": "stream",
     "text": [
      "(<tf.Tensor: shape=(512,), dtype=float64, numpy=\n",
      "array([  101., 24107.,  7310.,   118., 21453.,  1105.,  8141.,  1105.,\n",
      "        6062.,   102.,     0.,     0.,     0.,     0.,     0.,     0.,\n",
      "           0.,     0.,     0.,     0.,     0.,     0.,     0.,     0.,\n",
      "           0.,     0.,     0.,     0.,     0.,     0.,     0.,     0.,\n",
      "           0.,     0.,     0.,     0.,     0.,     0.,     0.,     0.,\n",
      "           0.,     0.,     0.,     0.,     0.,     0.,     0.,     0.,\n",
      "           0.,     0.,     0.,     0.,     0.,     0.,     0.,     0.,\n",
      "           0.,     0.,     0.,     0.,     0.,     0.,     0.,     0.,\n",
      "           0.,     0.,     0.,     0.,     0.,     0.,     0.,     0.,\n",
      "           0.,     0.,     0.,     0.,     0.,     0.,     0.,     0.,\n",
      "           0.,     0.,     0.,     0.,     0.,     0.,     0.,     0.,\n",
      "           0.,     0.,     0.,     0.,     0.,     0.,     0.,     0.,\n",
      "           0.,     0.,     0.,     0.,     0.,     0.,     0.,     0.,\n",
      "           0.,     0.,     0.,     0.,     0.,     0.,     0.,     0.,\n",
      "           0.,     0.,     0.,     0.,     0.,     0.,     0.,     0.,\n",
      "           0.,     0.,     0.,     0.,     0.,     0.,     0.,     0.,\n",
      "           0.,     0.,     0.,     0.,     0.,     0.,     0.,     0.,\n",
      "           0.,     0.,     0.,     0.,     0.,     0.,     0.,     0.,\n",
      "           0.,     0.,     0.,     0.,     0.,     0.,     0.,     0.,\n",
      "           0.,     0.,     0.,     0.,     0.,     0.,     0.,     0.,\n",
      "           0.,     0.,     0.,     0.,     0.,     0.,     0.,     0.,\n",
      "           0.,     0.,     0.,     0.,     0.,     0.,     0.,     0.,\n",
      "           0.,     0.,     0.,     0.,     0.,     0.,     0.,     0.,\n",
      "           0.,     0.,     0.,     0.,     0.,     0.,     0.,     0.,\n",
      "           0.,     0.,     0.,     0.,     0.,     0.,     0.,     0.,\n",
      "           0.,     0.,     0.,     0.,     0.,     0.,     0.,     0.,\n",
      "           0.,     0.,     0.,     0.,     0.,     0.,     0.,     0.,\n",
      "           0.,     0.,     0.,     0.,     0.,     0.,     0.,     0.,\n",
      "           0.,     0.,     0.,     0.,     0.,     0.,     0.,     0.,\n",
      "           0.,     0.,     0.,     0.,     0.,     0.,     0.,     0.,\n",
      "           0.,     0.,     0.,     0.,     0.,     0.,     0.,     0.,\n",
      "           0.,     0.,     0.,     0.,     0.,     0.,     0.,     0.,\n",
      "           0.,     0.,     0.,     0.,     0.,     0.,     0.,     0.,\n",
      "           0.,     0.,     0.,     0.,     0.,     0.,     0.,     0.,\n",
      "           0.,     0.,     0.,     0.,     0.,     0.,     0.,     0.,\n",
      "           0.,     0.,     0.,     0.,     0.,     0.,     0.,     0.,\n",
      "           0.,     0.,     0.,     0.,     0.,     0.,     0.,     0.,\n",
      "           0.,     0.,     0.,     0.,     0.,     0.,     0.,     0.,\n",
      "           0.,     0.,     0.,     0.,     0.,     0.,     0.,     0.,\n",
      "           0.,     0.,     0.,     0.,     0.,     0.,     0.,     0.,\n",
      "           0.,     0.,     0.,     0.,     0.,     0.,     0.,     0.,\n",
      "           0.,     0.,     0.,     0.,     0.,     0.,     0.,     0.,\n",
      "           0.,     0.,     0.,     0.,     0.,     0.,     0.,     0.,\n",
      "           0.,     0.,     0.,     0.,     0.,     0.,     0.,     0.,\n",
      "           0.,     0.,     0.,     0.,     0.,     0.,     0.,     0.,\n",
      "           0.,     0.,     0.,     0.,     0.,     0.,     0.,     0.,\n",
      "           0.,     0.,     0.,     0.,     0.,     0.,     0.,     0.,\n",
      "           0.,     0.,     0.,     0.,     0.,     0.,     0.,     0.,\n",
      "           0.,     0.,     0.,     0.,     0.,     0.,     0.,     0.,\n",
      "           0.,     0.,     0.,     0.,     0.,     0.,     0.,     0.,\n",
      "           0.,     0.,     0.,     0.,     0.,     0.,     0.,     0.,\n",
      "           0.,     0.,     0.,     0.,     0.,     0.,     0.,     0.,\n",
      "           0.,     0.,     0.,     0.,     0.,     0.,     0.,     0.,\n",
      "           0.,     0.,     0.,     0.,     0.,     0.,     0.,     0.,\n",
      "           0.,     0.,     0.,     0.,     0.,     0.,     0.,     0.,\n",
      "           0.,     0.,     0.,     0.,     0.,     0.,     0.,     0.,\n",
      "           0.,     0.,     0.,     0.,     0.,     0.,     0.,     0.,\n",
      "           0.,     0.,     0.,     0.,     0.,     0.,     0.,     0.,\n",
      "           0.,     0.,     0.,     0.,     0.,     0.,     0.,     0.,\n",
      "           0.,     0.,     0.,     0.,     0.,     0.,     0.,     0.,\n",
      "           0.,     0.,     0.,     0.,     0.,     0.,     0.,     0.,\n",
      "           0.,     0.,     0.,     0.,     0.,     0.,     0.,     0.,\n",
      "           0.,     0.,     0.,     0.,     0.,     0.,     0.,     0.,\n",
      "           0.,     0.,     0.,     0.,     0.,     0.,     0.,     0.])>, <tf.Tensor: shape=(512,), dtype=float64, numpy=\n",
      "array([1., 1., 1., 1., 1., 1., 1., 1., 1., 1., 0., 0., 0., 0., 0., 0., 0.,\n",
      "       0., 0., 0., 0., 0., 0., 0., 0., 0., 0., 0., 0., 0., 0., 0., 0., 0.,\n",
      "       0., 0., 0., 0., 0., 0., 0., 0., 0., 0., 0., 0., 0., 0., 0., 0., 0.,\n",
      "       0., 0., 0., 0., 0., 0., 0., 0., 0., 0., 0., 0., 0., 0., 0., 0., 0.,\n",
      "       0., 0., 0., 0., 0., 0., 0., 0., 0., 0., 0., 0., 0., 0., 0., 0., 0.,\n",
      "       0., 0., 0., 0., 0., 0., 0., 0., 0., 0., 0., 0., 0., 0., 0., 0., 0.,\n",
      "       0., 0., 0., 0., 0., 0., 0., 0., 0., 0., 0., 0., 0., 0., 0., 0., 0.,\n",
      "       0., 0., 0., 0., 0., 0., 0., 0., 0., 0., 0., 0., 0., 0., 0., 0., 0.,\n",
      "       0., 0., 0., 0., 0., 0., 0., 0., 0., 0., 0., 0., 0., 0., 0., 0., 0.,\n",
      "       0., 0., 0., 0., 0., 0., 0., 0., 0., 0., 0., 0., 0., 0., 0., 0., 0.,\n",
      "       0., 0., 0., 0., 0., 0., 0., 0., 0., 0., 0., 0., 0., 0., 0., 0., 0.,\n",
      "       0., 0., 0., 0., 0., 0., 0., 0., 0., 0., 0., 0., 0., 0., 0., 0., 0.,\n",
      "       0., 0., 0., 0., 0., 0., 0., 0., 0., 0., 0., 0., 0., 0., 0., 0., 0.,\n",
      "       0., 0., 0., 0., 0., 0., 0., 0., 0., 0., 0., 0., 0., 0., 0., 0., 0.,\n",
      "       0., 0., 0., 0., 0., 0., 0., 0., 0., 0., 0., 0., 0., 0., 0., 0., 0.,\n",
      "       0., 0., 0., 0., 0., 0., 0., 0., 0., 0., 0., 0., 0., 0., 0., 0., 0.,\n",
      "       0., 0., 0., 0., 0., 0., 0., 0., 0., 0., 0., 0., 0., 0., 0., 0., 0.,\n",
      "       0., 0., 0., 0., 0., 0., 0., 0., 0., 0., 0., 0., 0., 0., 0., 0., 0.,\n",
      "       0., 0., 0., 0., 0., 0., 0., 0., 0., 0., 0., 0., 0., 0., 0., 0., 0.,\n",
      "       0., 0., 0., 0., 0., 0., 0., 0., 0., 0., 0., 0., 0., 0., 0., 0., 0.,\n",
      "       0., 0., 0., 0., 0., 0., 0., 0., 0., 0., 0., 0., 0., 0., 0., 0., 0.,\n",
      "       0., 0., 0., 0., 0., 0., 0., 0., 0., 0., 0., 0., 0., 0., 0., 0., 0.,\n",
      "       0., 0., 0., 0., 0., 0., 0., 0., 0., 0., 0., 0., 0., 0., 0., 0., 0.,\n",
      "       0., 0., 0., 0., 0., 0., 0., 0., 0., 0., 0., 0., 0., 0., 0., 0., 0.,\n",
      "       0., 0., 0., 0., 0., 0., 0., 0., 0., 0., 0., 0., 0., 0., 0., 0., 0.,\n",
      "       0., 0., 0., 0., 0., 0., 0., 0., 0., 0., 0., 0., 0., 0., 0., 0., 0.,\n",
      "       0., 0., 0., 0., 0., 0., 0., 0., 0., 0., 0., 0., 0., 0., 0., 0., 0.,\n",
      "       0., 0., 0., 0., 0., 0., 0., 0., 0., 0., 0., 0., 0., 0., 0., 0., 0.,\n",
      "       0., 0., 0., 0., 0., 0., 0., 0., 0., 0., 0., 0., 0., 0., 0., 0., 0.,\n",
      "       0., 0., 0., 0., 0., 0., 0., 0., 0., 0., 0., 0., 0., 0., 0., 0., 0.,\n",
      "       0., 0.])>, <tf.Tensor: shape=(5,), dtype=float64, numpy=array([0., 0., 0., 1., 0.])>)\n",
      "(<tf.Tensor: shape=(512,), dtype=float64, numpy=\n",
      "array([  101.,  2185.,  1142.,  3642.,   106.,  1122.,   112.,   188.,\n",
      "        1177.,  5658.,  2785.,   119.,   178.,  2171.,  1106.,  1525.,\n",
      "        1122.,  1107.,   170.,  2984.,   117.,  1105.,   178.,   112.,\n",
      "         182.,  5171.,   178.,  1225.,   171.,  1665.,   178.,  1309.,\n",
      "        1156.,  1138.,  2802.,  1122.,  3294.,   171.,  1665.,  1122.,\n",
      "         112.,   188., 11109.,  3150.,   119.,   178.,  3306.,   170.,\n",
      "       11109.,  3150.,  1105.,  1821.,   126.,   112.,   129.,   107.,\n",
      "         119.,   178.,  1567.,  1103.,  2251.,  1113.,  1143.,   118.,\n",
      "        4919.,  1198.,   170.,  1376.,  2071.,  1103.,  5656.,   119.,\n",
      "        1156.,  5397.,  1129.,   170.,  2276.,  2286.,  1182.,  1113.,\n",
      "        1800.,  1150.,  1110.,  5098., 11109.,  3150.,   119.,   102.,\n",
      "           0.,     0.,     0.,     0.,     0.,     0.,     0.,     0.,\n",
      "           0.,     0.,     0.,     0.,     0.,     0.,     0.,     0.,\n",
      "           0.,     0.,     0.,     0.,     0.,     0.,     0.,     0.,\n",
      "           0.,     0.,     0.,     0.,     0.,     0.,     0.,     0.,\n",
      "           0.,     0.,     0.,     0.,     0.,     0.,     0.,     0.,\n",
      "           0.,     0.,     0.,     0.,     0.,     0.,     0.,     0.,\n",
      "           0.,     0.,     0.,     0.,     0.,     0.,     0.,     0.,\n",
      "           0.,     0.,     0.,     0.,     0.,     0.,     0.,     0.,\n",
      "           0.,     0.,     0.,     0.,     0.,     0.,     0.,     0.,\n",
      "           0.,     0.,     0.,     0.,     0.,     0.,     0.,     0.,\n",
      "           0.,     0.,     0.,     0.,     0.,     0.,     0.,     0.,\n",
      "           0.,     0.,     0.,     0.,     0.,     0.,     0.,     0.,\n",
      "           0.,     0.,     0.,     0.,     0.,     0.,     0.,     0.,\n",
      "           0.,     0.,     0.,     0.,     0.,     0.,     0.,     0.,\n",
      "           0.,     0.,     0.,     0.,     0.,     0.,     0.,     0.,\n",
      "           0.,     0.,     0.,     0.,     0.,     0.,     0.,     0.,\n",
      "           0.,     0.,     0.,     0.,     0.,     0.,     0.,     0.,\n",
      "           0.,     0.,     0.,     0.,     0.,     0.,     0.,     0.,\n",
      "           0.,     0.,     0.,     0.,     0.,     0.,     0.,     0.,\n",
      "           0.,     0.,     0.,     0.,     0.,     0.,     0.,     0.,\n",
      "           0.,     0.,     0.,     0.,     0.,     0.,     0.,     0.,\n",
      "           0.,     0.,     0.,     0.,     0.,     0.,     0.,     0.,\n",
      "           0.,     0.,     0.,     0.,     0.,     0.,     0.,     0.,\n",
      "           0.,     0.,     0.,     0.,     0.,     0.,     0.,     0.,\n",
      "           0.,     0.,     0.,     0.,     0.,     0.,     0.,     0.,\n",
      "           0.,     0.,     0.,     0.,     0.,     0.,     0.,     0.,\n",
      "           0.,     0.,     0.,     0.,     0.,     0.,     0.,     0.,\n",
      "           0.,     0.,     0.,     0.,     0.,     0.,     0.,     0.,\n",
      "           0.,     0.,     0.,     0.,     0.,     0.,     0.,     0.,\n",
      "           0.,     0.,     0.,     0.,     0.,     0.,     0.,     0.,\n",
      "           0.,     0.,     0.,     0.,     0.,     0.,     0.,     0.,\n",
      "           0.,     0.,     0.,     0.,     0.,     0.,     0.,     0.,\n",
      "           0.,     0.,     0.,     0.,     0.,     0.,     0.,     0.,\n",
      "           0.,     0.,     0.,     0.,     0.,     0.,     0.,     0.,\n",
      "           0.,     0.,     0.,     0.,     0.,     0.,     0.,     0.,\n",
      "           0.,     0.,     0.,     0.,     0.,     0.,     0.,     0.,\n",
      "           0.,     0.,     0.,     0.,     0.,     0.,     0.,     0.,\n",
      "           0.,     0.,     0.,     0.,     0.,     0.,     0.,     0.,\n",
      "           0.,     0.,     0.,     0.,     0.,     0.,     0.,     0.,\n",
      "           0.,     0.,     0.,     0.,     0.,     0.,     0.,     0.,\n",
      "           0.,     0.,     0.,     0.,     0.,     0.,     0.,     0.,\n",
      "           0.,     0.,     0.,     0.,     0.,     0.,     0.,     0.,\n",
      "           0.,     0.,     0.,     0.,     0.,     0.,     0.,     0.,\n",
      "           0.,     0.,     0.,     0.,     0.,     0.,     0.,     0.,\n",
      "           0.,     0.,     0.,     0.,     0.,     0.,     0.,     0.,\n",
      "           0.,     0.,     0.,     0.,     0.,     0.,     0.,     0.,\n",
      "           0.,     0.,     0.,     0.,     0.,     0.,     0.,     0.,\n",
      "           0.,     0.,     0.,     0.,     0.,     0.,     0.,     0.,\n",
      "           0.,     0.,     0.,     0.,     0.,     0.,     0.,     0.,\n",
      "           0.,     0.,     0.,     0.,     0.,     0.,     0.,     0.,\n",
      "           0.,     0.,     0.,     0.,     0.,     0.,     0.,     0.,\n",
      "           0.,     0.,     0.,     0.,     0.,     0.,     0.,     0.,\n",
      "           0.,     0.,     0.,     0.,     0.,     0.,     0.,     0.])>, <tf.Tensor: shape=(512,), dtype=float64, numpy=\n",
      "array([1., 1., 1., 1., 1., 1., 1., 1., 1., 1., 1., 1., 1., 1., 1., 1., 1.,\n",
      "       1., 1., 1., 1., 1., 1., 1., 1., 1., 1., 1., 1., 1., 1., 1., 1., 1.,\n",
      "       1., 1., 1., 1., 1., 1., 1., 1., 1., 1., 1., 1., 1., 1., 1., 1., 1.,\n",
      "       1., 1., 1., 1., 1., 1., 1., 1., 1., 1., 1., 1., 1., 1., 1., 1., 1.,\n",
      "       1., 1., 1., 1., 1., 1., 1., 1., 1., 1., 1., 1., 1., 1., 1., 1., 1.,\n",
      "       1., 1., 1., 0., 0., 0., 0., 0., 0., 0., 0., 0., 0., 0., 0., 0., 0.,\n",
      "       0., 0., 0., 0., 0., 0., 0., 0., 0., 0., 0., 0., 0., 0., 0., 0., 0.,\n",
      "       0., 0., 0., 0., 0., 0., 0., 0., 0., 0., 0., 0., 0., 0., 0., 0., 0.,\n",
      "       0., 0., 0., 0., 0., 0., 0., 0., 0., 0., 0., 0., 0., 0., 0., 0., 0.,\n",
      "       0., 0., 0., 0., 0., 0., 0., 0., 0., 0., 0., 0., 0., 0., 0., 0., 0.,\n",
      "       0., 0., 0., 0., 0., 0., 0., 0., 0., 0., 0., 0., 0., 0., 0., 0., 0.,\n",
      "       0., 0., 0., 0., 0., 0., 0., 0., 0., 0., 0., 0., 0., 0., 0., 0., 0.,\n",
      "       0., 0., 0., 0., 0., 0., 0., 0., 0., 0., 0., 0., 0., 0., 0., 0., 0.,\n",
      "       0., 0., 0., 0., 0., 0., 0., 0., 0., 0., 0., 0., 0., 0., 0., 0., 0.,\n",
      "       0., 0., 0., 0., 0., 0., 0., 0., 0., 0., 0., 0., 0., 0., 0., 0., 0.,\n",
      "       0., 0., 0., 0., 0., 0., 0., 0., 0., 0., 0., 0., 0., 0., 0., 0., 0.,\n",
      "       0., 0., 0., 0., 0., 0., 0., 0., 0., 0., 0., 0., 0., 0., 0., 0., 0.,\n",
      "       0., 0., 0., 0., 0., 0., 0., 0., 0., 0., 0., 0., 0., 0., 0., 0., 0.,\n",
      "       0., 0., 0., 0., 0., 0., 0., 0., 0., 0., 0., 0., 0., 0., 0., 0., 0.,\n",
      "       0., 0., 0., 0., 0., 0., 0., 0., 0., 0., 0., 0., 0., 0., 0., 0., 0.,\n",
      "       0., 0., 0., 0., 0., 0., 0., 0., 0., 0., 0., 0., 0., 0., 0., 0., 0.,\n",
      "       0., 0., 0., 0., 0., 0., 0., 0., 0., 0., 0., 0., 0., 0., 0., 0., 0.,\n",
      "       0., 0., 0., 0., 0., 0., 0., 0., 0., 0., 0., 0., 0., 0., 0., 0., 0.,\n",
      "       0., 0., 0., 0., 0., 0., 0., 0., 0., 0., 0., 0., 0., 0., 0., 0., 0.,\n",
      "       0., 0., 0., 0., 0., 0., 0., 0., 0., 0., 0., 0., 0., 0., 0., 0., 0.,\n",
      "       0., 0., 0., 0., 0., 0., 0., 0., 0., 0., 0., 0., 0., 0., 0., 0., 0.,\n",
      "       0., 0., 0., 0., 0., 0., 0., 0., 0., 0., 0., 0., 0., 0., 0., 0., 0.,\n",
      "       0., 0., 0., 0., 0., 0., 0., 0., 0., 0., 0., 0., 0., 0., 0., 0., 0.,\n",
      "       0., 0., 0., 0., 0., 0., 0., 0., 0., 0., 0., 0., 0., 0., 0., 0., 0.,\n",
      "       0., 0., 0., 0., 0., 0., 0., 0., 0., 0., 0., 0., 0., 0., 0., 0., 0.,\n",
      "       0., 0.])>, <tf.Tensor: shape=(5,), dtype=float64, numpy=array([0., 0., 0., 0., 1.])>)\n",
      "(<tf.Tensor: shape=(512,), dtype=float64, numpy=\n",
      "array([  101.,  1789.,  1558.,  1902., 24132.,   146.,  1125.,  1216.,\n",
      "        1344.,  7816.,  1111.,  1142.,  3642.,  1105.,  1541.,  1458.,\n",
      "        1122.,  1106.,  1250.,  1111.,  1143.,   119.,   178.,  2786.,\n",
      "        2802.,  1103., 11109.,  3150.,  1353.,   113.,  1139.,  4400.,\n",
      "        2060.,   114.,  1133.,   178.,  1276.,  1142.,  1106.,  1129.,\n",
      "       22052.,  9537.,  1353.,   119.,  1177.,  1353.,  1107.,  1864.,\n",
      "        1115.,   178.,  1180.,  1136.,   195.,  9717.,  1122.,  1146.,\n",
      "         106.,   178.,  1231.,  6944.,  5686.,  1122.,  1107., 11109.,\n",
      "        3150.,  5143.,   117.,  1134.,  1108.,  1198., 21534.,   119.,\n",
      "        2905.,   117.,  1103.,  1499.,  1544.,  1108.,  6062.,  1105.,\n",
      "        4218., 22857.,   117.,  1133.,  1103.,  3248.,  1544.,  1125.,\n",
      "         170.,  1304.,  3600.,  1223.,  6440.,  1105.,  1317.,  4742.,\n",
      "       10928.,   113.,  5795.,   114.,  1166.,  8798.,   119., 13280.,\n",
      "        1186.,   117.,   170.,  1558.,  1902., 22593.,  7220.,  1108.,\n",
      "        1103.,  5795.,  1166.,  6440., 14516.,  6540.,  2626.,  1154.,\n",
      "        1103., 26074.,   118.,  1122.,   172.,   102.,     0.,     0.,\n",
      "           0.,     0.,     0.,     0.,     0.,     0.,     0.,     0.,\n",
      "           0.,     0.,     0.,     0.,     0.,     0.,     0.,     0.,\n",
      "           0.,     0.,     0.,     0.,     0.,     0.,     0.,     0.,\n",
      "           0.,     0.,     0.,     0.,     0.,     0.,     0.,     0.,\n",
      "           0.,     0.,     0.,     0.,     0.,     0.,     0.,     0.,\n",
      "           0.,     0.,     0.,     0.,     0.,     0.,     0.,     0.,\n",
      "           0.,     0.,     0.,     0.,     0.,     0.,     0.,     0.,\n",
      "           0.,     0.,     0.,     0.,     0.,     0.,     0.,     0.,\n",
      "           0.,     0.,     0.,     0.,     0.,     0.,     0.,     0.,\n",
      "           0.,     0.,     0.,     0.,     0.,     0.,     0.,     0.,\n",
      "           0.,     0.,     0.,     0.,     0.,     0.,     0.,     0.,\n",
      "           0.,     0.,     0.,     0.,     0.,     0.,     0.,     0.,\n",
      "           0.,     0.,     0.,     0.,     0.,     0.,     0.,     0.,\n",
      "           0.,     0.,     0.,     0.,     0.,     0.,     0.,     0.,\n",
      "           0.,     0.,     0.,     0.,     0.,     0.,     0.,     0.,\n",
      "           0.,     0.,     0.,     0.,     0.,     0.,     0.,     0.,\n",
      "           0.,     0.,     0.,     0.,     0.,     0.,     0.,     0.,\n",
      "           0.,     0.,     0.,     0.,     0.,     0.,     0.,     0.,\n",
      "           0.,     0.,     0.,     0.,     0.,     0.,     0.,     0.,\n",
      "           0.,     0.,     0.,     0.,     0.,     0.,     0.,     0.,\n",
      "           0.,     0.,     0.,     0.,     0.,     0.,     0.,     0.,\n",
      "           0.,     0.,     0.,     0.,     0.,     0.,     0.,     0.,\n",
      "           0.,     0.,     0.,     0.,     0.,     0.,     0.,     0.,\n",
      "           0.,     0.,     0.,     0.,     0.,     0.,     0.,     0.,\n",
      "           0.,     0.,     0.,     0.,     0.,     0.,     0.,     0.,\n",
      "           0.,     0.,     0.,     0.,     0.,     0.,     0.,     0.,\n",
      "           0.,     0.,     0.,     0.,     0.,     0.,     0.,     0.,\n",
      "           0.,     0.,     0.,     0.,     0.,     0.,     0.,     0.,\n",
      "           0.,     0.,     0.,     0.,     0.,     0.,     0.,     0.,\n",
      "           0.,     0.,     0.,     0.,     0.,     0.,     0.,     0.,\n",
      "           0.,     0.,     0.,     0.,     0.,     0.,     0.,     0.,\n",
      "           0.,     0.,     0.,     0.,     0.,     0.,     0.,     0.,\n",
      "           0.,     0.,     0.,     0.,     0.,     0.,     0.,     0.,\n",
      "           0.,     0.,     0.,     0.,     0.,     0.,     0.,     0.,\n",
      "           0.,     0.,     0.,     0.,     0.,     0.,     0.,     0.,\n",
      "           0.,     0.,     0.,     0.,     0.,     0.,     0.,     0.,\n",
      "           0.,     0.,     0.,     0.,     0.,     0.,     0.,     0.,\n",
      "           0.,     0.,     0.,     0.,     0.,     0.,     0.,     0.,\n",
      "           0.,     0.,     0.,     0.,     0.,     0.,     0.,     0.,\n",
      "           0.,     0.,     0.,     0.,     0.,     0.,     0.,     0.,\n",
      "           0.,     0.,     0.,     0.,     0.,     0.,     0.,     0.,\n",
      "           0.,     0.,     0.,     0.,     0.,     0.,     0.,     0.,\n",
      "           0.,     0.,     0.,     0.,     0.,     0.,     0.,     0.,\n",
      "           0.,     0.,     0.,     0.,     0.,     0.,     0.,     0.,\n",
      "           0.,     0.,     0.,     0.,     0.,     0.,     0.,     0.,\n",
      "           0.,     0.,     0.,     0.,     0.,     0.,     0.,     0.,\n",
      "           0.,     0.,     0.,     0.,     0.,     0.,     0.,     0.,\n",
      "           0.,     0.,     0.,     0.,     0.,     0.,     0.,     0.])>, <tf.Tensor: shape=(512,), dtype=float64, numpy=\n",
      "array([1., 1., 1., 1., 1., 1., 1., 1., 1., 1., 1., 1., 1., 1., 1., 1., 1.,\n",
      "       1., 1., 1., 1., 1., 1., 1., 1., 1., 1., 1., 1., 1., 1., 1., 1., 1.,\n",
      "       1., 1., 1., 1., 1., 1., 1., 1., 1., 1., 1., 1., 1., 1., 1., 1., 1.,\n",
      "       1., 1., 1., 1., 1., 1., 1., 1., 1., 1., 1., 1., 1., 1., 1., 1., 1.,\n",
      "       1., 1., 1., 1., 1., 1., 1., 1., 1., 1., 1., 1., 1., 1., 1., 1., 1.,\n",
      "       1., 1., 1., 1., 1., 1., 1., 1., 1., 1., 1., 1., 1., 1., 1., 1., 1.,\n",
      "       1., 1., 1., 1., 1., 1., 1., 1., 1., 1., 1., 1., 1., 1., 1., 1., 1.,\n",
      "       1., 1., 1., 1., 1., 1., 1., 0., 0., 0., 0., 0., 0., 0., 0., 0., 0.,\n",
      "       0., 0., 0., 0., 0., 0., 0., 0., 0., 0., 0., 0., 0., 0., 0., 0., 0.,\n",
      "       0., 0., 0., 0., 0., 0., 0., 0., 0., 0., 0., 0., 0., 0., 0., 0., 0.,\n",
      "       0., 0., 0., 0., 0., 0., 0., 0., 0., 0., 0., 0., 0., 0., 0., 0., 0.,\n",
      "       0., 0., 0., 0., 0., 0., 0., 0., 0., 0., 0., 0., 0., 0., 0., 0., 0.,\n",
      "       0., 0., 0., 0., 0., 0., 0., 0., 0., 0., 0., 0., 0., 0., 0., 0., 0.,\n",
      "       0., 0., 0., 0., 0., 0., 0., 0., 0., 0., 0., 0., 0., 0., 0., 0., 0.,\n",
      "       0., 0., 0., 0., 0., 0., 0., 0., 0., 0., 0., 0., 0., 0., 0., 0., 0.,\n",
      "       0., 0., 0., 0., 0., 0., 0., 0., 0., 0., 0., 0., 0., 0., 0., 0., 0.,\n",
      "       0., 0., 0., 0., 0., 0., 0., 0., 0., 0., 0., 0., 0., 0., 0., 0., 0.,\n",
      "       0., 0., 0., 0., 0., 0., 0., 0., 0., 0., 0., 0., 0., 0., 0., 0., 0.,\n",
      "       0., 0., 0., 0., 0., 0., 0., 0., 0., 0., 0., 0., 0., 0., 0., 0., 0.,\n",
      "       0., 0., 0., 0., 0., 0., 0., 0., 0., 0., 0., 0., 0., 0., 0., 0., 0.,\n",
      "       0., 0., 0., 0., 0., 0., 0., 0., 0., 0., 0., 0., 0., 0., 0., 0., 0.,\n",
      "       0., 0., 0., 0., 0., 0., 0., 0., 0., 0., 0., 0., 0., 0., 0., 0., 0.,\n",
      "       0., 0., 0., 0., 0., 0., 0., 0., 0., 0., 0., 0., 0., 0., 0., 0., 0.,\n",
      "       0., 0., 0., 0., 0., 0., 0., 0., 0., 0., 0., 0., 0., 0., 0., 0., 0.,\n",
      "       0., 0., 0., 0., 0., 0., 0., 0., 0., 0., 0., 0., 0., 0., 0., 0., 0.,\n",
      "       0., 0., 0., 0., 0., 0., 0., 0., 0., 0., 0., 0., 0., 0., 0., 0., 0.,\n",
      "       0., 0., 0., 0., 0., 0., 0., 0., 0., 0., 0., 0., 0., 0., 0., 0., 0.,\n",
      "       0., 0., 0., 0., 0., 0., 0., 0., 0., 0., 0., 0., 0., 0., 0., 0., 0.,\n",
      "       0., 0., 0., 0., 0., 0., 0., 0., 0., 0., 0., 0., 0., 0., 0., 0., 0.,\n",
      "       0., 0., 0., 0., 0., 0., 0., 0., 0., 0., 0., 0., 0., 0., 0., 0., 0.,\n",
      "       0., 0.])>, <tf.Tensor: shape=(5,), dtype=float64, numpy=array([0., 0., 1., 0., 0.])>)\n",
      "(<tf.Tensor: shape=(512,), dtype=float64, numpy=\n",
      "array([  101.,  1422.,  5095.,  4417.,   106.,   146.,  1567.,   117.,\n",
      "        1567.,   117.,  1567.,  1142., 15457., 10950.,   119.,  1122.,\n",
      "         112.,   188.,  4106.,   117., 22593., 25074.,  1183.,   117.,\n",
      "        1105.,   175., 20356.,   106.,  1451.,  1159.,   178.,  4330.,\n",
      "        1122.,   117.,   178.,  1243.,  1720.,  1133.,  1632., 21215.,\n",
      "        1116.,   106.,   102.,     0.,     0.,     0.,     0.,     0.,\n",
      "           0.,     0.,     0.,     0.,     0.,     0.,     0.,     0.,\n",
      "           0.,     0.,     0.,     0.,     0.,     0.,     0.,     0.,\n",
      "           0.,     0.,     0.,     0.,     0.,     0.,     0.,     0.,\n",
      "           0.,     0.,     0.,     0.,     0.,     0.,     0.,     0.,\n",
      "           0.,     0.,     0.,     0.,     0.,     0.,     0.,     0.,\n",
      "           0.,     0.,     0.,     0.,     0.,     0.,     0.,     0.,\n",
      "           0.,     0.,     0.,     0.,     0.,     0.,     0.,     0.,\n",
      "           0.,     0.,     0.,     0.,     0.,     0.,     0.,     0.,\n",
      "           0.,     0.,     0.,     0.,     0.,     0.,     0.,     0.,\n",
      "           0.,     0.,     0.,     0.,     0.,     0.,     0.,     0.,\n",
      "           0.,     0.,     0.,     0.,     0.,     0.,     0.,     0.,\n",
      "           0.,     0.,     0.,     0.,     0.,     0.,     0.,     0.,\n",
      "           0.,     0.,     0.,     0.,     0.,     0.,     0.,     0.,\n",
      "           0.,     0.,     0.,     0.,     0.,     0.,     0.,     0.,\n",
      "           0.,     0.,     0.,     0.,     0.,     0.,     0.,     0.,\n",
      "           0.,     0.,     0.,     0.,     0.,     0.,     0.,     0.,\n",
      "           0.,     0.,     0.,     0.,     0.,     0.,     0.,     0.,\n",
      "           0.,     0.,     0.,     0.,     0.,     0.,     0.,     0.,\n",
      "           0.,     0.,     0.,     0.,     0.,     0.,     0.,     0.,\n",
      "           0.,     0.,     0.,     0.,     0.,     0.,     0.,     0.,\n",
      "           0.,     0.,     0.,     0.,     0.,     0.,     0.,     0.,\n",
      "           0.,     0.,     0.,     0.,     0.,     0.,     0.,     0.,\n",
      "           0.,     0.,     0.,     0.,     0.,     0.,     0.,     0.,\n",
      "           0.,     0.,     0.,     0.,     0.,     0.,     0.,     0.,\n",
      "           0.,     0.,     0.,     0.,     0.,     0.,     0.,     0.,\n",
      "           0.,     0.,     0.,     0.,     0.,     0.,     0.,     0.,\n",
      "           0.,     0.,     0.,     0.,     0.,     0.,     0.,     0.,\n",
      "           0.,     0.,     0.,     0.,     0.,     0.,     0.,     0.,\n",
      "           0.,     0.,     0.,     0.,     0.,     0.,     0.,     0.,\n",
      "           0.,     0.,     0.,     0.,     0.,     0.,     0.,     0.,\n",
      "           0.,     0.,     0.,     0.,     0.,     0.,     0.,     0.,\n",
      "           0.,     0.,     0.,     0.,     0.,     0.,     0.,     0.,\n",
      "           0.,     0.,     0.,     0.,     0.,     0.,     0.,     0.,\n",
      "           0.,     0.,     0.,     0.,     0.,     0.,     0.,     0.,\n",
      "           0.,     0.,     0.,     0.,     0.,     0.,     0.,     0.,\n",
      "           0.,     0.,     0.,     0.,     0.,     0.,     0.,     0.,\n",
      "           0.,     0.,     0.,     0.,     0.,     0.,     0.,     0.,\n",
      "           0.,     0.,     0.,     0.,     0.,     0.,     0.,     0.,\n",
      "           0.,     0.,     0.,     0.,     0.,     0.,     0.,     0.,\n",
      "           0.,     0.,     0.,     0.,     0.,     0.,     0.,     0.,\n",
      "           0.,     0.,     0.,     0.,     0.,     0.,     0.,     0.,\n",
      "           0.,     0.,     0.,     0.,     0.,     0.,     0.,     0.,\n",
      "           0.,     0.,     0.,     0.,     0.,     0.,     0.,     0.,\n",
      "           0.,     0.,     0.,     0.,     0.,     0.,     0.,     0.,\n",
      "           0.,     0.,     0.,     0.,     0.,     0.,     0.,     0.,\n",
      "           0.,     0.,     0.,     0.,     0.,     0.,     0.,     0.,\n",
      "           0.,     0.,     0.,     0.,     0.,     0.,     0.,     0.,\n",
      "           0.,     0.,     0.,     0.,     0.,     0.,     0.,     0.,\n",
      "           0.,     0.,     0.,     0.,     0.,     0.,     0.,     0.,\n",
      "           0.,     0.,     0.,     0.,     0.,     0.,     0.,     0.,\n",
      "           0.,     0.,     0.,     0.,     0.,     0.,     0.,     0.,\n",
      "           0.,     0.,     0.,     0.,     0.,     0.,     0.,     0.,\n",
      "           0.,     0.,     0.,     0.,     0.,     0.,     0.,     0.,\n",
      "           0.,     0.,     0.,     0.,     0.,     0.,     0.,     0.,\n",
      "           0.,     0.,     0.,     0.,     0.,     0.,     0.,     0.,\n",
      "           0.,     0.,     0.,     0.,     0.,     0.,     0.,     0.,\n",
      "           0.,     0.,     0.,     0.,     0.,     0.,     0.,     0.,\n",
      "           0.,     0.,     0.,     0.,     0.,     0.,     0.,     0.])>, <tf.Tensor: shape=(512,), dtype=float64, numpy=\n",
      "array([1., 1., 1., 1., 1., 1., 1., 1., 1., 1., 1., 1., 1., 1., 1., 1., 1.,\n",
      "       1., 1., 1., 1., 1., 1., 1., 1., 1., 1., 1., 1., 1., 1., 1., 1., 1.,\n",
      "       1., 1., 1., 1., 1., 1., 1., 1., 1., 0., 0., 0., 0., 0., 0., 0., 0.,\n",
      "       0., 0., 0., 0., 0., 0., 0., 0., 0., 0., 0., 0., 0., 0., 0., 0., 0.,\n",
      "       0., 0., 0., 0., 0., 0., 0., 0., 0., 0., 0., 0., 0., 0., 0., 0., 0.,\n",
      "       0., 0., 0., 0., 0., 0., 0., 0., 0., 0., 0., 0., 0., 0., 0., 0., 0.,\n",
      "       0., 0., 0., 0., 0., 0., 0., 0., 0., 0., 0., 0., 0., 0., 0., 0., 0.,\n",
      "       0., 0., 0., 0., 0., 0., 0., 0., 0., 0., 0., 0., 0., 0., 0., 0., 0.,\n",
      "       0., 0., 0., 0., 0., 0., 0., 0., 0., 0., 0., 0., 0., 0., 0., 0., 0.,\n",
      "       0., 0., 0., 0., 0., 0., 0., 0., 0., 0., 0., 0., 0., 0., 0., 0., 0.,\n",
      "       0., 0., 0., 0., 0., 0., 0., 0., 0., 0., 0., 0., 0., 0., 0., 0., 0.,\n",
      "       0., 0., 0., 0., 0., 0., 0., 0., 0., 0., 0., 0., 0., 0., 0., 0., 0.,\n",
      "       0., 0., 0., 0., 0., 0., 0., 0., 0., 0., 0., 0., 0., 0., 0., 0., 0.,\n",
      "       0., 0., 0., 0., 0., 0., 0., 0., 0., 0., 0., 0., 0., 0., 0., 0., 0.,\n",
      "       0., 0., 0., 0., 0., 0., 0., 0., 0., 0., 0., 0., 0., 0., 0., 0., 0.,\n",
      "       0., 0., 0., 0., 0., 0., 0., 0., 0., 0., 0., 0., 0., 0., 0., 0., 0.,\n",
      "       0., 0., 0., 0., 0., 0., 0., 0., 0., 0., 0., 0., 0., 0., 0., 0., 0.,\n",
      "       0., 0., 0., 0., 0., 0., 0., 0., 0., 0., 0., 0., 0., 0., 0., 0., 0.,\n",
      "       0., 0., 0., 0., 0., 0., 0., 0., 0., 0., 0., 0., 0., 0., 0., 0., 0.,\n",
      "       0., 0., 0., 0., 0., 0., 0., 0., 0., 0., 0., 0., 0., 0., 0., 0., 0.,\n",
      "       0., 0., 0., 0., 0., 0., 0., 0., 0., 0., 0., 0., 0., 0., 0., 0., 0.,\n",
      "       0., 0., 0., 0., 0., 0., 0., 0., 0., 0., 0., 0., 0., 0., 0., 0., 0.,\n",
      "       0., 0., 0., 0., 0., 0., 0., 0., 0., 0., 0., 0., 0., 0., 0., 0., 0.,\n",
      "       0., 0., 0., 0., 0., 0., 0., 0., 0., 0., 0., 0., 0., 0., 0., 0., 0.,\n",
      "       0., 0., 0., 0., 0., 0., 0., 0., 0., 0., 0., 0., 0., 0., 0., 0., 0.,\n",
      "       0., 0., 0., 0., 0., 0., 0., 0., 0., 0., 0., 0., 0., 0., 0., 0., 0.,\n",
      "       0., 0., 0., 0., 0., 0., 0., 0., 0., 0., 0., 0., 0., 0., 0., 0., 0.,\n",
      "       0., 0., 0., 0., 0., 0., 0., 0., 0., 0., 0., 0., 0., 0., 0., 0., 0.,\n",
      "       0., 0., 0., 0., 0., 0., 0., 0., 0., 0., 0., 0., 0., 0., 0., 0., 0.,\n",
      "       0., 0., 0., 0., 0., 0., 0., 0., 0., 0., 0., 0., 0., 0., 0., 0., 0.,\n",
      "       0., 0.])>, <tf.Tensor: shape=(5,), dtype=float64, numpy=array([0., 0., 0., 0., 1.])>)\n",
      "(<tf.Tensor: shape=(512,), dtype=float64, numpy=\n",
      "array([  101., 20451.,  9930.,  2969.,  1188.,  2969.,  1110.,  1304.,\n",
      "        3596.,  9930.,  1106.,  1155.,  1496.,  1106.,  1103., 14878.,\n",
      "        1895.,  1524.,  5069.,   119.,  1122.,  1110.,  1103.,  3264.,\n",
      "        2251.,  1106.,  4330.,  1114.,  3420.,  3375.,  1116.,  1105.,\n",
      "        1122.,  1110., 10445.,  2008.,  1177.,  1122.,  7608.,  1218.,\n",
      "        1114.,  1251.,  3621., 10888.,   119.,  1567.,  1142.,  2969.,\n",
      "         106.,   106.,   106.,   102.,     0.,     0.,     0.,     0.,\n",
      "           0.,     0.,     0.,     0.,     0.,     0.,     0.,     0.,\n",
      "           0.,     0.,     0.,     0.,     0.,     0.,     0.,     0.,\n",
      "           0.,     0.,     0.,     0.,     0.,     0.,     0.,     0.,\n",
      "           0.,     0.,     0.,     0.,     0.,     0.,     0.,     0.,\n",
      "           0.,     0.,     0.,     0.,     0.,     0.,     0.,     0.,\n",
      "           0.,     0.,     0.,     0.,     0.,     0.,     0.,     0.,\n",
      "           0.,     0.,     0.,     0.,     0.,     0.,     0.,     0.,\n",
      "           0.,     0.,     0.,     0.,     0.,     0.,     0.,     0.,\n",
      "           0.,     0.,     0.,     0.,     0.,     0.,     0.,     0.,\n",
      "           0.,     0.,     0.,     0.,     0.,     0.,     0.,     0.,\n",
      "           0.,     0.,     0.,     0.,     0.,     0.,     0.,     0.,\n",
      "           0.,     0.,     0.,     0.,     0.,     0.,     0.,     0.,\n",
      "           0.,     0.,     0.,     0.,     0.,     0.,     0.,     0.,\n",
      "           0.,     0.,     0.,     0.,     0.,     0.,     0.,     0.,\n",
      "           0.,     0.,     0.,     0.,     0.,     0.,     0.,     0.,\n",
      "           0.,     0.,     0.,     0.,     0.,     0.,     0.,     0.,\n",
      "           0.,     0.,     0.,     0.,     0.,     0.,     0.,     0.,\n",
      "           0.,     0.,     0.,     0.,     0.,     0.,     0.,     0.,\n",
      "           0.,     0.,     0.,     0.,     0.,     0.,     0.,     0.,\n",
      "           0.,     0.,     0.,     0.,     0.,     0.,     0.,     0.,\n",
      "           0.,     0.,     0.,     0.,     0.,     0.,     0.,     0.,\n",
      "           0.,     0.,     0.,     0.,     0.,     0.,     0.,     0.,\n",
      "           0.,     0.,     0.,     0.,     0.,     0.,     0.,     0.,\n",
      "           0.,     0.,     0.,     0.,     0.,     0.,     0.,     0.,\n",
      "           0.,     0.,     0.,     0.,     0.,     0.,     0.,     0.,\n",
      "           0.,     0.,     0.,     0.,     0.,     0.,     0.,     0.,\n",
      "           0.,     0.,     0.,     0.,     0.,     0.,     0.,     0.,\n",
      "           0.,     0.,     0.,     0.,     0.,     0.,     0.,     0.,\n",
      "           0.,     0.,     0.,     0.,     0.,     0.,     0.,     0.,\n",
      "           0.,     0.,     0.,     0.,     0.,     0.,     0.,     0.,\n",
      "           0.,     0.,     0.,     0.,     0.,     0.,     0.,     0.,\n",
      "           0.,     0.,     0.,     0.,     0.,     0.,     0.,     0.,\n",
      "           0.,     0.,     0.,     0.,     0.,     0.,     0.,     0.,\n",
      "           0.,     0.,     0.,     0.,     0.,     0.,     0.,     0.,\n",
      "           0.,     0.,     0.,     0.,     0.,     0.,     0.,     0.,\n",
      "           0.,     0.,     0.,     0.,     0.,     0.,     0.,     0.,\n",
      "           0.,     0.,     0.,     0.,     0.,     0.,     0.,     0.,\n",
      "           0.,     0.,     0.,     0.,     0.,     0.,     0.,     0.,\n",
      "           0.,     0.,     0.,     0.,     0.,     0.,     0.,     0.,\n",
      "           0.,     0.,     0.,     0.,     0.,     0.,     0.,     0.,\n",
      "           0.,     0.,     0.,     0.,     0.,     0.,     0.,     0.,\n",
      "           0.,     0.,     0.,     0.,     0.,     0.,     0.,     0.,\n",
      "           0.,     0.,     0.,     0.,     0.,     0.,     0.,     0.,\n",
      "           0.,     0.,     0.,     0.,     0.,     0.,     0.,     0.,\n",
      "           0.,     0.,     0.,     0.,     0.,     0.,     0.,     0.,\n",
      "           0.,     0.,     0.,     0.,     0.,     0.,     0.,     0.,\n",
      "           0.,     0.,     0.,     0.,     0.,     0.,     0.,     0.,\n",
      "           0.,     0.,     0.,     0.,     0.,     0.,     0.,     0.,\n",
      "           0.,     0.,     0.,     0.,     0.,     0.,     0.,     0.,\n",
      "           0.,     0.,     0.,     0.,     0.,     0.,     0.,     0.,\n",
      "           0.,     0.,     0.,     0.,     0.,     0.,     0.,     0.,\n",
      "           0.,     0.,     0.,     0.,     0.,     0.,     0.,     0.,\n",
      "           0.,     0.,     0.,     0.,     0.,     0.,     0.,     0.,\n",
      "           0.,     0.,     0.,     0.,     0.,     0.,     0.,     0.,\n",
      "           0.,     0.,     0.,     0.,     0.,     0.,     0.,     0.,\n",
      "           0.,     0.,     0.,     0.,     0.,     0.,     0.,     0.,\n",
      "           0.,     0.,     0.,     0.,     0.,     0.,     0.,     0.])>, <tf.Tensor: shape=(512,), dtype=float64, numpy=\n",
      "array([1., 1., 1., 1., 1., 1., 1., 1., 1., 1., 1., 1., 1., 1., 1., 1., 1.,\n",
      "       1., 1., 1., 1., 1., 1., 1., 1., 1., 1., 1., 1., 1., 1., 1., 1., 1.,\n",
      "       1., 1., 1., 1., 1., 1., 1., 1., 1., 1., 1., 1., 1., 1., 1., 1., 1.,\n",
      "       1., 0., 0., 0., 0., 0., 0., 0., 0., 0., 0., 0., 0., 0., 0., 0., 0.,\n",
      "       0., 0., 0., 0., 0., 0., 0., 0., 0., 0., 0., 0., 0., 0., 0., 0., 0.,\n",
      "       0., 0., 0., 0., 0., 0., 0., 0., 0., 0., 0., 0., 0., 0., 0., 0., 0.,\n",
      "       0., 0., 0., 0., 0., 0., 0., 0., 0., 0., 0., 0., 0., 0., 0., 0., 0.,\n",
      "       0., 0., 0., 0., 0., 0., 0., 0., 0., 0., 0., 0., 0., 0., 0., 0., 0.,\n",
      "       0., 0., 0., 0., 0., 0., 0., 0., 0., 0., 0., 0., 0., 0., 0., 0., 0.,\n",
      "       0., 0., 0., 0., 0., 0., 0., 0., 0., 0., 0., 0., 0., 0., 0., 0., 0.,\n",
      "       0., 0., 0., 0., 0., 0., 0., 0., 0., 0., 0., 0., 0., 0., 0., 0., 0.,\n",
      "       0., 0., 0., 0., 0., 0., 0., 0., 0., 0., 0., 0., 0., 0., 0., 0., 0.,\n",
      "       0., 0., 0., 0., 0., 0., 0., 0., 0., 0., 0., 0., 0., 0., 0., 0., 0.,\n",
      "       0., 0., 0., 0., 0., 0., 0., 0., 0., 0., 0., 0., 0., 0., 0., 0., 0.,\n",
      "       0., 0., 0., 0., 0., 0., 0., 0., 0., 0., 0., 0., 0., 0., 0., 0., 0.,\n",
      "       0., 0., 0., 0., 0., 0., 0., 0., 0., 0., 0., 0., 0., 0., 0., 0., 0.,\n",
      "       0., 0., 0., 0., 0., 0., 0., 0., 0., 0., 0., 0., 0., 0., 0., 0., 0.,\n",
      "       0., 0., 0., 0., 0., 0., 0., 0., 0., 0., 0., 0., 0., 0., 0., 0., 0.,\n",
      "       0., 0., 0., 0., 0., 0., 0., 0., 0., 0., 0., 0., 0., 0., 0., 0., 0.,\n",
      "       0., 0., 0., 0., 0., 0., 0., 0., 0., 0., 0., 0., 0., 0., 0., 0., 0.,\n",
      "       0., 0., 0., 0., 0., 0., 0., 0., 0., 0., 0., 0., 0., 0., 0., 0., 0.,\n",
      "       0., 0., 0., 0., 0., 0., 0., 0., 0., 0., 0., 0., 0., 0., 0., 0., 0.,\n",
      "       0., 0., 0., 0., 0., 0., 0., 0., 0., 0., 0., 0., 0., 0., 0., 0., 0.,\n",
      "       0., 0., 0., 0., 0., 0., 0., 0., 0., 0., 0., 0., 0., 0., 0., 0., 0.,\n",
      "       0., 0., 0., 0., 0., 0., 0., 0., 0., 0., 0., 0., 0., 0., 0., 0., 0.,\n",
      "       0., 0., 0., 0., 0., 0., 0., 0., 0., 0., 0., 0., 0., 0., 0., 0., 0.,\n",
      "       0., 0., 0., 0., 0., 0., 0., 0., 0., 0., 0., 0., 0., 0., 0., 0., 0.,\n",
      "       0., 0., 0., 0., 0., 0., 0., 0., 0., 0., 0., 0., 0., 0., 0., 0., 0.,\n",
      "       0., 0., 0., 0., 0., 0., 0., 0., 0., 0., 0., 0., 0., 0., 0., 0., 0.,\n",
      "       0., 0., 0., 0., 0., 0., 0., 0., 0., 0., 0., 0., 0., 0., 0., 0., 0.,\n",
      "       0., 0.])>, <tf.Tensor: shape=(5,), dtype=float64, numpy=array([0., 0., 0., 0., 1.])>)\n"
     ]
    }
   ],
   "source": [
    "num_elements = 5  # Number of elements to view\n",
    "subset_dataset = dataset.take(num_elements)\n",
    "\n",
    "for element in subset_dataset:\n",
    "    print(element)"
   ]
  },
  {
   "cell_type": "markdown",
   "id": "0458e41f",
   "metadata": {},
   "source": [
    "This approach is an alternative to the more efficient SentimentIntensityAnalyser Approach as an attempt to classify the sentiment categorically and to check w.r.t. 3 star ratings specifically. These though few in the datset represent unsure cutomers. We can further subset just the 3 star reviews and classify them with the second sentiment set present in our dataset viz. Recommend/Don't recommend and further prepare a model that will doublecheck whether a 3-star reviewer recommends the product. In this way appropriate marketing strategies/offers may be provided to different types of users."
   ]
  },
  {
   "cell_type": "markdown",
   "id": "6dd96a2f",
   "metadata": {},
   "source": [
    "## Second Approach : Undersampling to Handle bias (overkill with 1024 neurons in hidden layer)- Was Run in Separate Notebook batch size : 16 - Training set very small with 230 samples "
   ]
  },
  {
   "cell_type": "markdown",
   "id": "0960338e",
   "metadata": {},
   "source": [
    "from sklearn.utils import shuffle\n",
    "\n",
    "#Count the number of samples for each rating\n",
    "rating_counts = new_datanow['Rating'].value_counts()\n",
    "\n",
    "#Determine the minimum count among the ratings\n",
    "min_count = rating_counts.min()\n",
    "\n",
    "#Shuffle the dataset\n",
    "new_data_shuffled = shuffle(new_datanow, random_state=42)\n",
    "\n",
    "#Undersample the dataset to have an equal number of samples for each rating\n",
    "undersampled_data = pd.concat([\n",
    "    new_data_shuffled[new_data_shuffled['Rating'] == rating].sample(min_count, random_state=42)\n",
    "    for rating in rating_counts.index\n",
    "])\n",
    "\n",
    "#Reset the index of the undersampled dataset\n",
    "undersampled_data.reset_index(drop=True, inplace=True)\n",
    "\n",
    "#Preprocess the undersampled data\n",
    "Xids_undersampled = np.zeros((len(undersampled_data), seq_lennow))\n",
    "Xmask_undersampled = np.zeros((len(undersampled_data), seq_lennow))\n",
    "\n",
    "#Initializing the BERT tokenizer\n",
    "tokenizer = BertTokenizer.from_pretrained('bert-base-cased')\n",
    "\n",
    "for i, phrase in enumerate(undersampled_data['Concat']):\n",
    "    tokens = tokenizer.encode_plus(phrase, max_length=seq_lennow, truncation=True,\n",
    "                                   padding='max_length', add_special_tokens=True,\n",
    "                                   return_tensors='tf')\n",
    "    Xids_undersampled[i, :] = tokens['input_ids']\n",
    "    Xmask_undersampled[i, :] = tokens['attention_mask']\n",
    "\n",
    "#Creating one-hot encoded labels\n",
    "arr_undersampled = undersampled_data['Rating'].values\n",
    "num_classes = len(np.unique(arr_undersampled))\n",
    "labels_undersampled = np.zeros((len(undersampled_data), num_classes))\n",
    "labels_undersampled[np.arange(len(undersampled_data)), arr_undersampled - 1] = 1\n",
    "\n",
    "\n",
    "\n",
    "dataset_undersampled = tf.data.Dataset.from_tensor_slices((Xids_undersampled, Xmask_undersampled, labels_undersampled))\n",
    "\n",
    "#Function defined to format/restructure elements of the dataset\n",
    "def map_func(input_ids, masks, labels):\n",
    "    return {'input_ids': input_ids, 'attention_mask': masks}, labels\n",
    "\n",
    "dataset_undersampled = dataset_undersampled.map(map_func)\n",
    "\n",
    "#batch_size can be varied to optimise and shuffling a buffer of elements for each batch , \n",
    "#allows the sample order is randomised to prevent bias.buffer size limited by RAM avaialble etc.\n",
    "batch_size = 16\n",
    "\n",
    "\n",
    "#Shuffle and batch the undersampled dataset\n",
    "dataset_undersampled = dataset_undersampled.shuffle(10000).batch(batch_size, drop_remainder=True)\n",
    "\n",
    "#Split the undersampled dataset into training and validation sets\n",
    "#Split to train and validate\n",
    "split = 0.9\n",
    "size_undersampled = int((Xids_undersampled.shape[0] / batch_size) * split)\n",
    "\n",
    "train_ds_undersampled = dataset_undersampled.take(size_undersampled)\n",
    "val_ds_undersampled = dataset_undersampled.skip(size_undersampled)"
   ]
  },
  {
   "cell_type": "markdown",
   "id": "b64b863e",
   "metadata": {},
   "source": [
    "Classification Report:\n",
    "              precision    recall  f1-score   support\n",
    "\n",
    "           0       0.25      0.23      0.24        87\n",
    "           1       0.19      0.21      0.20        75\n",
    "           2       0.27      0.24      0.25        92\n",
    "           3       0.20      0.24      0.22        79\n",
    "           4       0.23      0.20      0.22        83\n",
    "\n",
    "    accuracy                           0.23       416\n",
    "   macro avg       0.23      0.23      0.23       416\n",
    "weighted avg       0.23      0.23      0.23       416"
   ]
  },
  {
   "attachments": {
    "image.png": {
     "image/png": "[encoded data removed]"
    }
   },
   "cell_type": "markdown",
   "id": "d1bb3b18",
   "metadata": {},
   "source": [
    "![image.png](attachment:image.png)"
   ]
  },
  {
   "cell_type": "markdown",
   "id": "44b5189e",
   "metadata": {},
   "source": [
    "### Auto-rating of User Input and Reviews within dataset"
   ]
  },
  {
   "cell_type": "markdown",
   "id": "f9f6393a",
   "metadata": {},
   "source": [
    "Enter text: no\n",
    "1/1 [==============================] - 5s 5s/step\n",
    "Predicted class: 1\n",
    "\n",
    "Enter text: Horrible fir, will return\n",
    "1/1 [==============================] - 0s 440ms/step\n",
    "Predicted class: 1\n",
    "\n",
    "Enter text: Love it. So perfect\n",
    "1/1 [==============================] - 0s 426ms/step\n",
    "Predicted class: 5\n",
    "\n",
    "Enter text: Not sure, bought 2 items, not very impressive\n",
    "1/1 [==============================] - 0s 410ms/step\n",
    "Predicted class: 2\n",
    "\n",
    "Enter text: mediocre but like the color\n",
    "1/1 [==============================] - 0s 428ms/step\n",
    "Predicted class: 3\n",
    "\n",
    "Enter text: As another reviewer wrote.. this is not the same jean featured on the website. same cut and style but it's a light denim wash with wiskering and worn look at the knees. i called customer service to see if this was a mistake and they said there was not really a way to check it unless i exchanged them. i didnt want the same wrong jeans again so i opted out ... too bad they are cure.\n",
    "1/1 [==============================] - 0s 445ms/step\n",
    "Predicted class: 2"
   ]
  },
  {
   "cell_type": "markdown",
   "id": "c4627f76",
   "metadata": {},
   "source": [
    "## Approach 2A : Undersampling with 256 neurons in hidden layer, Batch size: 8, 461 training samples "
   ]
  },
  {
   "cell_type": "markdown",
   "id": "fb218dae",
   "metadata": {},
   "source": [
    "from sklearn.utils import shuffle\n",
    "\n",
    "#Count the number of samples for each rating\n",
    "rating_counts = new_datanow['Rating'].value_counts()\n",
    "print(rating_counts)"
   ]
  },
  {
   "cell_type": "markdown",
   "id": "d6a8ae22",
   "metadata": {},
   "source": [
    "Rating\n",
    "5    12540\n",
    "4     4908\n",
    "3     2823\n",
    "2     1549\n",
    "1      821\n",
    "Name: count, dtype: int64"
   ]
  },
  {
   "cell_type": "markdown",
   "id": "551e9934",
   "metadata": {},
   "source": [
    "#Determine the minimum count among the ratings\n",
    "min_count = rating_counts.min()\n",
    "print(min_count)"
   ]
  },
  {
   "cell_type": "markdown",
   "id": "d584eb1c",
   "metadata": {},
   "source": [
    "821"
   ]
  },
  {
   "cell_type": "code",
   "execution_count": null,
   "id": "65f96ad7",
   "metadata": {},
   "outputs": [],
   "source": [
    "\n",
    "\n",
    "# Create an empty dictionary to store maximum word count for each rating\n",
    "max_word_count_by_rating = {}\n",
    "\n",
    "# Loop over each review in the DataFrame\n",
    "for rating, review_text in zip(new_datanow['Rating'], new_datanow['Concat']):\n",
    "    # Tokenize the review text\n",
    "    tokens =tokenizerfirst.tokenize(review_text)\n",
    "    \n",
    "    # Count the number of tokens (words)\n",
    "    word_count = len(tokens)\n",
    "    \n",
    "    # Update the maximum word count for the corresponding rating\n",
    "    if rating in max_word_count_by_rating:\n",
    "        max_word_count_by_rating[rating] = max(max_word_count_by_rating[rating], word_count)\n",
    "    else:\n",
    "        max_word_count_by_rating[rating] = word_count\n",
    "\n",
    "# Print the maximum word count for each rating\n",
    "for rating, max_word_count in max_word_count_by_rating.items():\n",
    "    print(f\"Rating {rating}: Maximum Word Count = {max_word_count}\")\n"
   ]
  },
  {
   "cell_type": "code",
   "execution_count": null,
   "id": "0c904f04",
   "metadata": {},
   "outputs": [],
   "source": [
    "Rating 4: Maximum Word Count = 126\n",
    "Rating 5: Maximum Word Count = 123\n",
    "Rating 3: Maximum Word Count = 120\n",
    "Rating 2: Maximum Word Count = 119\n",
    "Rating 1: Maximum Word Count = 120"
   ]
  },
  {
   "cell_type": "markdown",
   "id": "f9af0863",
   "metadata": {},
   "source": [
    "Classification Report:\n",
    "              precision    recall  f1-score   support\n",
    "\n",
    "           0       0.20      0.17      0.18        88\n",
    "           1       0.26      0.21      0.23        91\n",
    "           2       0.10      0.15      0.12        60\n",
    "           3       0.26      0.23      0.24        92\n",
    "           4       0.25      0.31      0.28        85\n",
    "\n",
    "    accuracy                           0.22       416\n",
    "   macro avg       0.22      0.21      0.21       416\n",
    "weighted avg       0.22      0.22      0.22       416"
   ]
  },
  {
   "cell_type": "markdown",
   "id": "04ec8a75",
   "metadata": {},
   "source": [
    "## Approach 2B: Undersampling with very few -16 neurons , Batch size : 12, 307 training samples"
   ]
  },
  {
   "cell_type": "markdown",
   "id": "bceebdd4",
   "metadata": {},
   "source": [
    "Classification Report:\n",
    "              precision    recall  f1-score   support\n",
    "\n",
    "           0       0.17      0.20      0.18        74\n",
    "           1       0.27      0.26      0.26        92\n",
    "           2       0.30      0.28      0.29        89\n",
    "           3       0.19      0.16      0.18        85\n",
    "           4       0.19      0.20      0.19        80\n",
    "\n",
    "    accuracy                           0.22       420\n",
    "   macro avg       0.22      0.22      0.22       420\n",
    "weighted avg       0.23      0.22      0.22       420"
   ]
  },
  {
   "cell_type": "markdown",
   "id": "87c2a162",
   "metadata": {},
   "source": [
    "## Approach 2C: Undersampling 64 neurons , Batch size : 12, 307 training samples"
   ]
  },
  {
   "cell_type": "markdown",
   "id": "12ab6a10",
   "metadata": {},
   "source": [
    "Classification Report:\n",
    "              precision    recall  f1-score   support\n",
    "\n",
    "           0       0.23      0.25      0.24        85\n",
    "           1       0.16      0.15      0.15        79\n",
    "           2       0.22      0.22      0.22        78\n",
    "           3       0.24      0.24      0.24        90\n",
    "           4       0.18      0.17      0.18        88\n",
    "\n",
    "    accuracy                           0.21       420\n",
    "   macro avg       0.21      0.21      0.21       420\n",
    "weighted avg       0.21      0.21      0.21       420"
   ]
  },
  {
   "cell_type": "markdown",
   "id": "c9f160d0",
   "metadata": {},
   "source": [
    "## Approach 3: Oversampling 64 neurons , Batch size : 12, 4702 training samples"
   ]
  },
  {
   "cell_type": "markdown",
   "id": "8e23ef19",
   "metadata": {},
   "source": [
    "from sklearn.utils import shuffle\n",
    "from sklearn.utils import resample\n",
    "import pandas as pd\n",
    "import numpy as np\n",
    "import tensorflow as tf\n",
    "from transformers import BertTokenizer\n",
    "\n",
    "#Shuffle the dataset\n",
    "new_data_shuffled = shuffle(new_datanow, random_state=42)\n",
    "\n",
    "#Get the count of each rating class in the dataset\n",
    "rating_counts = new_data_shuffled['Rating'].value_counts()\n",
    "max_count = rating_counts.max()\n",
    "\n",
    "#Oversample the dataset to have an equal number of samples for each rating\n",
    "oversampled_data = pd.concat([\n",
    "    resample(new_data_shuffled[new_data_shuffled['Rating'] == rating], \n",
    "             replace=True, \n",
    "             n_samples=max_count, \n",
    "             random_state=42)\n",
    "    for rating in rating_counts.index\n",
    "])\n",
    "\n",
    "#Reset the index of the oversampled dataset\n",
    "oversampled_data.reset_index(drop=True, inplace=True)\n",
    "\n",
    "#Rest of the code remains the same as before...\n",
    "\n",
    "#Preprocess the oversampled data\n",
    "Xids_oversampled = np.zeros((len(oversampled_data), seq_lennow))\n",
    "Xmask_oversampled = np.zeros((len(oversampled_data), seq_lennow))\n",
    "\n",
    "#Initializing the BERT tokenizer\n",
    "tokenizer = BertTokenizer.from_pretrained('bert-base-cased')\n",
    "\n",
    "for i, phrase in enumerate(oversampled_data['Concat']):\n",
    "    tokens = tokenizer.encode_plus(phrase, max_length=seq_lennow, truncation=True,\n",
    "                                   padding='max_length', add_special_tokens=True,\n",
    "                                   return_tensors='tf')\n",
    "    Xids_oversampled[i, :] = tokens['input_ids']\n",
    "    Xmask_oversampled[i, :] = tokens['attention_mask']\n",
    "\n",
    "#Creating one-hot encoded labels\n",
    "arr_oversampled = oversampled_data['Rating'].values\n",
    "num_classes = len(np.unique(arr_oversampled))\n",
    "labels_oversampled = np.zeros((len(oversampled_data), num_classes))\n",
    "labels_oversampled[np.arange(len(oversampled_data)), arr_oversampled - 1] = 1\n",
    "\n",
    "dataset_oversampled = tf.data.Dataset.from_tensor_slices((Xids_oversampled, Xmask_oversampled, labels_oversampled))"
   ]
  },
  {
   "cell_type": "markdown",
   "id": "d378484b",
   "metadata": {},
   "source": [
    "Epoch 1/2\n",
    "  61/4702 [..............................] - ETA: 49:46:18 - loss: 0.1750 - accuracy: 0.9877"
   ]
  },
  {
   "cell_type": "markdown",
   "id": "f636712e",
   "metadata": {},
   "source": [
    "Abandoned due to long training period"
   ]
  },
  {
   "cell_type": "markdown",
   "id": "ca499927",
   "metadata": {},
   "source": [
    "## Approach 3A: Oversampling with hidden layer of 64 neurons , Batch size : 12, 1175 training samples- smaller training set"
   ]
  },
  {
   "cell_type": "markdown",
   "id": "fbb288da",
   "metadata": {},
   "source": [
    "Epoch 3/4\n",
    "1175/1175 [==============================] - 10231s 9s/step - loss: 0.4831 - accuracy: 0.8184 - val_loss: 0.3651 - val_accuracy: 0.8620\n",
    "Epoch 4/4\n",
    "1175/1175 [==============================] - 7680s 7s/step - loss: 0.3351 - accuracy: 0.8805 - val_loss: 0.1982 - val_accuracy: 0.9364"
   ]
  },
  {
   "cell_type": "markdown",
   "id": "5bfe5cbd",
   "metadata": {},
   "source": [
    "Classification Report:\n",
    "              precision    recall  f1-score   support\n",
    "\n",
    "           0       0.26      0.28      0.27       403\n",
    "           1       0.19      0.18      0.19       293\n",
    "           2       0.19      0.19      0.19       286\n",
    "           3       0.20      0.20      0.20       307\n",
    "           4       0.19      0.18      0.18       283\n",
    "\n",
    "    accuracy                           0.21      1572\n",
    "   macro avg       0.20      0.20      0.20      1572\n",
    "weighted avg       0.21      0.21      0.21      1572\n"
   ]
  }
 ],
 "metadata": {
  "kernelspec": {
   "display_name": "Python (tf)",
   "language": "python",
   "name": "tf"
  },
  "language_info": {
   "codemirror_mode": {
    "name": "ipython",
    "version": 3
   },
   "file_extension": ".py",
   "mimetype": "text/x-python",
   "name": "python",
   "nbconvert_exporter": "python",
   "pygments_lexer": "ipython3",
   "version": "3.10.11"
  }
 },
 "nbformat": 4,
 "nbformat_minor": 5
}
